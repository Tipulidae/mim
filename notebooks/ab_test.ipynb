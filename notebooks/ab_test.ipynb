{
 "cells": [
  {
   "cell_type": "code",
   "execution_count": 1,
   "metadata": {},
   "outputs": [],
   "source": [
    "import sys\n",
    "import numpy as np\n",
    "import pandas as pd\n",
    "import seaborn as sns\n",
    "import tensorflow as tf\n",
    "\n",
    "sys.path.append('..')\n",
    "\n",
    "from mim.cross_validation import ChronologicalSplit\n",
    "from mim.experiments.ab_glucose import ABGlucose\n",
    "import mim.extractors.ab_json as ab_json\n",
    "import mim.models.ab_nn as ab_nn"
   ]
  },
  {
   "cell_type": "code",
   "execution_count": 2,
   "metadata": {},
   "outputs": [],
   "source": [
    "specification = {\n",
    "    \"labels\": {\"target\": \"label-index+30d-ami+death-30d\"},\n",
    "    \"index\": {\"json_train\": \"/home/sapfo/andersb/PycharmProjects/Expect/json_data/pontus_glukos/hbg+lund-train.json.gz\"},\n",
    "    \"features\":{\n",
    "        \"gender\",\n",
    "        \"age\",\n",
    "        \"bl-Glukos\", \"bl-TnT\", \"bl-Krea\", \"bl-Hb\"\n",
    "    },\n",
    "}\n",
    "\n",
    "experiment = ABGlucose.KERAS_LR_BLOOD_BL"
   ]
  },
  {
   "cell_type": "code",
   "execution_count": 3,
   "metadata": {},
   "outputs": [
    {
     "name": "stdout",
     "output_type": "stream",
     "text": [
      "{'gender', 'bl-Glukos', 'age', 'bl-TnT', 'bl-Krea', 'bl-Hb'}\n",
      "['age', 'bl-Glukos', 'bl-Hb', 'bl-Krea', 'bl-TnT']\n",
      "['gender']\n"
     ]
    }
   ],
   "source": [
    "development, hold_out = experiment.get_data()"
   ]
  },
  {
   "cell_type": "code",
   "execution_count": 4,
   "metadata": {},
   "outputs": [],
   "source": [
    "train, val = next(experiment.cross_validation.split(development))"
   ]
  },
  {
   "cell_type": "code",
   "execution_count": 5,
   "metadata": {},
   "outputs": [],
   "source": [
    "keras_model = ab_nn.ab_simple_lr(train)"
   ]
  },
  {
   "cell_type": "code",
   "execution_count": 6,
   "metadata": {},
   "outputs": [
    {
     "name": "stdout",
     "output_type": "stream",
     "text": [
      "Model: \"functional_1\"\n",
      "__________________________________________________________________________________________________\n",
      "Layer (type)                    Output Shape         Param #     Connected to                     \n",
      "==================================================================================================\n",
      "categorical (InputLayer)        [(None, 2)]          0                                            \n",
      "__________________________________________________________________________________________________\n",
      "numeric (InputLayer)            [(None, 5)]          0                                            \n",
      "__________________________________________________________________________________________________\n",
      "concatenate (Concatenate)       (None, 7)            0           categorical[0][0]                \n",
      "                                                                 numeric[0][0]                    \n",
      "__________________________________________________________________________________________________\n",
      "dense (Dense)                   (None, 1)            8           concatenate[0][0]                \n",
      "==================================================================================================\n",
      "Total params: 8\n",
      "Trainable params: 8\n",
      "Non-trainable params: 0\n",
      "__________________________________________________________________________________________________\n"
     ]
    }
   ],
   "source": [
    "keras_model.summary()"
   ]
  },
  {
   "cell_type": "code",
   "execution_count": 7,
   "metadata": {},
   "outputs": [
    {
     "data": {
      "text/plain": [
       "1191"
      ]
     },
     "execution_count": 7,
     "metadata": {},
     "output_type": "execute_result"
    }
   ],
   "source": [
    "len(hold_out)"
   ]
  },
  {
   "cell_type": "code",
   "execution_count": 8,
   "metadata": {},
   "outputs": [],
   "source": [
    "compile_args = {\n",
    "    'optimizer': 'sgd',\n",
    "    'loss': 'binary_crossentropy',\n",
    "    'metrics': ['accuracy', tf.keras.metrics.AUC()]\n",
    "}\n",
    "keras_model.compile(**compile_args)"
   ]
  },
  {
   "cell_type": "code",
   "execution_count": 9,
   "metadata": {
    "scrolled": false
   },
   "outputs": [
    {
     "name": "stdout",
     "output_type": "stream",
     "text": [
      "Epoch 1/10\n",
      "75/75 [==============================] - 1s 17ms/step - loss: 8.6275 - accuracy: 0.8532 - auc: 0.6048 - val_loss: 11.6335 - val_accuracy: 0.9203 - val_auc: 0.5526\n",
      "Epoch 2/10\n",
      "75/75 [==============================] - 1s 11ms/step - loss: 6.1761 - accuracy: 0.8745 - auc: 0.6214 - val_loss: 3.9156 - val_accuracy: 0.9262 - val_auc: 0.6140\n",
      "Epoch 3/10\n",
      "75/75 [==============================] - 1s 14ms/step - loss: 6.8445 - accuracy: 0.8653 - auc: 0.5937 - val_loss: 2.6919 - val_accuracy: 0.8796 - val_auc: 0.8343\n",
      "Epoch 4/10\n",
      "75/75 [==============================] - 1s 13ms/step - loss: 7.4007 - accuracy: 0.8637 - auc: 0.6085 - val_loss: 14.0714 - val_accuracy: 0.9194 - val_auc: 0.5476\n",
      "Epoch 5/10\n",
      "75/75 [==============================] - 1s 13ms/step - loss: 6.6530 - accuracy: 0.8800 - auc: 0.6194 - val_loss: 3.7948 - val_accuracy: 0.9254 - val_auc: 0.6147\n",
      "Epoch 6/10\n",
      "75/75 [==============================] - 1s 13ms/step - loss: 6.7426 - accuracy: 0.8737 - auc: 0.6167 - val_loss: 2.6065 - val_accuracy: 0.8745 - val_auc: 0.8365\n",
      "Epoch 7/10\n",
      "75/75 [==============================] - 1s 12ms/step - loss: 6.7272 - accuracy: 0.8695 - auc: 0.6244 - val_loss: 3.6881 - val_accuracy: 0.9262 - val_auc: 0.6139\n",
      "Epoch 8/10\n",
      "75/75 [==============================] - 1s 12ms/step - loss: 7.0431 - accuracy: 0.8737 - auc: 0.6250 - val_loss: 2.4397 - val_accuracy: 0.9279 - val_auc: 0.6965\n",
      "Epoch 9/10\n",
      "75/75 [==============================] - 1s 12ms/step - loss: 7.6502 - accuracy: 0.8653 - auc: 0.6162 - val_loss: 15.4606 - val_accuracy: 0.9186 - val_auc: 0.5476\n",
      "Epoch 10/10\n",
      "75/75 [==============================] - 1s 14ms/step - loss: 6.1066 - accuracy: 0.8812 - auc: 0.6258 - val_loss: 4.6742 - val_accuracy: 0.9220 - val_auc: 0.5808\n"
     ]
    },
    {
     "data": {
      "text/plain": [
       "<tensorflow.python.keras.callbacks.History at 0x7f456f9f6f10>"
      ]
     },
     "execution_count": 9,
     "metadata": {},
     "output_type": "execute_result"
    }
   ],
   "source": [
    "epochs=experiment.epochs\n",
    "batch_size=experiment.batch_size\n",
    "\n",
    "x = train['x'].as_dataset\n",
    "y = train['y'].as_dataset\n",
    "\n",
    "random_state = experiment.random_state\n",
    "np.random.seed(random_state)\n",
    "tf.random.set_seed(random_state)\n",
    "\n",
    "v = tf.data.Dataset.zip((val['x'].as_dataset, val['y'].as_dataset)).batch(batch_size).prefetch(3)\n",
    "\n",
    "keras_model.fit(x=tf.data.Dataset.zip((x, y)).batch(batch_size).prefetch(3), \n",
    "                validation_data=v,\n",
    "                epochs=epochs)"
   ]
  },
  {
   "cell_type": "code",
   "execution_count": null,
   "metadata": {},
   "outputs": [],
   "source": []
  }
 ],
 "metadata": {
  "kernelspec": {
   "display_name": "Python 3",
   "language": "python",
   "name": "python3"
  },
  "language_info": {
   "codemirror_mode": {
    "name": "ipython",
    "version": 3
   },
   "file_extension": ".py",
   "mimetype": "text/x-python",
   "name": "python",
   "nbconvert_exporter": "python",
   "pygments_lexer": "ipython3",
   "version": "3.8.5"
  }
 },
 "nbformat": 4,
 "nbformat_minor": 4
}
