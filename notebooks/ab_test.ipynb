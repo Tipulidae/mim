{
 "cells": [
  {
   "cell_type": "code",
   "execution_count": 1,
   "metadata": {},
   "outputs": [],
   "source": [
    "import sys\n",
    "import numpy as np\n",
    "import pandas as pd\n",
    "import seaborn as sns\n",
    "import tensorflow as tf\n",
    "\n",
    "sys.path.append('..')\n",
    "\n",
    "from mim.experiments.ab_glucose import ABGlucose\n",
    "import mim.extractors.ab_json as ab_json\n",
    "import mim.models.ab_nn as ab_nn\n",
    "from mim.config import GLUCOSE_ROOT"
   ]
  },
  {
   "cell_type": "code",
   "execution_count": 2,
   "metadata": {},
   "outputs": [],
   "source": [
    "specification = {\n",
    "    \"labels\": {\"target\": \"label-index+30d-ami+death-30d\"},\n",
    "    \"index\": {\"json_train\": \"/home/sapfo/andersb/PycharmProjects/Expect/json_data/pontus_glukos/hbg+lund-train.json.gz\"},\n",
    "    \"features\":{\n",
    "        \"gender\",\n",
    "        \"age\",\n",
    "        \"bl-Glukos\", \"bl-TnT\", \"bl-Krea\", \"bl-Hb\"\n",
    "    },\n",
    "}\n",
    "\n",
    "experiment = ABGlucose.KERAS_LR_BLOOD_BL"
   ]
  },
  {
   "cell_type": "code",
   "execution_count": 4,
   "metadata": {},
   "outputs": [
    {
     "name": "stdout",
     "output_type": "stream",
     "text": [
      "{'bl-TnT', 'bl-Hb', 'bl-Glukos', 'bl-Krea', 'age', 'gender'}\n",
      "['age', 'bl-Glukos', 'bl-Hb', 'bl-Krea', 'bl-TnT']\n",
      "['gender']\n",
      "{'bl-TnT', 'bl-Hb', 'bl-Glukos', 'bl-Krea', 'age', 'gender'}\n",
      "['age', 'bl-Glukos', 'bl-Hb', 'bl-Krea', 'bl-TnT']\n",
      "['gender']\n"
     ]
    }
   ],
   "source": [
    "dp = experiment.get_data()"
   ]
  },
  {
   "cell_type": "code",
   "execution_count": 10,
   "metadata": {},
   "outputs": [],
   "source": [
    "train = dp.get_set(\"train\")"
   ]
  },
  {
   "cell_type": "code",
   "execution_count": 12,
   "metadata": {},
   "outputs": [],
   "source": [
    "from mim.extractors.extractor import SingleContainerLinearSplitProvider"
   ]
  },
  {
   "cell_type": "code",
   "execution_count": 14,
   "metadata": {},
   "outputs": [],
   "source": [
    "sclp = SingleContainerLinearSplitProvider(train, **{\"train_frac\": 0.6, \"val_frac\": 0.2, \"test_frac\": 0.2})"
   ]
  },
  {
   "cell_type": "code",
   "execution_count": 17,
   "metadata": {},
   "outputs": [
    {
     "data": {
      "text/plain": [
       "<mim.extractors.extractor.Container at 0x7f6fbcef3190>"
      ]
     },
     "execution_count": 17,
     "metadata": {},
     "output_type": "execute_result"
    }
   ],
   "source": [
    "train.lazy_slice(range(500))"
   ]
  },
  {
   "cell_type": "code",
   "execution_count": null,
   "metadata": {},
   "outputs": [],
   "source": [
    "train, val = next(experiment.cross_validation.split(development))"
   ]
  },
  {
   "cell_type": "code",
   "execution_count": null,
   "metadata": {},
   "outputs": [],
   "source": [
    "keras_model = ab_nn.ab_simple_lr(train)"
   ]
  },
  {
   "cell_type": "code",
   "execution_count": null,
   "metadata": {},
   "outputs": [],
   "source": [
    "keras_model.summary()"
   ]
  },
  {
   "cell_type": "code",
   "execution_count": null,
   "metadata": {},
   "outputs": [],
   "source": [
    "len(hold_out)"
   ]
  },
  {
   "cell_type": "code",
   "execution_count": null,
   "metadata": {},
   "outputs": [],
   "source": [
    "compile_args = {\n",
    "    'optimizer': 'sgd',\n",
    "    'loss': 'binary_crossentropy',\n",
    "    'metrics': ['accuracy', tf.keras.metrics.AUC()]\n",
    "}\n",
    "keras_model.compile(**compile_args)"
   ]
  },
  {
   "cell_type": "code",
   "execution_count": null,
   "metadata": {
    "scrolled": false
   },
   "outputs": [],
   "source": [
    "epochs=experiment.epochs\n",
    "batch_size=experiment.batch_size\n",
    "\n",
    "x = train['x'].as_dataset\n",
    "y = train['y'].as_dataset\n",
    "\n",
    "random_state = experiment.random_state\n",
    "np.random.seed(random_state)\n",
    "tf.random.set_seed(random_state)\n",
    "\n",
    "v = tf.data.Dataset.zip((val['x'].as_dataset, val['y'].as_dataset)).batch(batch_size).prefetch(3)\n",
    "\n",
    "keras_model.fit(x=tf.data.Dataset.zip((x, y)).batch(batch_size).prefetch(3), \n",
    "                validation_data=v,\n",
    "                epochs=epochs)"
   ]
  },
  {
   "cell_type": "code",
   "execution_count": null,
   "metadata": {},
   "outputs": [],
   "source": [
    "numeric = train['x']['numeric'][:2].copy()"
   ]
  },
  {
   "cell_type": "code",
   "execution_count": null,
   "metadata": {},
   "outputs": [],
   "source": []
  }
 ],
 "metadata": {
  "kernelspec": {
   "display_name": "Python 3",
   "language": "python",
   "name": "python3"
  },
  "language_info": {
   "codemirror_mode": {
    "name": "ipython",
    "version": 3
   },
   "file_extension": ".py",
   "mimetype": "text/x-python",
   "name": "python",
   "nbconvert_exporter": "python",
   "pygments_lexer": "ipython3",
   "version": "3.8.5"
  }
 },
 "nbformat": 4,
 "nbformat_minor": 4
}
