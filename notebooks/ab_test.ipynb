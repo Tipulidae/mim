{
 "cells": [
  {
   "cell_type": "code",
   "execution_count": 40,
   "metadata": {},
   "outputs": [],
   "source": [
    "import sys\n",
    "import numpy as np\n",
    "import pandas as pd\n",
    "import seaborn as sns\n",
    "import tensorflow as tf\n",
    "\n",
    "sys.path.append('..')\n",
    "\n",
    "from mim.cross_validation import ChronologicalSplit\n",
    "import mim.extractors.ab_json as ab_json\n",
    "import mim.models.ab_nn as ab_nn"
   ]
  },
  {
   "cell_type": "code",
   "execution_count": 23,
   "metadata": {},
   "outputs": [],
   "source": [
    "specification = {\n",
    "    \"labels\": {\"target\": \"label-index+30d-ami+death-30d\"},\n",
    "    \"index\": {\"json_train\": \"/home/sapfo/andersb/PycharmProjects/Expect/json_data/pontus_glukos/hbg+lund-train.json.gz\"},\n",
    "    \"features\":{\n",
    "        \"gender\",\n",
    "        \"age\",\n",
    "        \"bl-Glukos\", \"bl-TnT\", \"bl-Krea\", \"bl-Hb\"\n",
    "    },\n",
    "}\n",
    "\n",
    "params={\n",
    "    #'model': ab_nn.ab_simple_lr,\n",
    "    'epochs': 100,\n",
    "    'batch_size': 32,\n",
    "            # 'learning_rate': 0.01,\n",
    "    'input_shape': {'numeric': (5,),\n",
    "                    'categorical': (2,)},\n",
    "    'compile_args': {'optimizer': 'sgd',\n",
    "                     'loss': 'binary_crossentropy',\n",
    "                     'metrics': ['accuracy', tf.keras.metrics.AUC()]}\n",
    "}\n",
    "\n",
    "test_size = 0.25\n"
   ]
  },
  {
   "cell_type": "code",
   "execution_count": 3,
   "metadata": {},
   "outputs": [],
   "source": [
    "extractor = ab_json.ABJSONExtractor(specification)"
   ]
  },
  {
   "cell_type": "code",
   "execution_count": 4,
   "metadata": {},
   "outputs": [
    {
     "name": "stdout",
     "output_type": "stream",
     "text": [
      "{'gender', 'bl-Hb', 'age', 'bl-Krea', 'bl-TnT', 'bl-Glukos'}\n",
      "['age', 'bl-Glukos', 'bl-Hb', 'bl-Krea', 'bl-TnT']\n",
      "['gender']\n"
     ]
    }
   ],
   "source": [
    "q = extractor.get_data()"
   ]
  },
  {
   "cell_type": "code",
   "execution_count": 5,
   "metadata": {},
   "outputs": [
    {
     "name": "stdout",
     "output_type": "stream",
     "text": [
      "['age', 'bl-Glukos', 'bl-Krea', 'bl-TnT', 'bl-Hb']\n"
     ]
    }
   ],
   "source": [
    "print(ab_json.NUMERICAL_FEATURES)"
   ]
  },
  {
   "cell_type": "code",
   "execution_count": 10,
   "metadata": {},
   "outputs": [
    {
     "data": {
      "text/plain": [
       "array([[ 60.94726027,   9.8       , 131.        , 115.        ,\n",
       "         26.        ],\n",
       "       [ 86.20945205,   6.7       , 113.        ,  76.        ,\n",
       "         23.        ],\n",
       "       [ 57.30726027,   6.4       , 141.        ,  84.        ,\n",
       "          7.        ],\n",
       "       [ 62.74849315,   6.7       , 128.        ,  77.        ,\n",
       "          7.        ],\n",
       "       [ 47.76753425,   5.6       , 152.        ,  88.        ,\n",
       "          4.        ]])"
      ]
     },
     "execution_count": 10,
     "metadata": {},
     "output_type": "execute_result"
    }
   ],
   "source": [
    "q['x']['numeric']"
   ]
  },
  {
   "cell_type": "code",
   "execution_count": 47,
   "metadata": {},
   "outputs": [
    {
     "data": {
      "text/plain": [
       "dict"
      ]
     },
     "execution_count": 47,
     "metadata": {},
     "output_type": "execute_result"
    }
   ],
   "source": [
    "type(q['x'].shape)"
   ]
  },
  {
   "cell_type": "code",
   "execution_count": 39,
   "metadata": {},
   "outputs": [],
   "source": [
    "train, val = next(ChronologicalSplit(test_size).split(q))"
   ]
  },
  {
   "cell_type": "code",
   "execution_count": 13,
   "metadata": {},
   "outputs": [],
   "source": [
    "keras_model = ab_nn.ab_simple_lr(q['x'].shape)"
   ]
  },
  {
   "cell_type": "code",
   "execution_count": 14,
   "metadata": {},
   "outputs": [
    {
     "name": "stdout",
     "output_type": "stream",
     "text": [
      "Model: \"functional_1\"\n",
      "__________________________________________________________________________________________________\n",
      "Layer (type)                    Output Shape         Param #     Connected to                     \n",
      "==================================================================================================\n",
      "categorical (InputLayer)        [(None, 2)]          0                                            \n",
      "__________________________________________________________________________________________________\n",
      "numeric (InputLayer)            [(None, 5)]          0                                            \n",
      "__________________________________________________________________________________________________\n",
      "concatenate (Concatenate)       (None, 7)            0           categorical[0][0]                \n",
      "                                                                 numeric[0][0]                    \n",
      "__________________________________________________________________________________________________\n",
      "dense (Dense)                   (None, 1)            8           concatenate[0][0]                \n",
      "==================================================================================================\n",
      "Total params: 8\n",
      "Trainable params: 8\n",
      "Non-trainable params: 0\n",
      "__________________________________________________________________________________________________\n"
     ]
    }
   ],
   "source": [
    "keras_model.summary()"
   ]
  },
  {
   "cell_type": "code",
   "execution_count": 20,
   "metadata": {},
   "outputs": [],
   "source": [
    "keras_model.compile(**params['compile_args'])"
   ]
  },
  {
   "cell_type": "code",
   "execution_count": 43,
   "metadata": {},
   "outputs": [
    {
     "name": "stdout",
     "output_type": "stream",
     "text": [
      "Epoch 1/100\n",
      "149/149 [==============================] - 1s 7ms/step - loss: 7.2926 - accuracy: 0.8803\n",
      "Epoch 2/100\n",
      "149/149 [==============================] - 1s 7ms/step - loss: 6.4349 - accuracy: 0.8702\n",
      "Epoch 3/100\n",
      "149/149 [==============================] - 1s 7ms/step - loss: 6.5441 - accuracy: 0.8767\n",
      "Epoch 4/100\n",
      "149/149 [==============================] - 1s 8ms/step - loss: 6.9154 - accuracy: 0.8759\n",
      "Epoch 5/100\n",
      "149/149 [==============================] - 1s 8ms/step - loss: 6.9272 - accuracy: 0.8719\n",
      "Epoch 6/100\n",
      "149/149 [==============================] - 1s 8ms/step - loss: 6.3853 - accuracy: 0.8736\n",
      "Epoch 7/100\n",
      "149/149 [==============================] - 1s 8ms/step - loss: 5.7996 - accuracy: 0.8815\n",
      "Epoch 8/100\n",
      "149/149 [==============================] - 1s 8ms/step - loss: 7.0777 - accuracy: 0.8712\n",
      "Epoch 9/100\n",
      "149/149 [==============================] - 1s 7ms/step - loss: 6.1578 - accuracy: 0.8794\n",
      "Epoch 10/100\n",
      "149/149 [==============================] - 1s 8ms/step - loss: 6.6725 - accuracy: 0.8784\n",
      "Epoch 11/100\n",
      "149/149 [==============================] - 1s 7ms/step - loss: 6.9270 - accuracy: 0.8744\n",
      "Epoch 12/100\n",
      "149/149 [==============================] - 1s 7ms/step - loss: 6.7418 - accuracy: 0.8700\n",
      "Epoch 13/100\n",
      "149/149 [==============================] - 1s 8ms/step - loss: 6.4498 - accuracy: 0.8761\n",
      "Epoch 14/100\n",
      "149/149 [==============================] - 1s 7ms/step - loss: 6.3530 - accuracy: 0.8723\n",
      "Epoch 15/100\n",
      "149/149 [==============================] - 1s 7ms/step - loss: 6.3929 - accuracy: 0.8769\n",
      "Epoch 16/100\n",
      "149/149 [==============================] - 1s 8ms/step - loss: 6.7895 - accuracy: 0.8784\n",
      "Epoch 17/100\n",
      "149/149 [==============================] - 1s 8ms/step - loss: 6.7327 - accuracy: 0.8742\n",
      "Epoch 18/100\n",
      "149/149 [==============================] - 1s 8ms/step - loss: 6.2917 - accuracy: 0.8771\n",
      "Epoch 19/100\n",
      "149/149 [==============================] - 1s 8ms/step - loss: 6.3578 - accuracy: 0.8712\n",
      "Epoch 20/100\n",
      "149/149 [==============================] - 1s 8ms/step - loss: 6.4785 - accuracy: 0.8778\n",
      "Epoch 21/100\n",
      "149/149 [==============================] - 1s 8ms/step - loss: 6.6216 - accuracy: 0.8744\n",
      "Epoch 22/100\n",
      "149/149 [==============================] - 1s 8ms/step - loss: 6.3691 - accuracy: 0.8719\n",
      "Epoch 23/100\n",
      "149/149 [==============================] - 1s 8ms/step - loss: 6.6226 - accuracy: 0.8794\n",
      "Epoch 24/100\n",
      "149/149 [==============================] - 1s 9ms/step - loss: 6.6900 - accuracy: 0.8746\n",
      "Epoch 25/100\n",
      "149/149 [==============================] - 1s 8ms/step - loss: 6.6044 - accuracy: 0.8761\n",
      "Epoch 26/100\n",
      "149/149 [==============================] - 1s 8ms/step - loss: 7.3073 - accuracy: 0.8681\n",
      "Epoch 27/100\n",
      "149/149 [==============================] - 1s 7ms/step - loss: 6.5434 - accuracy: 0.8723\n",
      "Epoch 28/100\n",
      "149/149 [==============================] - 1s 8ms/step - loss: 6.6238 - accuracy: 0.8773\n",
      "Epoch 29/100\n",
      "149/149 [==============================] - 1s 8ms/step - loss: 6.7009 - accuracy: 0.8738\n",
      "Epoch 30/100\n",
      "149/149 [==============================] - 1s 9ms/step - loss: 6.1477 - accuracy: 0.8780\n",
      "Epoch 31/100\n",
      "149/149 [==============================] - 1s 9ms/step - loss: 6.1237 - accuracy: 0.8771\n",
      "Epoch 32/100\n",
      "149/149 [==============================] - 1s 9ms/step - loss: 6.6970 - accuracy: 0.8738\n",
      "Epoch 33/100\n",
      "149/149 [==============================] - 1s 10ms/step - loss: 6.4369 - accuracy: 0.8733\n",
      "Epoch 34/100\n",
      "149/149 [==============================] - 1s 9ms/step - loss: 6.1963 - accuracy: 0.8761\n",
      "Epoch 35/100\n",
      "149/149 [==============================] - 1s 9ms/step - loss: 5.9272 - accuracy: 0.8763\n",
      "Epoch 36/100\n",
      "149/149 [==============================] - 1s 10ms/step - loss: 7.3111 - accuracy: 0.8748\n",
      "Epoch 37/100\n",
      "149/149 [==============================] - 2s 12ms/step - loss: 6.5914 - accuracy: 0.8744\n",
      "Epoch 38/100\n",
      "149/149 [==============================] - 1s 9ms/step - loss: 6.6552 - accuracy: 0.8719\n",
      "Epoch 39/100\n",
      "149/149 [==============================] - 1s 9ms/step - loss: 6.3821 - accuracy: 0.8792\n",
      "Epoch 40/100\n",
      "149/149 [==============================] - 1s 9ms/step - loss: 6.6843 - accuracy: 0.8752\n",
      "Epoch 41/100\n",
      "149/149 [==============================] - 2s 12ms/step - loss: 7.0120 - accuracy: 0.8696\n",
      "Epoch 42/100\n",
      "149/149 [==============================] - 2s 11ms/step - loss: 5.9290 - accuracy: 0.8786\n",
      "Epoch 43/100\n",
      "149/149 [==============================] - 2s 13ms/step - loss: 6.5712 - accuracy: 0.8744\n",
      "Epoch 44/100\n",
      "149/149 [==============================] - 2s 11ms/step - loss: 6.6377 - accuracy: 0.8767\n",
      "Epoch 45/100\n",
      "149/149 [==============================] - 2s 10ms/step - loss: 6.7497 - accuracy: 0.8740\n",
      "Epoch 46/100\n",
      "149/149 [==============================] - 1s 9ms/step - loss: 6.6272 - accuracy: 0.8757\n",
      "Epoch 47/100\n",
      "149/149 [==============================] - 2s 13ms/step - loss: 6.5015 - accuracy: 0.8702\n",
      "Epoch 48/100\n",
      "149/149 [==============================] - 2s 11ms/step - loss: 5.5844 - accuracy: 0.8796\n",
      "Epoch 49/100\n",
      "149/149 [==============================] - 1s 9ms/step - loss: 6.5655 - accuracy: 0.8746\n",
      "Epoch 50/100\n",
      "149/149 [==============================] - 1s 8ms/step - loss: 6.0191 - accuracy: 0.8799\n",
      "Epoch 51/100\n",
      "149/149 [==============================] - 1s 8ms/step - loss: 6.4068 - accuracy: 0.8763\n",
      "Epoch 52/100\n",
      "149/149 [==============================] - 1s 9ms/step - loss: 6.1900 - accuracy: 0.8792\n",
      "Epoch 53/100\n",
      "149/149 [==============================] - 2s 10ms/step - loss: 6.6965 - accuracy: 0.8733\n",
      "Epoch 54/100\n",
      "149/149 [==============================] - 1s 10ms/step - loss: 6.6382 - accuracy: 0.8750\n",
      "Epoch 55/100\n",
      "149/149 [==============================] - 1s 10ms/step - loss: 6.7357 - accuracy: 0.8708\n",
      "Epoch 56/100\n",
      "149/149 [==============================] - 2s 10ms/step - loss: 6.6168 - accuracy: 0.8740\n",
      "Epoch 57/100\n",
      "149/149 [==============================] - 2s 10ms/step - loss: 6.7324 - accuracy: 0.8727\n",
      "Epoch 58/100\n",
      "149/149 [==============================] - 2s 10ms/step - loss: 6.3719 - accuracy: 0.8767\n",
      "Epoch 59/100\n",
      "149/149 [==============================] - 2s 14ms/step - loss: 6.3474 - accuracy: 0.8729\n",
      "Epoch 60/100\n",
      "149/149 [==============================] - 2s 10ms/step - loss: 7.0503 - accuracy: 0.8765\n",
      "Epoch 61/100\n",
      "149/149 [==============================] - 2s 11ms/step - loss: 6.3129 - accuracy: 0.8771\n",
      "Epoch 62/100\n",
      "149/149 [==============================] - 2s 11ms/step - loss: 5.5067 - accuracy: 0.8765\n",
      "Epoch 63/100\n",
      "149/149 [==============================] - 2s 11ms/step - loss: 6.4586 - accuracy: 0.8765\n",
      "Epoch 64/100\n",
      "149/149 [==============================] - 2s 11ms/step - loss: 6.4857 - accuracy: 0.8765\n",
      "Epoch 65/100\n",
      "149/149 [==============================] - 2s 10ms/step - loss: 6.5665 - accuracy: 0.8752\n",
      "Epoch 66/100\n",
      "149/149 [==============================] - 2s 11ms/step - loss: 6.8943 - accuracy: 0.8782\n",
      "Epoch 67/100\n",
      "149/149 [==============================] - 1s 10ms/step - loss: 6.5673 - accuracy: 0.8729\n",
      "Epoch 68/100\n",
      "149/149 [==============================] - 1s 9ms/step - loss: 6.9006 - accuracy: 0.8750\n",
      "Epoch 69/100\n",
      "149/149 [==============================] - 1s 10ms/step - loss: 6.0560 - accuracy: 0.8742\n",
      "Epoch 70/100\n",
      "149/149 [==============================] - 1s 9ms/step - loss: 6.1177 - accuracy: 0.8761\n",
      "Epoch 71/100\n",
      "149/149 [==============================] - 2s 11ms/step - loss: 5.7313 - accuracy: 0.8784\n",
      "Epoch 72/100\n",
      "149/149 [==============================] - 2s 15ms/step - loss: 6.7804 - accuracy: 0.8742\n",
      "Epoch 73/100\n",
      "149/149 [==============================] - 2s 10ms/step - loss: 6.3665 - accuracy: 0.8761\n",
      "Epoch 74/100\n",
      "149/149 [==============================] - 2s 12ms/step - loss: 6.6412 - accuracy: 0.8763\n",
      "Epoch 75/100\n",
      "149/149 [==============================] - 1s 9ms/step - loss: 6.4459 - accuracy: 0.8723\n",
      "Epoch 76/100\n",
      "149/149 [==============================] - 2s 11ms/step - loss: 7.0441 - accuracy: 0.8752\n",
      "Epoch 77/100\n",
      "149/149 [==============================] - 1s 7ms/step - loss: 6.4469 - accuracy: 0.8754\n",
      "Epoch 78/100\n",
      "149/149 [==============================] - 1s 8ms/step - loss: 6.9655 - accuracy: 0.8731\n",
      "Epoch 79/100\n",
      "149/149 [==============================] - 2s 11ms/step - loss: 6.5094 - accuracy: 0.8719\n",
      "Epoch 80/100\n",
      "149/149 [==============================] - 1s 10ms/step - loss: 5.8842 - accuracy: 0.8706\n",
      "Epoch 81/100\n"
     ]
    },
    {
     "name": "stdout",
     "output_type": "stream",
     "text": [
      "149/149 [==============================] - 2s 11ms/step - loss: 7.1562 - accuracy: 0.8754\n",
      "Epoch 82/100\n",
      "149/149 [==============================] - 2s 11ms/step - loss: 6.2960 - accuracy: 0.8738\n",
      "Epoch 83/100\n",
      "149/149 [==============================] - 1s 8ms/step - loss: 6.2249 - accuracy: 0.8731\n",
      "Epoch 84/100\n",
      "149/149 [==============================] - 1s 8ms/step - loss: 6.4744 - accuracy: 0.8723\n",
      "Epoch 85/100\n",
      "149/149 [==============================] - 2s 11ms/step - loss: 6.3495 - accuracy: 0.8796\n",
      "Epoch 86/100\n",
      "149/149 [==============================] - 2s 11ms/step - loss: 6.8627 - accuracy: 0.8752\n",
      "Epoch 87/100\n",
      "149/149 [==============================] - 2s 16ms/step - loss: 6.3427 - accuracy: 0.8712\n",
      "Epoch 88/100\n",
      "149/149 [==============================] - 1s 8ms/step - loss: 6.7104 - accuracy: 0.8767\n",
      "Epoch 89/100\n",
      "149/149 [==============================] - 1s 9ms/step - loss: 6.4833 - accuracy: 0.8750\n",
      "Epoch 90/100\n",
      "149/149 [==============================] - 1s 9ms/step - loss: 6.8883 - accuracy: 0.8712\n",
      "Epoch 91/100\n",
      "149/149 [==============================] - 2s 11ms/step - loss: 6.6963 - accuracy: 0.8738\n",
      "Epoch 92/100\n",
      "149/149 [==============================] - 1s 9ms/step - loss: 6.8110 - accuracy: 0.8733\n",
      "Epoch 93/100\n",
      "149/149 [==============================] - 1s 9ms/step - loss: 6.4225 - accuracy: 0.8784\n",
      "Epoch 94/100\n",
      "149/149 [==============================] - 1s 8ms/step - loss: 6.5886 - accuracy: 0.8738\n",
      "Epoch 95/100\n",
      "149/149 [==============================] - 1s 7ms/step - loss: 7.2144 - accuracy: 0.8731\n",
      "Epoch 96/100\n",
      "149/149 [==============================] - 1s 7ms/step - loss: 6.6321 - accuracy: 0.8715\n",
      "Epoch 97/100\n",
      "149/149 [==============================] - 1s 7ms/step - loss: 6.7302 - accuracy: 0.8731\n",
      "Epoch 98/100\n",
      "149/149 [==============================] - 1s 7ms/step - loss: 6.8777 - accuracy: 0.8738\n",
      "Epoch 99/100\n",
      "149/149 [==============================] - 1s 8ms/step - loss: 6.2201 - accuracy: 0.8769\n",
      "Epoch 100/100\n",
      "149/149 [==============================] - 1s 7ms/step - loss: 6.3199 - accuracy: 0.8733\n"
     ]
    },
    {
     "data": {
      "text/plain": [
       "<tensorflow.python.keras.callbacks.History at 0x7f05ede2cc40>"
      ]
     },
     "execution_count": 43,
     "metadata": {},
     "output_type": "execute_result"
    }
   ],
   "source": [
    "x = q['x'].as_dataset\n",
    "y = q['y'].as_dataset\n",
    "\n",
    "keras_model.fit(x=tf.data.Dataset.zip((x, y)).batch(params['batch_size']).prefetch(3), epochs=params['epochs'])"
   ]
  },
  {
   "cell_type": "code",
   "execution_count": 50,
   "metadata": {},
   "outputs": [
    {
     "ename": "AttributeError",
     "evalue": "'TensorShape' object has no attribute 'items'",
     "output_type": "error",
     "traceback": [
      "\u001b[0;31m---------------------------------------------------------------------------\u001b[0m",
      "\u001b[0;31mAttributeError\u001b[0m                            Traceback (most recent call last)",
      "\u001b[0;32m<ipython-input-50-7650e39cd835>\u001b[0m in \u001b[0;36m<module>\u001b[0;34m\u001b[0m\n\u001b[0;32m----> 1\u001b[0;31m \u001b[0mq\u001b[0m\u001b[0;34m[\u001b[0m\u001b[0;34m'x'\u001b[0m\u001b[0;34m]\u001b[0m\u001b[0;34m[\u001b[0m\u001b[0;34m'numeric'\u001b[0m\u001b[0;34m]\u001b[0m\u001b[0;34m.\u001b[0m\u001b[0mshape\u001b[0m\u001b[0;34m.\u001b[0m\u001b[0mitems\u001b[0m\u001b[0;34m(\u001b[0m\u001b[0;34m)\u001b[0m\u001b[0;34m\u001b[0m\u001b[0;34m\u001b[0m\u001b[0m\n\u001b[0m",
      "\u001b[0;31mAttributeError\u001b[0m: 'TensorShape' object has no attribute 'items'"
     ]
    }
   ],
   "source": [
    "q['x']['numeric']"
   ]
  },
  {
   "cell_type": "code",
   "execution_count": null,
   "metadata": {},
   "outputs": [],
   "source": []
  }
 ],
 "metadata": {
  "kernelspec": {
   "display_name": "Python 3",
   "language": "python",
   "name": "python3"
  },
  "language_info": {
   "codemirror_mode": {
    "name": "ipython",
    "version": 3
   },
   "file_extension": ".py",
   "mimetype": "text/x-python",
   "name": "python",
   "nbconvert_exporter": "python",
   "pygments_lexer": "ipython3",
   "version": "3.8.5"
  }
 },
 "nbformat": 4,
 "nbformat_minor": 4
}
