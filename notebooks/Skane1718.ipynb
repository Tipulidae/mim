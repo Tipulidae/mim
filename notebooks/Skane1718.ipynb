{
 "cells": [
  {
   "cell_type": "markdown",
   "id": "9b172b26",
   "metadata": {},
   "source": [
    "## Preamble"
   ]
  },
  {
   "cell_type": "code",
   "execution_count": 1,
   "id": "09a29267",
   "metadata": {},
   "outputs": [],
   "source": [
    "import sys\n",
    "sys.path.append('..')\n",
    "\n",
    "import importlib\n",
    "import numpy as np\n",
    "import os.path\n",
    "import pandas as pd\n",
    "import re\n",
    "import seaborn as sns\n",
    "import time\n",
    "import traceback\n",
    "import matplotlib.pyplot as plt\n",
    "\n",
    "from collections import Counter, defaultdict\n",
    "from datetime import datetime, timedelta\n",
    "from enum import Enum\n",
    "from functools import partial\n",
    "from itertools import chain\n",
    "from tqdm import tqdm\n",
    "from typing import NamedTuple\n",
    "\n",
    "\n",
    "import mim.extractors.skane_1718 as skane1718\n",
    "import mim.extractors.skane_1718_extract_util as s1718_util"
   ]
  },
  {
   "cell_type": "code",
   "execution_count": 2,
   "id": "9037c44b",
   "metadata": {},
   "outputs": [],
   "source": [
    "from datetime import datetime\n",
    "\n",
    "def parse_iso8601_datetime(s) -> datetime:\n",
    "    return datetime.strptime(s, \"%Y-%m-%d %H:%M:%S\")"
   ]
  },
  {
   "cell_type": "code",
   "execution_count": 3,
   "id": "e73c2bfc",
   "metadata": {},
   "outputs": [],
   "source": [
    "DATA_ROOT = \"/mnt/air-crypt/air-crypt-raw/andersb/data/Skane_17-18/Uttag_1\"\n",
    "\n",
    "FILES = {fname: DATA_ROOT + \"/\" + fname for fname in [\n",
    "    \"MELIOR_AntalSlutenVårddagarFörSlutenVårdtillfällen_Efter_Vardkontakt_UtskrivningDatum_Till_20191231.csv\",\n",
    "    \"MELIOR_Åtgärder30DagarEfterVårdkontakt_2017_2018.csv\",\n",
    "    \"MELIOR_ÅtgärderVidVårdkontakt_2017_2018.csv\",\n",
    "    \"MELIOR_Diagnoser30DagarEfterVårdkontakt_2017_2018.csv\",\n",
    "    \"MELIOR_Diagnoser5ÅrFöreVårdkontakt_2017_2018.csv\",\n",
    "    \"MELIOR_DiagnoserVidVårdkontakt_2017_2018.csv\",\n",
    "    \"MELIOR_FörstaInläggningsavdelningenInom30Dagar.csv\",\n",
    "    \"MELIOR_InneliggandeVårdtidInom30Dagar.csv\",\n",
    "    \"MELIOR_LabanalyserInom24TimmarFrånAnkomst.csv\",\n",
    "    \"MELIOR_OrdinationerSamtUtdelningarEttÅrFöreAnkomst.csv\",\n",
    "    \"MELIOR_OrdinationerSamtUtdelningarInom24TimmarFrånAnkomst.csv\",\n",
    "    \"MELIOR_PatientAtgarder_Efter_Vardkontakt_UtskrivningDatum_Till_20191231.csv\",\n",
    "    \"MELIOR_PatientDiagnoser_Efter_Vardkontakt_UtskrivningDatum_Till_20191231.csv\",\n",
    "    \"MELIOR_PreliminärBedömningDiagnosPåAkutenVidVårdkontakt_2017_2018.csv\",\n",
    "    \"MELIOR_SistaUtskrivningsavdelningenInom30Dagar_2017_2018.csv\",\n",
    "    \"MELIOR_SlutenVårdtillfällen_Efter_Vardkontakt_UtskrivningDatum_Till_20191231.csv\",\n",
    "    \"MIKROBIOLOGI_Sammanställning_Analyser_2017.csv\",\n",
    "    \"MIKROBIOLOGI_Sammanställning_Analyser_2018.csv\",\n",
    "    \"MIKROBIOLOGI_Sammanställning_Analyser_2019.csv\",\n",
    "    \"MIKROBIOLOGI_Sammanställning_Negativa_2017.csv\",\n",
    "    \"MIKROBIOLOGI_Sammanställning_Negativa_2018.csv\",\n",
    "    \"MIKROBIOLOGI_Sammanställning_Negativa_2019.csv\",\n",
    "    \"MIKROBIOLOGI_Sammanställning_Positiva_2017.csv\",\n",
    "    \"MIKROBIOLOGI_Sammanställning_Positiva_2018.csv\",\n",
    "    \"MIKROBIOLOGI_Sammanställning_Positiva_2019.csv\",\n",
    "    \"PASIVA_IntensivvårdInom30Dagar.csv\",\n",
    "    \"PATIENTLIGGAREN_Vårdkontakter_2017_2018.csv\",\n",
    "    \"PATIENTLIGGAREN_Vårdkontakter_2017_2018_Triagekategorier.csv\",\n",
    "    \"PATIENTLIGGAREN_Vårdkontakter_Återbesök_till_191231.csv\",\n",
    "    \"PATIENTLIGGAREN_Vårdkontakter_Januari2019.csv\",\n",
    "    \"PATIENTLIGGAREN_Vårdkontakter_Januari2019_Triagekategorier.csv\",\n",
    "    \"SCB_Ekelund_LEV_BoDeSO2012.csv\",\n",
    "    \"SCB_Ekelund_LEV_BoDeSO2013.csv\",\n",
    "    \"SCB_Ekelund_LEV_BoDeSO2014.csv\",\n",
    "    \"SCB_Ekelund_LEV_BoDeSO2015.csv\",\n",
    "    \"SCB_Ekelund_LEV_BoDeSO2016.csv\",\n",
    "    \"SCB_Ekelund_LEV_BoDeSO2017.csv\",\n",
    "    \"SCB_Ekelund_LEV_BoDeSO2018.csv\",\n",
    "    \"SCB_Ekelund_LEV_Fodelseland.csv\",\n",
    "    \"SCB_Ekelund_LEV_LISA2012.csv\",\n",
    "    \"SCB_Ekelund_LEV_LISA2013.csv\",\n",
    "    \"SCB_Ekelund_LEV_LISA2014.csv\",\n",
    "    \"SCB_Ekelund_LEV_LISA2015.csv\",\n",
    "    \"SCB_Ekelund_LEV_LISA2016.csv\",\n",
    "    \"SCB_Ekelund_LEV_LISA2017.csv\",\n",
    "    \"SCB_Ekelund_LEV_LISA2018.csv\",\n",
    "    \"SCB_Ekelund_LEV_Nyckel.csv\",\n",
    "    \"SECTRA_export2012_2015A.csv\",\n",
    "    \"SECTRA_export2016_2018A.csv\",\n",
    "    \"SOS_R_DORS_24129_2020.csv\",\n",
    "    \"SOS_T_R_LMED_24129_2020.csv\",\n",
    "    \"SOS_T_T_T_R_PAR_OV_24129_2020.csv\",\n",
    "    \"SOS_T_T_T_R_PAR_SV_24129_2020.csv\",\n",
    "    \"SVAR_Hela_Skåne_17_18.csv\"\n",
    "]}"
   ]
  },
  {
   "cell_type": "markdown",
   "id": "cccac857",
   "metadata": {},
   "source": [
    "## Liggaren"
   ]
  },
  {
   "cell_type": "code",
   "execution_count": 4,
   "id": "42fa6d92",
   "metadata": {},
   "outputs": [
    {
     "data": {
      "text/html": [
       "<div>\n",
       "<style scoped>\n",
       "    .dataframe tbody tr th:only-of-type {\n",
       "        vertical-align: middle;\n",
       "    }\n",
       "\n",
       "    .dataframe tbody tr th {\n",
       "        vertical-align: top;\n",
       "    }\n",
       "\n",
       "    .dataframe thead th {\n",
       "        text-align: right;\n",
       "    }\n",
       "</style>\n",
       "<table border=\"1\" class=\"dataframe\">\n",
       "  <thead>\n",
       "    <tr style=\"text-align: right;\">\n",
       "      <th></th>\n",
       "      <th>KontaktId</th>\n",
       "      <th>Alias</th>\n",
       "      <th>AktuellSjukhusId</th>\n",
       "      <th>Sjukhus_Namn</th>\n",
       "      <th>BesokOrsakId</th>\n",
       "      <th>BesokOrsak_Kod</th>\n",
       "      <th>BesokOrsak_Beskrivning</th>\n",
       "      <th>Vardkontakt_InskrivningDatum</th>\n",
       "      <th>Vardkontakt_UtskrivningDatum</th>\n",
       "      <th>Vardkontakt_PatientAlderVidInskrivning</th>\n",
       "      <th>...</th>\n",
       "      <th>Utskriven till</th>\n",
       "      <th>Inläggningsavdelning</th>\n",
       "      <th>Vårddtid på akuten i minuter</th>\n",
       "      <th>Tid till läkare på akuten i minuter</th>\n",
       "      <th>Första läkarkontakten på akuten</th>\n",
       "      <th>Avvikit mot rekommendation</th>\n",
       "      <th>Inlagd</th>\n",
       "      <th>Process_text</th>\n",
       "      <th>UppföljningParameter_text</th>\n",
       "      <th>Ambulans_Arrival_Liggare_AB</th>\n",
       "    </tr>\n",
       "  </thead>\n",
       "  <tbody>\n",
       "    <tr>\n",
       "      <th>0</th>\n",
       "      <td>K1054989</td>\n",
       "      <td>10237978</td>\n",
       "      <td>SE162321000255-O10532</td>\n",
       "      <td>Centralsjukhuset Kristianstad</td>\n",
       "      <td>281.0</td>\n",
       "      <td>InfLokal</td>\n",
       "      <td>Lokal infektion RETTS-A 47, RETTS-P 141</td>\n",
       "      <td>2017-03-05 22:37:00</td>\n",
       "      <td>2017-03-06 00:29:00</td>\n",
       "      <td>56</td>\n",
       "      <td>...</td>\n",
       "      <td>Hemmet</td>\n",
       "      <td>NaN</td>\n",
       "      <td>112.0</td>\n",
       "      <td>25.0</td>\n",
       "      <td>2017-03-05 23:02:00</td>\n",
       "      <td>0</td>\n",
       "      <td>0</td>\n",
       "      <td>-</td>\n",
       "      <td>NaN</td>\n",
       "      <td>0</td>\n",
       "    </tr>\n",
       "    <tr>\n",
       "      <th>1</th>\n",
       "      <td>K1055321</td>\n",
       "      <td>10099865</td>\n",
       "      <td>SE162321000255-O11016</td>\n",
       "      <td>Lasarettet Trelleborg</td>\n",
       "      <td>382.0</td>\n",
       "      <td>Yrsel</td>\n",
       "      <td>Yrsel och svindel RETTS-A 11, Yrsel och balans...</td>\n",
       "      <td>2017-03-06 11:12:00</td>\n",
       "      <td>2017-03-06 14:44:00</td>\n",
       "      <td>52</td>\n",
       "      <td>...</td>\n",
       "      <td>Hemmet</td>\n",
       "      <td>NaN</td>\n",
       "      <td>212.0</td>\n",
       "      <td>115.0</td>\n",
       "      <td>2017-03-06 13:07:00</td>\n",
       "      <td>0</td>\n",
       "      <td>0</td>\n",
       "      <td>-</td>\n",
       "      <td>NaN</td>\n",
       "      <td>0</td>\n",
       "    </tr>\n",
       "    <tr>\n",
       "      <th>2</th>\n",
       "      <td>K1110785</td>\n",
       "      <td>10261943</td>\n",
       "      <td>SE162321000255-O16571</td>\n",
       "      <td>Ystads lasarett</td>\n",
       "      <td>382.0</td>\n",
       "      <td>Yrsel</td>\n",
       "      <td>Yrsel och svindel RETTS-A 11, Yrsel och balans...</td>\n",
       "      <td>2017-05-09 16:40:00</td>\n",
       "      <td>2017-05-09 21:36:00</td>\n",
       "      <td>64</td>\n",
       "      <td>...</td>\n",
       "      <td>Hemmet</td>\n",
       "      <td>NaN</td>\n",
       "      <td>296.0</td>\n",
       "      <td>240.0</td>\n",
       "      <td>2017-05-09 20:40:00</td>\n",
       "      <td>0</td>\n",
       "      <td>0</td>\n",
       "      <td>Ankomst</td>\n",
       "      <td>NaN</td>\n",
       "      <td>0</td>\n",
       "    </tr>\n",
       "    <tr>\n",
       "      <th>3</th>\n",
       "      <td>K1110933</td>\n",
       "      <td>10159007</td>\n",
       "      <td>SE162321000255-O16571</td>\n",
       "      <td>Ystads lasarett</td>\n",
       "      <td>300.0</td>\n",
       "      <td>SkrotSy</td>\n",
       "      <td>Underlivsbesvär hos män 17</td>\n",
       "      <td>2017-05-09 19:39:00</td>\n",
       "      <td>2017-05-10 01:17:00</td>\n",
       "      <td>19</td>\n",
       "      <td>...</td>\n",
       "      <td>Avvikit</td>\n",
       "      <td>NaN</td>\n",
       "      <td>338.0</td>\n",
       "      <td>20.0</td>\n",
       "      <td>2017-05-09 19:59:00</td>\n",
       "      <td>1</td>\n",
       "      <td>0</td>\n",
       "      <td>Ankomst</td>\n",
       "      <td>NaN</td>\n",
       "      <td>0</td>\n",
       "    </tr>\n",
       "    <tr>\n",
       "      <th>4</th>\n",
       "      <td>K1111161</td>\n",
       "      <td>10131344</td>\n",
       "      <td>SE162321000255-O12014</td>\n",
       "      <td>Helsingborgs lasarett</td>\n",
       "      <td>382.0</td>\n",
       "      <td>Yrsel</td>\n",
       "      <td>Yrsel och svindel RETTS-A 11, Yrsel och balans...</td>\n",
       "      <td>2017-05-10 05:18:00</td>\n",
       "      <td>2017-05-10 05:41:00</td>\n",
       "      <td>60</td>\n",
       "      <td>...</td>\n",
       "      <td>Hemmet</td>\n",
       "      <td>Egenvård</td>\n",
       "      <td>23.0</td>\n",
       "      <td>NaN</td>\n",
       "      <td>NaN</td>\n",
       "      <td>0</td>\n",
       "      <td>0</td>\n",
       "      <td>-</td>\n",
       "      <td>NaN</td>\n",
       "      <td>0</td>\n",
       "    </tr>\n",
       "  </tbody>\n",
       "</table>\n",
       "<p>5 rows × 21 columns</p>\n",
       "</div>"
      ],
      "text/plain": [
       "  KontaktId     Alias       AktuellSjukhusId                   Sjukhus_Namn  \\\n",
       "0  K1054989  10237978  SE162321000255-O10532  Centralsjukhuset Kristianstad   \n",
       "1  K1055321  10099865  SE162321000255-O11016          Lasarettet Trelleborg   \n",
       "2  K1110785  10261943  SE162321000255-O16571                Ystads lasarett   \n",
       "3  K1110933  10159007  SE162321000255-O16571                Ystads lasarett   \n",
       "4  K1111161  10131344  SE162321000255-O12014          Helsingborgs lasarett   \n",
       "\n",
       "   BesokOrsakId BesokOrsak_Kod  \\\n",
       "0         281.0       InfLokal   \n",
       "1         382.0          Yrsel   \n",
       "2         382.0          Yrsel   \n",
       "3         300.0        SkrotSy   \n",
       "4         382.0          Yrsel   \n",
       "\n",
       "                              BesokOrsak_Beskrivning  \\\n",
       "0            Lokal infektion RETTS-A 47, RETTS-P 141   \n",
       "1  Yrsel och svindel RETTS-A 11, Yrsel och balans...   \n",
       "2  Yrsel och svindel RETTS-A 11, Yrsel och balans...   \n",
       "3                         Underlivsbesvär hos män 17   \n",
       "4  Yrsel och svindel RETTS-A 11, Yrsel och balans...   \n",
       "\n",
       "  Vardkontakt_InskrivningDatum Vardkontakt_UtskrivningDatum  \\\n",
       "0          2017-03-05 22:37:00          2017-03-06 00:29:00   \n",
       "1          2017-03-06 11:12:00          2017-03-06 14:44:00   \n",
       "2          2017-05-09 16:40:00          2017-05-09 21:36:00   \n",
       "3          2017-05-09 19:39:00          2017-05-10 01:17:00   \n",
       "4          2017-05-10 05:18:00          2017-05-10 05:41:00   \n",
       "\n",
       "   Vardkontakt_PatientAlderVidInskrivning  ... Utskriven till  \\\n",
       "0                                      56  ...         Hemmet   \n",
       "1                                      52  ...         Hemmet   \n",
       "2                                      64  ...         Hemmet   \n",
       "3                                      19  ...        Avvikit   \n",
       "4                                      60  ...         Hemmet   \n",
       "\n",
       "  Inläggningsavdelning Vårddtid på akuten i minuter  \\\n",
       "0                  NaN                        112.0   \n",
       "1                  NaN                        212.0   \n",
       "2                  NaN                        296.0   \n",
       "3                  NaN                        338.0   \n",
       "4             Egenvård                         23.0   \n",
       "\n",
       "   Tid till läkare på akuten i minuter  Första läkarkontakten på akuten  \\\n",
       "0                                 25.0              2017-03-05 23:02:00   \n",
       "1                                115.0              2017-03-06 13:07:00   \n",
       "2                                240.0              2017-05-09 20:40:00   \n",
       "3                                 20.0              2017-05-09 19:59:00   \n",
       "4                                  NaN                              NaN   \n",
       "\n",
       "  Avvikit mot rekommendation  Inlagd  Process_text UppföljningParameter_text  \\\n",
       "0                          0       0             -                       NaN   \n",
       "1                          0       0             -                       NaN   \n",
       "2                          0       0       Ankomst                       NaN   \n",
       "3                          1       0       Ankomst                       NaN   \n",
       "4                          0       0             -                       NaN   \n",
       "\n",
       "  Ambulans_Arrival_Liggare_AB  \n",
       "0                           0  \n",
       "1                           0  \n",
       "2                           0  \n",
       "3                           0  \n",
       "4                           0  \n",
       "\n",
       "[5 rows x 21 columns]"
      ]
     },
     "execution_count": 4,
     "metadata": {},
     "output_type": "execute_result"
    }
   ],
   "source": [
    "liggaren = pd.read_csv(FILES[\"PATIENTLIGGAREN_Vårdkontakter_2017_2018.csv\"], sep=\"|\", encoding=\"ISO-8859-1\")\n",
    "liggaren[\"Ambulans_Arrival_Liggare_AB\"] = (liggaren[\"UppföljningParameter_text\"] == \"Ambulans\").astype(int)\n",
    "liggaren.head()"
   ]
  },
  {
   "cell_type": "code",
   "execution_count": 5,
   "id": "dc098aef",
   "metadata": {},
   "outputs": [],
   "source": [
    "liggaren_followup = pd.read_csv(FILES[\"PATIENTLIGGAREN_Vårdkontakter_Återbesök_till_191231.csv\"], sep=\"|\", encoding=\"ISO-8859-1\")\n",
    "liggaren_followup.drop_duplicates([\"Alias\", \"Vardkontakt_InskrivningDatum\"], inplace=True)"
   ]
  },
  {
   "cell_type": "markdown",
   "id": "f3e32eb7",
   "metadata": {},
   "source": [
    "## Duplicates\n",
    "\n",
    "When ignoring KontaktId, there is a small number of visits that occur more than once. Below we list their Aliases and how to drop.\n",
    "\n",
    "(37 patients, 41 visits to drop)"
   ]
  },
  {
   "cell_type": "code",
   "execution_count": 6,
   "id": "7576c0b3",
   "metadata": {},
   "outputs": [
    {
     "data": {
      "text/plain": [
       "'Before dropping:632785'"
      ]
     },
     "metadata": {},
     "output_type": "display_data"
    },
    {
     "data": {
      "text/plain": [
       "10188455    4\n",
       "10119029    3\n",
       "10314582    3\n",
       "10114672    2\n",
       "10286650    2\n",
       "10316004    2\n",
       "10271012    2\n",
       "10231708    2\n",
       "10238151    2\n",
       "10317054    2\n",
       "10176080    2\n",
       "10318221    2\n",
       "10073405    2\n",
       "10174101    2\n",
       "10138116    2\n",
       "10321104    2\n",
       "10187874    2\n",
       "10202696    2\n",
       "10057608    2\n",
       "10233266    2\n",
       "10267412    2\n",
       "10166164    2\n",
       "10029124    2\n",
       "10098673    2\n",
       "10149844    2\n",
       "10043896    2\n",
       "10214049    2\n",
       "10020221    2\n",
       "10273081    2\n",
       "10239666    2\n",
       "10211420    2\n",
       "10202150    2\n",
       "10175208    2\n",
       "10281236    2\n",
       "10123680    2\n",
       "10045619    2\n",
       "10062902    2\n",
       "Name: Alias, dtype: int64"
      ]
     },
     "metadata": {},
     "output_type": "display_data"
    },
    {
     "data": {
      "text/plain": [
       "'After dropping: 632744'"
      ]
     },
     "metadata": {},
     "output_type": "display_data"
    }
   ],
   "source": [
    "# Show list\n",
    "display(\"Before dropping:\" + str(len(liggaren)))\n",
    "display(liggaren[liggaren.drop(\"KontaktId\", axis=1).duplicated(keep=False)].drop(\"KontaktId\", axis=1)[\"Alias\"].value_counts())\n",
    "duplicate_wo_kontakt_id_index = [i for (i, b) in enumerate(liggaren.drop(\"KontaktId\", axis=1).duplicated()) if b]\n",
    "liggaren.drop(duplicate_wo_kontakt_id_index, inplace=True)\n",
    "display(\"After dropping: \" + str(len(liggaren)))"
   ]
  },
  {
   "cell_type": "code",
   "execution_count": 7,
   "id": "899d9e78",
   "metadata": {},
   "outputs": [],
   "source": [
    "liggar_alias = set(liggaren[\"Alias\"])\n",
    "liggar_kontaktid = set(liggaren[\"KontaktId\"])\n",
    "#liggaren[\"Alias\"].value_counts()"
   ]
  },
  {
   "cell_type": "code",
   "execution_count": null,
   "id": "96895ad5",
   "metadata": {},
   "outputs": [],
   "source": [
    "list(liggaren)"
   ]
  },
  {
   "cell_type": "code",
   "execution_count": null,
   "id": "7614e88f",
   "metadata": {},
   "outputs": [],
   "source": [
    "liggaren[\"Inlagd\"].value_counts()"
   ]
  },
  {
   "cell_type": "code",
   "execution_count": null,
   "id": "038242d5",
   "metadata": {},
   "outputs": [],
   "source": [
    "for k,v in (liggaren[\"BesokOrsak_Kod\"] + \"~\" + liggaren[\"BesokOrsak_Beskrivning\"]).value_counts().items():\n",
    "    print(f'{k}\\t{v}')"
   ]
  },
  {
   "cell_type": "markdown",
   "id": "d4210b40",
   "metadata": {},
   "source": [
    "## Preliminär bedömning"
   ]
  },
  {
   "cell_type": "code",
   "execution_count": 8,
   "id": "b308e8f0",
   "metadata": {},
   "outputs": [
    {
     "data": {
      "text/html": [
       "<div>\n",
       "<style scoped>\n",
       "    .dataframe tbody tr th:only-of-type {\n",
       "        vertical-align: middle;\n",
       "    }\n",
       "\n",
       "    .dataframe tbody tr th {\n",
       "        vertical-align: top;\n",
       "    }\n",
       "\n",
       "    .dataframe thead th {\n",
       "        text-align: right;\n",
       "    }\n",
       "</style>\n",
       "<table border=\"1\" class=\"dataframe\">\n",
       "  <thead>\n",
       "    <tr style=\"text-align: right;\">\n",
       "      <th></th>\n",
       "      <th>KontaktId</th>\n",
       "      <th>Alias</th>\n",
       "      <th>AktivitetTyp</th>\n",
       "      <th>Diagnostyp</th>\n",
       "      <th>VårdtillfälleFörDiagnos_VardformText</th>\n",
       "      <th>PatientDiagnos_Kod</th>\n",
       "      <th>PatientDiagnos_Beskrivning</th>\n",
       "      <th>PatientDiagnos_ModifieradDatum</th>\n",
       "    </tr>\n",
       "  </thead>\n",
       "  <tbody>\n",
       "    <tr>\n",
       "      <th>0</th>\n",
       "      <td>K1000057</td>\n",
       "      <td>10032954</td>\n",
       "      <td>Akutkliniken Läk</td>\n",
       "      <td>Huvuddiagnos</td>\n",
       "      <td>Slutenvård</td>\n",
       "      <td>R559</td>\n",
       "      <td>Svimning och kollaps</td>\n",
       "      <td>2017-01-03 09:43:36</td>\n",
       "    </tr>\n",
       "    <tr>\n",
       "      <th>1</th>\n",
       "      <td>K1055021</td>\n",
       "      <td>10083200</td>\n",
       "      <td>Akutkliniken Läk</td>\n",
       "      <td>Huvuddiagnos</td>\n",
       "      <td>Slutenvård</td>\n",
       "      <td>M796</td>\n",
       "      <td>Smärtor i extremitet</td>\n",
       "      <td>2017-04-10 09:43:39</td>\n",
       "    </tr>\n",
       "    <tr>\n",
       "      <th>2</th>\n",
       "      <td>K1055061</td>\n",
       "      <td>10224222</td>\n",
       "      <td>Akutkliniken Läk</td>\n",
       "      <td>Huvuddiagnos</td>\n",
       "      <td>Slutenvård</td>\n",
       "      <td>R074</td>\n",
       "      <td>Bröstsmärtor, ospecificerade</td>\n",
       "      <td>2017-03-14 09:34:43</td>\n",
       "    </tr>\n",
       "    <tr>\n",
       "      <th>3</th>\n",
       "      <td>K1000309</td>\n",
       "      <td>10088130</td>\n",
       "      <td>Akutkliniken Läk</td>\n",
       "      <td>Huvuddiagnos</td>\n",
       "      <td>Slutenvård</td>\n",
       "      <td>R519</td>\n",
       "      <td>Huvudvärk</td>\n",
       "      <td>2017-03-10 07:59:32</td>\n",
       "    </tr>\n",
       "    <tr>\n",
       "      <th>4</th>\n",
       "      <td>K1000341</td>\n",
       "      <td>10024706</td>\n",
       "      <td>Akutkliniken Läk</td>\n",
       "      <td>Huvuddiagnos</td>\n",
       "      <td>Slutenvård</td>\n",
       "      <td>A469</td>\n",
       "      <td>Rosfeber</td>\n",
       "      <td>2017-01-01 14:07:07</td>\n",
       "    </tr>\n",
       "  </tbody>\n",
       "</table>\n",
       "</div>"
      ],
      "text/plain": [
       "  KontaktId     Alias      AktivitetTyp    Diagnostyp  \\\n",
       "0  K1000057  10032954  Akutkliniken Läk  Huvuddiagnos   \n",
       "1  K1055021  10083200  Akutkliniken Läk  Huvuddiagnos   \n",
       "2  K1055061  10224222  Akutkliniken Läk  Huvuddiagnos   \n",
       "3  K1000309  10088130  Akutkliniken Läk  Huvuddiagnos   \n",
       "4  K1000341  10024706  Akutkliniken Läk  Huvuddiagnos   \n",
       "\n",
       "  VårdtillfälleFörDiagnos_VardformText PatientDiagnos_Kod  \\\n",
       "0                           Slutenvård               R559   \n",
       "1                           Slutenvård               M796   \n",
       "2                           Slutenvård               R074   \n",
       "3                           Slutenvård               R519   \n",
       "4                           Slutenvård               A469   \n",
       "\n",
       "     PatientDiagnos_Beskrivning PatientDiagnos_ModifieradDatum  \n",
       "0          Svimning och kollaps            2017-01-03 09:43:36  \n",
       "1          Smärtor i extremitet            2017-04-10 09:43:39  \n",
       "2  Bröstsmärtor, ospecificerade            2017-03-14 09:34:43  \n",
       "3                     Huvudvärk            2017-03-10 07:59:32  \n",
       "4                      Rosfeber            2017-01-01 14:07:07  "
      ]
     },
     "execution_count": 8,
     "metadata": {},
     "output_type": "execute_result"
    }
   ],
   "source": [
    "prelim = pd.read_csv(FILES[\"MELIOR_PreliminärBedömningDiagnosPåAkutenVidVårdkontakt_2017_2018.csv\"], sep=\"|\", encoding=\"ISO-8859-1\")\n",
    "prelim.head()"
   ]
  },
  {
   "cell_type": "markdown",
   "id": "531aaac1",
   "metadata": {},
   "source": [
    "## Triage"
   ]
  },
  {
   "cell_type": "code",
   "execution_count": 9,
   "id": "b0d21046",
   "metadata": {},
   "outputs": [],
   "source": [
    "triage_df = pd.read_csv(FILES[\"PATIENTLIGGAREN_Vårdkontakter_2017_2018_Triagekategorier.csv\"], sep=\"|\", encoding=\"ISO-8859-1\")\n",
    "triage_df = triage_df.sort_values(\"Handelse_HandelseDatum\").drop_duplicates(\"KontaktId\").drop(\"PrioritetId\", axis=1).rename(columns={\"Handelse_HandelseDatum\": \"Triage_Timestamp\"})"
   ]
  },
  {
   "cell_type": "markdown",
   "id": "04fcd934",
   "metadata": {},
   "source": [
    "## Labb"
   ]
  },
  {
   "cell_type": "code",
   "execution_count": 10,
   "id": "27bf06a7",
   "metadata": {},
   "outputs": [
    {
     "name": "stderr",
     "output_type": "stream",
     "text": [
      "/tmp/ipykernel_16351/3018889116.py:1: DtypeWarning: Columns (11,12) have mixed types. Specify dtype option on import or set low_memory=False.\n",
      "  labb = pd.read_csv(FILES[\"MELIOR_LabanalyserInom24TimmarFrånAnkomst.csv\"], sep=\"|\", encoding=\"ISO-8859-1\")\n"
     ]
    },
    {
     "data": {
      "text/html": [
       "<div>\n",
       "<style scoped>\n",
       "    .dataframe tbody tr th:only-of-type {\n",
       "        vertical-align: middle;\n",
       "    }\n",
       "\n",
       "    .dataframe tbody tr th {\n",
       "        vertical-align: top;\n",
       "    }\n",
       "\n",
       "    .dataframe thead th {\n",
       "        text-align: right;\n",
       "    }\n",
       "</style>\n",
       "<table border=\"1\" class=\"dataframe\">\n",
       "  <thead>\n",
       "    <tr style=\"text-align: right;\">\n",
       "      <th></th>\n",
       "      <th>KontaktId</th>\n",
       "      <th>Alias</th>\n",
       "      <th>Term_Namn</th>\n",
       "      <th>Labanalys_Namn</th>\n",
       "      <th>Labanalys_AnalysTyp</th>\n",
       "      <th>Labanalys_BestallningTyp</th>\n",
       "      <th>Labanalys_Beskrivning</th>\n",
       "      <th>Analyssvar_Varde</th>\n",
       "      <th>Analyssvar_Enhet</th>\n",
       "      <th>Analyssvar_Attribut</th>\n",
       "      <th>Analyssvar_Referensvarde</th>\n",
       "      <th>Analyssvar_ReferensvardeMin</th>\n",
       "      <th>Analyssvar_ReferensvardeMax</th>\n",
       "      <th>Analyssvar_ProvtagningDatum</th>\n",
       "    </tr>\n",
       "  </thead>\n",
       "  <tbody>\n",
       "    <tr>\n",
       "      <th>0</th>\n",
       "      <td>K1581100</td>\n",
       "      <td>10041182</td>\n",
       "      <td>Kemlab analys</td>\n",
       "      <td>P-Standard</td>\n",
       "      <td>A</td>\n",
       "      <td>7</td>\n",
       "      <td>P-Standardbikarbonat</td>\n",
       "      <td>26</td>\n",
       "      <td>mmol/L</td>\n",
       "      <td>0</td>\n",
       "      <td>3</td>\n",
       "      <td>22.0</td>\n",
       "      <td>27.0</td>\n",
       "      <td>2018-10-30 17:40:00</td>\n",
       "    </tr>\n",
       "    <tr>\n",
       "      <th>1</th>\n",
       "      <td>K1580269</td>\n",
       "      <td>10002978</td>\n",
       "      <td>Kemlab analys</td>\n",
       "      <td>B-Trombocy</td>\n",
       "      <td>A</td>\n",
       "      <td>7</td>\n",
       "      <td>B-Trombocyter</td>\n",
       "      <td>245</td>\n",
       "      <td>10^9/L</td>\n",
       "      <td>0</td>\n",
       "      <td>3</td>\n",
       "      <td>165.0</td>\n",
       "      <td>387.0</td>\n",
       "      <td>2018-10-29 19:50:00</td>\n",
       "    </tr>\n",
       "    <tr>\n",
       "      <th>2</th>\n",
       "      <td>K1581100</td>\n",
       "      <td>10041182</td>\n",
       "      <td>Kemlab analys</td>\n",
       "      <td>U-Protein</td>\n",
       "      <td>A</td>\n",
       "      <td>7</td>\n",
       "      <td>U-Protein (remsa)</td>\n",
       "      <td>0</td>\n",
       "      <td>NaN</td>\n",
       "      <td>0</td>\n",
       "      <td>3</td>\n",
       "      <td>NaN</td>\n",
       "      <td>NaN</td>\n",
       "      <td>2018-10-30 17:40:00</td>\n",
       "    </tr>\n",
       "    <tr>\n",
       "      <th>3</th>\n",
       "      <td>K1580588</td>\n",
       "      <td>10128524</td>\n",
       "      <td>Kemlab analys</td>\n",
       "      <td>P-Standard</td>\n",
       "      <td>A</td>\n",
       "      <td>7</td>\n",
       "      <td>P-Standardbikarbonat</td>\n",
       "      <td>24</td>\n",
       "      <td>mmol/L</td>\n",
       "      <td>0</td>\n",
       "      <td>3</td>\n",
       "      <td>22.0</td>\n",
       "      <td>27.0</td>\n",
       "      <td>2018-10-30 10:30:00</td>\n",
       "    </tr>\n",
       "    <tr>\n",
       "      <th>4</th>\n",
       "      <td>K1580588</td>\n",
       "      <td>10128524</td>\n",
       "      <td>Kemlab analys</td>\n",
       "      <td>B-Trombocy</td>\n",
       "      <td>A</td>\n",
       "      <td>7</td>\n",
       "      <td>B-Trombocyter</td>\n",
       "      <td>KOMM</td>\n",
       "      <td>10^9/L</td>\n",
       "      <td>0</td>\n",
       "      <td>0</td>\n",
       "      <td>NaN</td>\n",
       "      <td>NaN</td>\n",
       "      <td>2018-10-30 09:30:00</td>\n",
       "    </tr>\n",
       "  </tbody>\n",
       "</table>\n",
       "</div>"
      ],
      "text/plain": [
       "  KontaktId     Alias      Term_Namn Labanalys_Namn Labanalys_AnalysTyp  \\\n",
       "0  K1581100  10041182  Kemlab analys     P-Standard                   A   \n",
       "1  K1580269  10002978  Kemlab analys     B-Trombocy                   A   \n",
       "2  K1581100  10041182  Kemlab analys      U-Protein                   A   \n",
       "3  K1580588  10128524  Kemlab analys     P-Standard                   A   \n",
       "4  K1580588  10128524  Kemlab analys     B-Trombocy                   A   \n",
       "\n",
       "   Labanalys_BestallningTyp Labanalys_Beskrivning Analyssvar_Varde  \\\n",
       "0                         7  P-Standardbikarbonat               26   \n",
       "1                         7         B-Trombocyter              245   \n",
       "2                         7     U-Protein (remsa)                0   \n",
       "3                         7  P-Standardbikarbonat               24   \n",
       "4                         7         B-Trombocyter             KOMM   \n",
       "\n",
       "  Analyssvar_Enhet  Analyssvar_Attribut  Analyssvar_Referensvarde  \\\n",
       "0           mmol/L                    0                         3   \n",
       "1           10^9/L                    0                         3   \n",
       "2              NaN                    0                         3   \n",
       "3           mmol/L                    0                         3   \n",
       "4           10^9/L                    0                         0   \n",
       "\n",
       "  Analyssvar_ReferensvardeMin Analyssvar_ReferensvardeMax  \\\n",
       "0                        22.0                        27.0   \n",
       "1                       165.0                       387.0   \n",
       "2                         NaN                         NaN   \n",
       "3                        22.0                        27.0   \n",
       "4                         NaN                         NaN   \n",
       "\n",
       "  Analyssvar_ProvtagningDatum  \n",
       "0         2018-10-30 17:40:00  \n",
       "1         2018-10-29 19:50:00  \n",
       "2         2018-10-30 17:40:00  \n",
       "3         2018-10-30 10:30:00  \n",
       "4         2018-10-30 09:30:00  "
      ]
     },
     "execution_count": 10,
     "metadata": {},
     "output_type": "execute_result"
    }
   ],
   "source": [
    "labb = pd.read_csv(FILES[\"MELIOR_LabanalyserInom24TimmarFrånAnkomst.csv\"], sep=\"|\", encoding=\"ISO-8859-1\")\n",
    "labb[\"Analyssvar_ProvtagningDatum\"] = pd.to_datetime(labb[\"Analyssvar_ProvtagningDatum\"])\n",
    "labb.head()"
   ]
  },
  {
   "cell_type": "code",
   "execution_count": null,
   "id": "13e8226a",
   "metadata": {},
   "outputs": [],
   "source": [
    "list(labb)"
   ]
  },
  {
   "cell_type": "code",
   "execution_count": null,
   "id": "3951e4cd",
   "metadata": {},
   "outputs": [],
   "source": [
    "l = labb.drop(\"KontaktId\", axis=1).drop_duplicates()"
   ]
  },
  {
   "cell_type": "code",
   "execution_count": null,
   "id": "a7453187",
   "metadata": {
    "scrolled": true
   },
   "outputs": [],
   "source": [
    "for k, v in l[\"Labanalys_Beskrivning\"].value_counts().items():\n",
    "    units_vc = l[l[\"Labanalys_Beskrivning\"] == k][\"Analyssvar_Enhet\"].value_counts()\n",
    "    units_vc = sorted(units_vc.items(),key=lambda x:-x[1])\n",
    "    na_unit = l[l[\"Labanalys_Beskrivning\"] == k][\"Analyssvar_Enhet\"].isna().sum()\n",
    "    unit_s = \"\\t\".join([f'{a}: {b}' for a,b in units_vc])\n",
    "    if na_unit:\n",
    "        unit_s += f'\\t---MISSING--- ({na_unit})'\n",
    "    print(f'{k}\\t{v}\\t{unit_s}')"
   ]
  },
  {
   "cell_type": "code",
   "execution_count": null,
   "id": "67ab0383",
   "metadata": {
    "scrolled": false
   },
   "outputs": [],
   "source": [
    "labb[\"Labanalys_Beskrivning\"].value_counts()"
   ]
  },
  {
   "cell_type": "code",
   "execution_count": null,
   "id": "f96a81ba",
   "metadata": {},
   "outputs": [],
   "source": [
    "print(set(labb[\"KontaktId\"]).issubset(liggar_kontaktid))\n",
    "print(set(labb[\"Alias\"]).issubset(liggar_alias))\n"
   ]
  },
  {
   "cell_type": "markdown",
   "id": "2c8762f6",
   "metadata": {},
   "source": [
    "## Melior diagnoser"
   ]
  },
  {
   "cell_type": "code",
   "execution_count": 11,
   "id": "c197bd47",
   "metadata": {
    "scrolled": false
   },
   "outputs": [],
   "source": [
    "melior_diagnoser_5ar_fore = pd.read_csv(FILES[\"MELIOR_Diagnoser5ÅrFöreVårdkontakt_2017_2018.csv\"], sep=\"|\", encoding=\"ISO-8859-1\")\n",
    "melior_diagnoser_vid_kontakt = pd.read_csv(FILES[\"MELIOR_DiagnoserVidVårdkontakt_2017_2018.csv\"], sep=\"|\", encoding=\"ISO-8859-1\")\n",
    "melior_diagnoser_30dagar_efter = pd.read_csv(FILES[\"MELIOR_Diagnoser30DagarEfterVårdkontakt_2017_2018.csv\"], sep=\"|\", encoding=\"ISO-8859-1\")"
   ]
  },
  {
   "cell_type": "code",
   "execution_count": 11,
   "id": "9e42451e",
   "metadata": {},
   "outputs": [
    {
     "ename": "NameError",
     "evalue": "name 'liggar_kontaktid' is not defined",
     "output_type": "error",
     "traceback": [
      "\u001b[0;31m---------------------------------------------------------------------------\u001b[0m",
      "\u001b[0;31mNameError\u001b[0m                                 Traceback (most recent call last)",
      "\u001b[0;32m/tmp/ipykernel_17590/748363541.py\u001b[0m in \u001b[0;36m<module>\u001b[0;34m\u001b[0m\n\u001b[0;32m----> 1\u001b[0;31m \u001b[0mprint\u001b[0m\u001b[0;34m(\u001b[0m\u001b[0mset\u001b[0m\u001b[0;34m(\u001b[0m\u001b[0mmelior_diagnoser_5ar_fore\u001b[0m\u001b[0;34m[\u001b[0m\u001b[0;34m\"KontaktId\"\u001b[0m\u001b[0;34m]\u001b[0m\u001b[0;34m)\u001b[0m\u001b[0;34m.\u001b[0m\u001b[0missubset\u001b[0m\u001b[0;34m(\u001b[0m\u001b[0mliggar_kontaktid\u001b[0m\u001b[0;34m)\u001b[0m\u001b[0;34m)\u001b[0m\u001b[0;34m\u001b[0m\u001b[0;34m\u001b[0m\u001b[0m\n\u001b[0m\u001b[1;32m      2\u001b[0m \u001b[0mprint\u001b[0m\u001b[0;34m(\u001b[0m\u001b[0mset\u001b[0m\u001b[0;34m(\u001b[0m\u001b[0mmelior_diagnoser_5ar_fore\u001b[0m\u001b[0;34m[\u001b[0m\u001b[0;34m\"Alias\"\u001b[0m\u001b[0;34m]\u001b[0m\u001b[0;34m)\u001b[0m\u001b[0;34m.\u001b[0m\u001b[0missubset\u001b[0m\u001b[0;34m(\u001b[0m\u001b[0mliggar_alias\u001b[0m\u001b[0;34m)\u001b[0m\u001b[0;34m)\u001b[0m\u001b[0;34m\u001b[0m\u001b[0;34m\u001b[0m\u001b[0m\n",
      "\u001b[0;31mNameError\u001b[0m: name 'liggar_kontaktid' is not defined"
     ]
    }
   ],
   "source": [
    "print(set(melior_diagnoser_5ar_fore[\"KontaktId\"]).issubset(liggar_kontaktid))\n",
    "print(set(melior_diagnoser_5ar_fore[\"Alias\"]).issubset(liggar_alias))"
   ]
  },
  {
   "cell_type": "markdown",
   "id": "b9e66e44",
   "metadata": {},
   "source": [
    "### Melior saknar startdatum"
   ]
  },
  {
   "cell_type": "code",
   "execution_count": 12,
   "id": "9bf7623a",
   "metadata": {},
   "outputs": [
    {
     "name": "stdout",
     "output_type": "stream",
     "text": [
      "23631961\t235\t23631726\n",
      "1466052\t0\t1466052\n",
      "1064804\t69\t1064735\n"
     ]
    }
   ],
   "source": [
    "for df in [melior_diagnoser_5ar_fore, melior_diagnoser_vid_kontakt, melior_diagnoser_30dagar_efter]:\n",
    "    l_before = len(df)\n",
    "    blank = df[\"VårdtillfälleFörDiagnos_StartDatum\"].isna().sum()\n",
    "    df.dropna(subset=[\"VårdtillfälleFörDiagnos_StartDatum\"], inplace=True)\n",
    "    df[\"VårdtillfälleFörDiagnos_StartDatum\"] = pd.to_datetime(df[\"VårdtillfälleFörDiagnos_StartDatum\"])\n",
    "    l_after = len(df)\n",
    "    print(f'{l_before}\\t{blank}\\t{l_after}')\n",
    "    "
   ]
  },
  {
   "cell_type": "markdown",
   "id": "c40e2f74",
   "metadata": {},
   "source": [
    "### Browsing"
   ]
  },
  {
   "cell_type": "code",
   "execution_count": null,
   "id": "acc531a4",
   "metadata": {},
   "outputs": [],
   "source": [
    "a = melior_diagnoser_30dagar_efter\n",
    "b = melior_diagnoser_vid_kontakt\n",
    "c = melior_diagnoser_5ar_fore\n",
    "\n",
    "b[b[\"Alias\"] == 10091994]"
   ]
  },
  {
   "cell_type": "code",
   "execution_count": null,
   "id": "85339b79",
   "metadata": {
    "scrolled": false
   },
   "outputs": [],
   "source": [
    "display(list(melior_diagnoser_30dagar_efter))\n",
    "display(list(melior_diagnoser_vid_kontakt))\n",
    "display(list(melior_diagnoser_5ar_fore))\n",
    "\n",
    "a = set(list(melior_diagnoser_30dagar_efter))\n",
    "b = set(list(melior_diagnoser_vid_kontakt))\n",
    "c = set(list(melior_diagnoser_5ar_fore))\n",
    "print(a-b)"
   ]
  },
  {
   "cell_type": "code",
   "execution_count": null,
   "id": "7a41cd7e",
   "metadata": {},
   "outputs": [],
   "source": [
    "melior_diagnoser_5ar_fore[\"TermId\"].value_counts()"
   ]
  },
  {
   "cell_type": "code",
   "execution_count": null,
   "id": "87d6c6d0",
   "metadata": {},
   "outputs": [],
   "source": [
    "melior_diagnoser_5ar_fore['Diagnostyp'].value_counts()"
   ]
  },
  {
   "cell_type": "code",
   "execution_count": null,
   "id": "2a33b27b",
   "metadata": {},
   "outputs": [],
   "source": [
    "melior_diagnoser_5ar_fore[\"AktivitetTyp\"].value_counts()"
   ]
  },
  {
   "cell_type": "code",
   "execution_count": null,
   "id": "1357ef76",
   "metadata": {},
   "outputs": [],
   "source": [
    "melior_diagnoser_5ar_fore[[\"Diagnostyp\",\"TermId\"]].value_counts()"
   ]
  },
  {
   "cell_type": "markdown",
   "id": "ed8cd780",
   "metadata": {},
   "source": [
    "## Melior Lakemedel"
   ]
  },
  {
   "cell_type": "code",
   "execution_count": null,
   "id": "e6e3e8c2",
   "metadata": {},
   "outputs": [],
   "source": [
    "# Don't think we need this?\n",
    "\n",
    "#melior_lakemedel_pre = pd.read_csv(FILES[\"MELIOR_OrdinationerSamtUtdelningarEttÅrFöreAnkomst.csv\"], sep=\"|\", encoding=\"ISO-8859-1\", quoting=3)"
   ]
  },
  {
   "cell_type": "code",
   "execution_count": null,
   "id": "f36b3f60",
   "metadata": {},
   "outputs": [],
   "source": [
    "#melior_lakemedel_pre.head(1).T"
   ]
  },
  {
   "cell_type": "markdown",
   "id": "7ba3dad8",
   "metadata": {},
   "source": [
    "## Socialstyrelsen"
   ]
  },
  {
   "cell_type": "markdown",
   "id": "fee5f266",
   "metadata": {},
   "source": [
    "### Koder socialstyrelsen"
   ]
  },
  {
   "cell_type": "code",
   "execution_count": 13,
   "id": "a29e1a06",
   "metadata": {},
   "outputs": [],
   "source": [
    "hospital_map = pd.read_csv(\"/mnt/air-crypt/air-crypt-raw/andersb/resources/socialstyrelsen_hospital_map.csv\").set_index(\"code\")\n",
    "mvo_map = pd.read_csv(\"/mnt/air-crypt/air-crypt-raw/andersb/resources/socialstyrelsen_mvo_map.csv\").set_index(\"code\")\n",
    "lk_map = pd.read_csv(\"/mnt/air-crypt/air-crypt-raw/andersb/resources/scb_lk_koder.csv\").set_index(\"code\")\n",
    "sos_kva_df = pd.read_csv(\"/mnt/air-crypt/air-crypt-raw/andersb/resources/sos_patientregister_kva/kva-inkl-beskrivningstexter-2021-rev2020-12-23.KVÅ-alla.csv\").set_index(\"KOD\")\n",
    "sectra_map = pd.read_csv(\"/mnt/air-crypt/air-crypt-raw/andersb/resources/sectra_koder/Undersöknings koder RIS-AB.csv\").set_index(\"Kod\")"
   ]
  },
  {
   "cell_type": "markdown",
   "id": "f401297c",
   "metadata": {},
   "source": [
    "### SoS nyckel"
   ]
  },
  {
   "cell_type": "code",
   "execution_count": 14,
   "id": "5f54ff7b",
   "metadata": {},
   "outputs": [
    {
     "data": {
      "text/plain": [
       "['Alias', 'LopNr', 'AterPNr', 'SenPNr', 'SamOrdnNr', 'FelPersonnr']"
      ]
     },
     "metadata": {},
     "output_type": "display_data"
    },
    {
     "data": {
      "text/html": [
       "<div>\n",
       "<style scoped>\n",
       "    .dataframe tbody tr th:only-of-type {\n",
       "        vertical-align: middle;\n",
       "    }\n",
       "\n",
       "    .dataframe tbody tr th {\n",
       "        vertical-align: top;\n",
       "    }\n",
       "\n",
       "    .dataframe thead th {\n",
       "        text-align: right;\n",
       "    }\n",
       "</style>\n",
       "<table border=\"1\" class=\"dataframe\">\n",
       "  <thead>\n",
       "    <tr style=\"text-align: right;\">\n",
       "      <th></th>\n",
       "      <th>Alias</th>\n",
       "      <th>LopNr</th>\n",
       "      <th>AterPNr</th>\n",
       "      <th>SenPNr</th>\n",
       "      <th>SamOrdnNr</th>\n",
       "      <th>FelPersonnr</th>\n",
       "    </tr>\n",
       "  </thead>\n",
       "  <tbody>\n",
       "    <tr>\n",
       "      <th>0</th>\n",
       "      <td>10000004</td>\n",
       "      <td>207785</td>\n",
       "      <td>0</td>\n",
       "      <td>1</td>\n",
       "      <td>0</td>\n",
       "      <td>0</td>\n",
       "    </tr>\n",
       "    <tr>\n",
       "      <th>1</th>\n",
       "      <td>10000008</td>\n",
       "      <td>63827</td>\n",
       "      <td>0</td>\n",
       "      <td>1</td>\n",
       "      <td>0</td>\n",
       "      <td>0</td>\n",
       "    </tr>\n",
       "    <tr>\n",
       "      <th>2</th>\n",
       "      <td>10000012</td>\n",
       "      <td>142319</td>\n",
       "      <td>0</td>\n",
       "      <td>1</td>\n",
       "      <td>0</td>\n",
       "      <td>0</td>\n",
       "    </tr>\n",
       "    <tr>\n",
       "      <th>3</th>\n",
       "      <td>10000016</td>\n",
       "      <td>175408</td>\n",
       "      <td>0</td>\n",
       "      <td>1</td>\n",
       "      <td>0</td>\n",
       "      <td>0</td>\n",
       "    </tr>\n",
       "    <tr>\n",
       "      <th>4</th>\n",
       "      <td>10000020</td>\n",
       "      <td>21680</td>\n",
       "      <td>0</td>\n",
       "      <td>1</td>\n",
       "      <td>0</td>\n",
       "      <td>0</td>\n",
       "    </tr>\n",
       "  </tbody>\n",
       "</table>\n",
       "</div>"
      ],
      "text/plain": [
       "      Alias   LopNr  AterPNr  SenPNr  SamOrdnNr  FelPersonnr\n",
       "0  10000004  207785        0       1          0            0\n",
       "1  10000008   63827        0       1          0            0\n",
       "2  10000012  142319        0       1          0            0\n",
       "3  10000016  175408        0       1          0            0\n",
       "4  10000020   21680        0       1          0            0"
      ]
     },
     "metadata": {},
     "output_type": "display_data"
    },
    {
     "data": {
      "text/plain": [
       "317071"
      ]
     },
     "metadata": {},
     "output_type": "display_data"
    }
   ],
   "source": [
    "sos_nyckel = pd.read_csv(FILES[\"SCB_Ekelund_LEV_Nyckel.csv\"], sep=\"|\", encoding=\"ISO-8859-1\")\n",
    "display(list(sos_nyckel))\n",
    "display(sos_nyckel.head())\n",
    "display(len(sos_nyckel))"
   ]
  },
  {
   "cell_type": "code",
   "execution_count": 18,
   "id": "0833a117",
   "metadata": {},
   "outputs": [
    {
     "data": {
      "text/plain": [
       "305775    1\n",
       "189350    1\n",
       "301107    1\n",
       "19365     1\n",
       "120134    1\n",
       "         ..\n",
       "82385     1\n",
       "183638    1\n",
       "211353    1\n",
       "160151    2\n",
       "103968    2\n",
       "Name: LopNr, Length: 317069, dtype: int64"
      ]
     },
     "execution_count": 18,
     "metadata": {},
     "output_type": "execute_result"
    }
   ],
   "source": [
    "sos_nyckel[\"LopNr\"].value_counts().sort_values()"
   ]
  },
  {
   "cell_type": "markdown",
   "id": "3e95c478",
   "metadata": {},
   "source": [
    "### Join SoS LopNr i Liggaren"
   ]
  },
  {
   "cell_type": "code",
   "execution_count": 19,
   "id": "014d364d",
   "metadata": {},
   "outputs": [],
   "source": [
    "#liggaren = liggaren.merge(sos_nyckel[[\"Alias\",\"LopNr\"]], on=\"Alias\", suffixes=(\"\",\"_SoS\"), how=\"left\")\n",
    "#liggaren[\"LopNr\"] = liggaren[\"LopNr\"].fillna(-1).astype(int)\n",
    "#liggaren[\"LopNr\"].value_counts()\n",
    "\n",
    "## Behövs ej?"
   ]
  },
  {
   "cell_type": "markdown",
   "id": "050bbb45",
   "metadata": {},
   "source": [
    "### SoS Sluten"
   ]
  },
  {
   "cell_type": "code",
   "execution_count": 15,
   "id": "0fa309ac",
   "metadata": {},
   "outputs": [
    {
     "name": "stderr",
     "output_type": "stream",
     "text": [
      "/tmp/ipykernel_16351/772931258.py:1: DtypeWarning: Columns (2,3,4,12,39,40,41,42,43,44,45,46,47,48,49,50,51,52,61,77,78,79,80,81,82,83,84,85,86,87,88,89,90,91) have mixed types. Specify dtype option on import or set low_memory=False.\n",
      "  sos_sluten = pd.read_csv(FILES[\"SOS_T_T_T_R_PAR_SV_24129_2020.csv\"], sep=\"|\", encoding=\"ISO-8859-1\")\n"
     ]
    },
    {
     "data": {
      "text/plain": [
       "['EKOD1',\n",
       " 'EKOD2',\n",
       " 'EKOD3',\n",
       " 'EKOD4',\n",
       " 'EKOD5',\n",
       " 'hdia',\n",
       " 'LopNr',\n",
       " 'AR',\n",
       " 'LK',\n",
       " 'FODDAT',\n",
       " 'KON',\n",
       " 'ALDER',\n",
       " 'SJUKHUS',\n",
       " 'MVO',\n",
       " 'INDATUMA',\n",
       " 'UTDATUMA',\n",
       " 'INDATUM',\n",
       " 'UTDATUM',\n",
       " 'VTID',\n",
       " 'INSATT',\n",
       " 'UTSATT',\n",
       " 'PVARD',\n",
       " 'OP',\n",
       " 'OPD1',\n",
       " 'OPD2',\n",
       " 'OPD3',\n",
       " 'OPD4',\n",
       " 'OPD5',\n",
       " 'OPD6',\n",
       " 'OPD7',\n",
       " 'OPD8',\n",
       " 'OPD9',\n",
       " 'OPD10',\n",
       " 'OPD11',\n",
       " 'OPD12',\n",
       " 'OPD13',\n",
       " 'OPD14',\n",
       " 'OPD15',\n",
       " 'OPD16',\n",
       " 'OPD17',\n",
       " 'OPD18',\n",
       " 'OPD19',\n",
       " 'OPD20',\n",
       " 'OPD21',\n",
       " 'OPD22',\n",
       " 'OPD23',\n",
       " 'OPD24',\n",
       " 'OPD25',\n",
       " 'OPD26',\n",
       " 'OPD27',\n",
       " 'OPD28',\n",
       " 'OPD29',\n",
       " 'OPD30',\n",
       " 'DIA_ANT',\n",
       " 'OP_ANT',\n",
       " 'FLAND',\n",
       " 'SENINV',\n",
       " 'SENUTV',\n",
       " 'CIVIL',\n",
       " 'NATION',\n",
       " 'LKF',\n",
       " 'LKF_IN',\n",
       " 'DIA1',\n",
       " 'DIA2',\n",
       " 'DIA3',\n",
       " 'DIA4',\n",
       " 'DIA5',\n",
       " 'DIA6',\n",
       " 'DIA7',\n",
       " 'DIA8',\n",
       " 'DIA9',\n",
       " 'DIA10',\n",
       " 'DIA11',\n",
       " 'DIA12',\n",
       " 'DIA13',\n",
       " 'DIA14',\n",
       " 'DIA15',\n",
       " 'DIA16',\n",
       " 'DIA17',\n",
       " 'DIA18',\n",
       " 'DIA19',\n",
       " 'DIA20',\n",
       " 'DIA21',\n",
       " 'DIA22',\n",
       " 'DIA23',\n",
       " 'DIA24',\n",
       " 'DIA25',\n",
       " 'DIA26',\n",
       " 'DIA27',\n",
       " 'DIA28',\n",
       " 'DIA29',\n",
       " 'DIA30',\n",
       " 'Alias']"
      ]
     },
     "metadata": {},
     "output_type": "display_data"
    },
    {
     "data": {
      "text/html": [
       "<div>\n",
       "<style scoped>\n",
       "    .dataframe tbody tr th:only-of-type {\n",
       "        vertical-align: middle;\n",
       "    }\n",
       "\n",
       "    .dataframe tbody tr th {\n",
       "        vertical-align: top;\n",
       "    }\n",
       "\n",
       "    .dataframe thead th {\n",
       "        text-align: right;\n",
       "    }\n",
       "</style>\n",
       "<table border=\"1\" class=\"dataframe\">\n",
       "  <thead>\n",
       "    <tr style=\"text-align: right;\">\n",
       "      <th></th>\n",
       "      <th>EKOD1</th>\n",
       "      <th>EKOD2</th>\n",
       "      <th>EKOD3</th>\n",
       "      <th>EKOD4</th>\n",
       "      <th>EKOD5</th>\n",
       "      <th>hdia</th>\n",
       "      <th>LopNr</th>\n",
       "      <th>AR</th>\n",
       "      <th>LK</th>\n",
       "      <th>FODDAT</th>\n",
       "      <th>...</th>\n",
       "      <th>DIA22</th>\n",
       "      <th>DIA23</th>\n",
       "      <th>DIA24</th>\n",
       "      <th>DIA25</th>\n",
       "      <th>DIA26</th>\n",
       "      <th>DIA27</th>\n",
       "      <th>DIA28</th>\n",
       "      <th>DIA29</th>\n",
       "      <th>DIA30</th>\n",
       "      <th>Alias</th>\n",
       "    </tr>\n",
       "  </thead>\n",
       "  <tbody>\n",
       "    <tr>\n",
       "      <th>0</th>\n",
       "      <td>NaN</td>\n",
       "      <td>NaN</td>\n",
       "      <td>NaN</td>\n",
       "      <td>NaN</td>\n",
       "      <td>NaN</td>\n",
       "      <td>O80-O84</td>\n",
       "      <td>315247</td>\n",
       "      <td>2019</td>\n",
       "      <td>2084.0</td>\n",
       "      <td>198605</td>\n",
       "      <td>...</td>\n",
       "      <td>NaN</td>\n",
       "      <td>NaN</td>\n",
       "      <td>NaN</td>\n",
       "      <td>NaN</td>\n",
       "      <td>NaN</td>\n",
       "      <td>NaN</td>\n",
       "      <td>NaN</td>\n",
       "      <td>NaN</td>\n",
       "      <td>NaN</td>\n",
       "      <td>10217560</td>\n",
       "    </tr>\n",
       "    <tr>\n",
       "      <th>1</th>\n",
       "      <td>NaN</td>\n",
       "      <td>NaN</td>\n",
       "      <td>NaN</td>\n",
       "      <td>NaN</td>\n",
       "      <td>NaN</td>\n",
       "      <td>K859</td>\n",
       "      <td>266616</td>\n",
       "      <td>2019</td>\n",
       "      <td>1281.0</td>\n",
       "      <td>197202</td>\n",
       "      <td>...</td>\n",
       "      <td>NaN</td>\n",
       "      <td>NaN</td>\n",
       "      <td>NaN</td>\n",
       "      <td>NaN</td>\n",
       "      <td>NaN</td>\n",
       "      <td>NaN</td>\n",
       "      <td>NaN</td>\n",
       "      <td>NaN</td>\n",
       "      <td>NaN</td>\n",
       "      <td>10242665</td>\n",
       "    </tr>\n",
       "    <tr>\n",
       "      <th>2</th>\n",
       "      <td>NaN</td>\n",
       "      <td>NaN</td>\n",
       "      <td>NaN</td>\n",
       "      <td>NaN</td>\n",
       "      <td>NaN</td>\n",
       "      <td>I742</td>\n",
       "      <td>97825</td>\n",
       "      <td>2019</td>\n",
       "      <td>1231.0</td>\n",
       "      <td>193512</td>\n",
       "      <td>...</td>\n",
       "      <td>NaN</td>\n",
       "      <td>NaN</td>\n",
       "      <td>NaN</td>\n",
       "      <td>NaN</td>\n",
       "      <td>NaN</td>\n",
       "      <td>NaN</td>\n",
       "      <td>NaN</td>\n",
       "      <td>NaN</td>\n",
       "      <td>NaN</td>\n",
       "      <td>10249389</td>\n",
       "    </tr>\n",
       "    <tr>\n",
       "      <th>3</th>\n",
       "      <td>NaN</td>\n",
       "      <td>NaN</td>\n",
       "      <td>NaN</td>\n",
       "      <td>NaN</td>\n",
       "      <td>NaN</td>\n",
       "      <td>NaN</td>\n",
       "      <td>164241</td>\n",
       "      <td>2019</td>\n",
       "      <td>1230.0</td>\n",
       "      <td>199909</td>\n",
       "      <td>...</td>\n",
       "      <td>NaN</td>\n",
       "      <td>NaN</td>\n",
       "      <td>NaN</td>\n",
       "      <td>NaN</td>\n",
       "      <td>NaN</td>\n",
       "      <td>NaN</td>\n",
       "      <td>NaN</td>\n",
       "      <td>NaN</td>\n",
       "      <td>NaN</td>\n",
       "      <td>10143691</td>\n",
       "    </tr>\n",
       "    <tr>\n",
       "      <th>4</th>\n",
       "      <td>Y05</td>\n",
       "      <td>NaN</td>\n",
       "      <td>NaN</td>\n",
       "      <td>NaN</td>\n",
       "      <td>NaN</td>\n",
       "      <td>NaN</td>\n",
       "      <td>164241</td>\n",
       "      <td>2019</td>\n",
       "      <td>1230.0</td>\n",
       "      <td>199909</td>\n",
       "      <td>...</td>\n",
       "      <td>NaN</td>\n",
       "      <td>NaN</td>\n",
       "      <td>NaN</td>\n",
       "      <td>NaN</td>\n",
       "      <td>NaN</td>\n",
       "      <td>NaN</td>\n",
       "      <td>NaN</td>\n",
       "      <td>NaN</td>\n",
       "      <td>NaN</td>\n",
       "      <td>10143691</td>\n",
       "    </tr>\n",
       "  </tbody>\n",
       "</table>\n",
       "<p>5 rows × 93 columns</p>\n",
       "</div>"
      ],
      "text/plain": [
       "  EKOD1 EKOD2 EKOD3 EKOD4 EKOD5     hdia   LopNr    AR      LK  FODDAT  ...  \\\n",
       "0   NaN   NaN   NaN   NaN   NaN  O80-O84  315247  2019  2084.0  198605  ...   \n",
       "1   NaN   NaN   NaN   NaN   NaN     K859  266616  2019  1281.0  197202  ...   \n",
       "2   NaN   NaN   NaN   NaN   NaN     I742   97825  2019  1231.0  193512  ...   \n",
       "3   NaN   NaN   NaN   NaN   NaN      NaN  164241  2019  1230.0  199909  ...   \n",
       "4   Y05   NaN   NaN   NaN   NaN      NaN  164241  2019  1230.0  199909  ...   \n",
       "\n",
       "   DIA22  DIA23 DIA24 DIA25  DIA26  DIA27 DIA28 DIA29  DIA30     Alias  \n",
       "0    NaN    NaN   NaN   NaN    NaN    NaN   NaN   NaN    NaN  10217560  \n",
       "1    NaN    NaN   NaN   NaN    NaN    NaN   NaN   NaN    NaN  10242665  \n",
       "2    NaN    NaN   NaN   NaN    NaN    NaN   NaN   NaN    NaN  10249389  \n",
       "3    NaN    NaN   NaN   NaN    NaN    NaN   NaN   NaN    NaN  10143691  \n",
       "4    NaN    NaN   NaN   NaN    NaN    NaN   NaN   NaN    NaN  10143691  \n",
       "\n",
       "[5 rows x 93 columns]"
      ]
     },
     "metadata": {},
     "output_type": "display_data"
    }
   ],
   "source": [
    "sos_sluten = pd.read_csv(FILES[\"SOS_T_T_T_R_PAR_SV_24129_2020.csv\"], sep=\"|\", encoding=\"ISO-8859-1\")\n",
    "#sos_sluten[\"LopNr\"] = sos_sluten[\"LopNr\"].astype(int)\n",
    "sos_sluten[\"INDATUM\"] = pd.to_datetime(sos_sluten[\"INDATUM\"])\n",
    "sos_sluten[\"UTDATUM\"] = pd.to_datetime(sos_sluten[\"UTDATUM\"])\n",
    "sos_sluten = sos_sluten.merge(sos_nyckel[[\"Alias\",\"LopNr\"]], on=\"LopNr\", suffixes=(\"_SV\",\"_Nyckel\"), how=\"left\")\n",
    "sos_sluten[\"Alias\"] = sos_sluten[\"Alias\"].fillna(-1).astype(int)\n",
    "sos_sluten[\"SJUKHUS\"] = sos_sluten[\"SJUKHUS\"].astype(str).replace(hospital_map.hospital)\n",
    "sos_sluten[\"MVO\"] = sos_sluten[\"MVO\"].fillna(\"-1\").astype(int).replace(mvo_map.MVO)\n",
    "display(list(sos_sluten))\n",
    "display(sos_sluten.head())"
   ]
  },
  {
   "cell_type": "code",
   "execution_count": null,
   "id": "420da839",
   "metadata": {},
   "outputs": [],
   "source": [
    "sos_sluten[\"MVO\"].value_counts()"
   ]
  },
  {
   "cell_type": "markdown",
   "id": "dd2d30b0",
   "metadata": {},
   "source": [
    "### SoS Oppen"
   ]
  },
  {
   "cell_type": "code",
   "execution_count": 16,
   "id": "c26760e0",
   "metadata": {},
   "outputs": [
    {
     "name": "stderr",
     "output_type": "stream",
     "text": [
      "/tmp/ipykernel_16351/1714827133.py:1: DtypeWarning: Columns (1,2,3,4,14,15,19,20,21,22,33,41,42,43,44,45,46,47,48,49,50,51,52,53,54,55,56,57,58,59,60,61,62,63) have mixed types. Specify dtype option on import or set low_memory=False.\n",
      "  sos_oppen = pd.read_csv(FILES[\"SOS_T_T_T_R_PAR_OV_24129_2020.csv\"], sep=\"|\", encoding=\"ISO-8859-1\")\n"
     ]
    },
    {
     "data": {
      "text/plain": [
       "['EKOD1',\n",
       " 'EKOD2',\n",
       " 'EKOD3',\n",
       " 'EKOD4',\n",
       " 'EKOD5',\n",
       " 'EKOD6',\n",
       " 'EKOD7',\n",
       " 'hdia',\n",
       " 'LopNr',\n",
       " 'AR',\n",
       " 'LK',\n",
       " 'FODDAT',\n",
       " 'KON',\n",
       " 'ALDER',\n",
       " 'SJUKHUS',\n",
       " 'MVO',\n",
       " 'INDATUMA',\n",
       " 'INDATUM',\n",
       " 'PVARD',\n",
       " 'KTYP',\n",
       " 'IN_AKUT_TIDPUNKT',\n",
       " 'BED_AKUT_TIDPUNKT',\n",
       " 'UT_AKUT_TIDPUNKT',\n",
       " 'VERKS_AKUT',\n",
       " 'OP',\n",
       " 'DIA_ANT',\n",
       " 'OP_ANT',\n",
       " 'FLAND',\n",
       " 'SENINV',\n",
       " 'SENUTV',\n",
       " 'CIVIL',\n",
       " 'NATION',\n",
       " 'LKF',\n",
       " 'LKF_IN',\n",
       " 'DIA1',\n",
       " 'DIA2',\n",
       " 'DIA3',\n",
       " 'DIA4',\n",
       " 'DIA5',\n",
       " 'DIA6',\n",
       " 'DIA7',\n",
       " 'DIA8',\n",
       " 'DIA9',\n",
       " 'DIA10',\n",
       " 'DIA11',\n",
       " 'DIA12',\n",
       " 'DIA13',\n",
       " 'DIA14',\n",
       " 'DIA15',\n",
       " 'DIA16',\n",
       " 'DIA17',\n",
       " 'DIA18',\n",
       " 'DIA19',\n",
       " 'DIA20',\n",
       " 'DIA21',\n",
       " 'DIA22',\n",
       " 'DIA23',\n",
       " 'DIA24',\n",
       " 'DIA25',\n",
       " 'DIA26',\n",
       " 'DIA27',\n",
       " 'DIA28',\n",
       " 'DIA29',\n",
       " 'DIA30',\n",
       " 'Alias']"
      ]
     },
     "metadata": {},
     "output_type": "display_data"
    },
    {
     "data": {
      "text/html": [
       "<div>\n",
       "<style scoped>\n",
       "    .dataframe tbody tr th:only-of-type {\n",
       "        vertical-align: middle;\n",
       "    }\n",
       "\n",
       "    .dataframe tbody tr th {\n",
       "        vertical-align: top;\n",
       "    }\n",
       "\n",
       "    .dataframe thead th {\n",
       "        text-align: right;\n",
       "    }\n",
       "</style>\n",
       "<table border=\"1\" class=\"dataframe\">\n",
       "  <thead>\n",
       "    <tr style=\"text-align: right;\">\n",
       "      <th></th>\n",
       "      <th>EKOD1</th>\n",
       "      <th>EKOD2</th>\n",
       "      <th>EKOD3</th>\n",
       "      <th>EKOD4</th>\n",
       "      <th>EKOD5</th>\n",
       "      <th>EKOD6</th>\n",
       "      <th>EKOD7</th>\n",
       "      <th>hdia</th>\n",
       "      <th>LopNr</th>\n",
       "      <th>AR</th>\n",
       "      <th>...</th>\n",
       "      <th>DIA22</th>\n",
       "      <th>DIA23</th>\n",
       "      <th>DIA24</th>\n",
       "      <th>DIA25</th>\n",
       "      <th>DIA26</th>\n",
       "      <th>DIA27</th>\n",
       "      <th>DIA28</th>\n",
       "      <th>DIA29</th>\n",
       "      <th>DIA30</th>\n",
       "      <th>Alias</th>\n",
       "    </tr>\n",
       "  </thead>\n",
       "  <tbody>\n",
       "    <tr>\n",
       "      <th>0</th>\n",
       "      <td>NaN</td>\n",
       "      <td>NaN</td>\n",
       "      <td>NaN</td>\n",
       "      <td>NaN</td>\n",
       "      <td>NaN</td>\n",
       "      <td>NaN</td>\n",
       "      <td>NaN</td>\n",
       "      <td>NaN</td>\n",
       "      <td>209613</td>\n",
       "      <td>2019</td>\n",
       "      <td>...</td>\n",
       "      <td>NaN</td>\n",
       "      <td>NaN</td>\n",
       "      <td>NaN</td>\n",
       "      <td>NaN</td>\n",
       "      <td>NaN</td>\n",
       "      <td>NaN</td>\n",
       "      <td>NaN</td>\n",
       "      <td>NaN</td>\n",
       "      <td>NaN</td>\n",
       "      <td>10152901</td>\n",
       "    </tr>\n",
       "    <tr>\n",
       "      <th>1</th>\n",
       "      <td>NaN</td>\n",
       "      <td>NaN</td>\n",
       "      <td>NaN</td>\n",
       "      <td>NaN</td>\n",
       "      <td>NaN</td>\n",
       "      <td>NaN</td>\n",
       "      <td>NaN</td>\n",
       "      <td>J189</td>\n",
       "      <td>214097</td>\n",
       "      <td>2019</td>\n",
       "      <td>...</td>\n",
       "      <td>NaN</td>\n",
       "      <td>NaN</td>\n",
       "      <td>NaN</td>\n",
       "      <td>NaN</td>\n",
       "      <td>NaN</td>\n",
       "      <td>NaN</td>\n",
       "      <td>NaN</td>\n",
       "      <td>NaN</td>\n",
       "      <td>NaN</td>\n",
       "      <td>10242831</td>\n",
       "    </tr>\n",
       "    <tr>\n",
       "      <th>2</th>\n",
       "      <td>NaN</td>\n",
       "      <td>NaN</td>\n",
       "      <td>NaN</td>\n",
       "      <td>NaN</td>\n",
       "      <td>NaN</td>\n",
       "      <td>NaN</td>\n",
       "      <td>NaN</td>\n",
       "      <td>NaN</td>\n",
       "      <td>264659</td>\n",
       "      <td>2019</td>\n",
       "      <td>...</td>\n",
       "      <td>NaN</td>\n",
       "      <td>NaN</td>\n",
       "      <td>NaN</td>\n",
       "      <td>NaN</td>\n",
       "      <td>NaN</td>\n",
       "      <td>NaN</td>\n",
       "      <td>NaN</td>\n",
       "      <td>NaN</td>\n",
       "      <td>NaN</td>\n",
       "      <td>10212494</td>\n",
       "    </tr>\n",
       "    <tr>\n",
       "      <th>3</th>\n",
       "      <td>NaN</td>\n",
       "      <td>NaN</td>\n",
       "      <td>NaN</td>\n",
       "      <td>NaN</td>\n",
       "      <td>NaN</td>\n",
       "      <td>NaN</td>\n",
       "      <td>NaN</td>\n",
       "      <td>NaN</td>\n",
       "      <td>264659</td>\n",
       "      <td>2019</td>\n",
       "      <td>...</td>\n",
       "      <td>NaN</td>\n",
       "      <td>NaN</td>\n",
       "      <td>NaN</td>\n",
       "      <td>NaN</td>\n",
       "      <td>NaN</td>\n",
       "      <td>NaN</td>\n",
       "      <td>NaN</td>\n",
       "      <td>NaN</td>\n",
       "      <td>NaN</td>\n",
       "      <td>10212494</td>\n",
       "    </tr>\n",
       "    <tr>\n",
       "      <th>4</th>\n",
       "      <td>NaN</td>\n",
       "      <td>NaN</td>\n",
       "      <td>NaN</td>\n",
       "      <td>NaN</td>\n",
       "      <td>NaN</td>\n",
       "      <td>NaN</td>\n",
       "      <td>NaN</td>\n",
       "      <td>NaN</td>\n",
       "      <td>264659</td>\n",
       "      <td>2019</td>\n",
       "      <td>...</td>\n",
       "      <td>NaN</td>\n",
       "      <td>NaN</td>\n",
       "      <td>NaN</td>\n",
       "      <td>NaN</td>\n",
       "      <td>NaN</td>\n",
       "      <td>NaN</td>\n",
       "      <td>NaN</td>\n",
       "      <td>NaN</td>\n",
       "      <td>NaN</td>\n",
       "      <td>10212494</td>\n",
       "    </tr>\n",
       "  </tbody>\n",
       "</table>\n",
       "<p>5 rows × 65 columns</p>\n",
       "</div>"
      ],
      "text/plain": [
       "  EKOD1 EKOD2 EKOD3 EKOD4 EKOD5  EKOD6  EKOD7  hdia   LopNr    AR  ...  DIA22  \\\n",
       "0   NaN   NaN   NaN   NaN   NaN    NaN    NaN   NaN  209613  2019  ...    NaN   \n",
       "1   NaN   NaN   NaN   NaN   NaN    NaN    NaN  J189  214097  2019  ...    NaN   \n",
       "2   NaN   NaN   NaN   NaN   NaN    NaN    NaN   NaN  264659  2019  ...    NaN   \n",
       "3   NaN   NaN   NaN   NaN   NaN    NaN    NaN   NaN  264659  2019  ...    NaN   \n",
       "4   NaN   NaN   NaN   NaN   NaN    NaN    NaN   NaN  264659  2019  ...    NaN   \n",
       "\n",
       "   DIA23  DIA24  DIA25 DIA26 DIA27  DIA28 DIA29  DIA30     Alias  \n",
       "0    NaN    NaN    NaN   NaN   NaN    NaN   NaN    NaN  10152901  \n",
       "1    NaN    NaN    NaN   NaN   NaN    NaN   NaN    NaN  10242831  \n",
       "2    NaN    NaN    NaN   NaN   NaN    NaN   NaN    NaN  10212494  \n",
       "3    NaN    NaN    NaN   NaN   NaN    NaN   NaN    NaN  10212494  \n",
       "4    NaN    NaN    NaN   NaN   NaN    NaN   NaN    NaN  10212494  \n",
       "\n",
       "[5 rows x 65 columns]"
      ]
     },
     "metadata": {},
     "output_type": "display_data"
    }
   ],
   "source": [
    "sos_oppen = pd.read_csv(FILES[\"SOS_T_T_T_R_PAR_OV_24129_2020.csv\"], sep=\"|\", encoding=\"ISO-8859-1\")\n",
    "sos_oppen[\"INDATUM\"] = pd.to_datetime(sos_oppen[\"INDATUM\"])\n",
    "sos_oppen = sos_oppen.merge(sos_nyckel[[\"Alias\",\"LopNr\"]], on=\"LopNr\", suffixes=(\"_OV\",\"_Nyckel\"), how=\"left\")\n",
    "sos_oppen[\"Alias\"] = sos_oppen[\"Alias\"].fillna(-1).astype(int)\n",
    "sos_oppen[\"SJUKHUS\"] = sos_oppen[\"SJUKHUS\"].astype(str).replace(hospital_map.hospital)\n",
    "#sos_oppen[\"MVO\"] = sos_oppen[\"MVO\"].fillna(\"-1\").astype(int).replace(mvo_map.MVO)  ## XXX: Doesn't work due to 'Flo' in the column, whatever the hell that is. Hospital is always '30439', but it's not all the cases of that hospital...\n",
    "display(list(sos_oppen))\n",
    "display(sos_oppen.head())"
   ]
  },
  {
   "cell_type": "code",
   "execution_count": null,
   "id": "0db10203",
   "metadata": {},
   "outputs": [],
   "source": [
    "## Ignore this for now, but dunno what Flo is (see also above, MVO)\n",
    "\n",
    "pd.set_option('display.max_rows', 50)\n",
    "#sos_oppen[(sos_oppen[\"MVO\"] == \"Flo\")].head().T\n",
    "sos_oppen[\"SJUKHUS\"].value_counts()\n",
    "#sos_oppen.head().T"
   ]
  },
  {
   "cell_type": "markdown",
   "id": "d8fa6362",
   "metadata": {},
   "source": [
    "### SoS DORS"
   ]
  },
  {
   "cell_type": "code",
   "execution_count": 17,
   "id": "f88b6c9e",
   "metadata": {},
   "outputs": [
    {
     "name": "stderr",
     "output_type": "stream",
     "text": [
      "/tmp/ipykernel_16351/3181732963.py:1: DtypeWarning: Columns (27,28,29,30,31) have mixed types. Specify dtype option on import or set low_memory=False.\n",
      "  sos_dors = pd.read_csv(FILES[\"SOS_R_DORS_24129_2020.csv\"], sep=\"|\", encoding=\"ISO-8859-1\")\n"
     ]
    },
    {
     "data": {
      "text/plain": [
       "['LopNr',\n",
       " 'AR',\n",
       " 'DODSDAT',\n",
       " 'KON',\n",
       " 'alder',\n",
       " 'LK',\n",
       " 'ICD',\n",
       " 'LKF',\n",
       " 'ULORSAK',\n",
       " 'KAP19',\n",
       " 'MORSAK1',\n",
       " 'MORSAK2',\n",
       " 'MORSAK3',\n",
       " 'MORSAK4',\n",
       " 'MORSAK5',\n",
       " 'MORSAK6',\n",
       " 'MORSAK7',\n",
       " 'MORSAK8',\n",
       " 'MORSAK9',\n",
       " 'MORSAK10',\n",
       " 'MORSAK11',\n",
       " 'MORSAK12',\n",
       " 'MORSAK13',\n",
       " 'MORSAK14',\n",
       " 'MORSAK15',\n",
       " 'MORSAK16',\n",
       " 'MORSAK17',\n",
       " 'MORSAK18',\n",
       " 'MORSAK19',\n",
       " 'MORSAK20',\n",
       " 'MORSAK21',\n",
       " 'MORSAK22',\n",
       " 'MORSAK23',\n",
       " 'MORSAK24',\n",
       " 'MORSAK25',\n",
       " 'MORSAK26',\n",
       " 'MORSAK27',\n",
       " 'MORSAK28',\n",
       " 'MORSAK29',\n",
       " 'MORSAK30',\n",
       " 'MORSAK31',\n",
       " 'MORSAK32',\n",
       " 'MORSAK33',\n",
       " 'MORSAK34',\n",
       " 'MORSAK35',\n",
       " 'MORSAK36',\n",
       " 'MORSAK37',\n",
       " 'MORSAK38',\n",
       " 'MORSAK39',\n",
       " 'MORSAK40',\n",
       " 'MORSAK41',\n",
       " 'MORSAK42',\n",
       " 'MORSAK43',\n",
       " 'MORSAK44',\n",
       " 'MORSAK45',\n",
       " 'MORSAK46',\n",
       " 'MORSAK47',\n",
       " 'MORSAK48',\n",
       " 'DALDKL5',\n",
       " 'DBGRUND1',\n",
       " 'DBGRUND5',\n",
       " 'DBGRUND6',\n",
       " 'ALKOHOL',\n",
       " 'DIABETES',\n",
       " 'NATION',\n",
       " 'FODLAND',\n",
       " 'DODSPL',\n",
       " 'DODUTL',\n",
       " 'OPERERAD',\n",
       " 'FOBUTL',\n",
       " 'NATION_FOBUTL',\n",
       " 'DOD_KOMMUN',\n",
       " 'FODDATN',\n",
       " 'Alias']"
      ]
     },
     "metadata": {},
     "output_type": "display_data"
    },
    {
     "data": {
      "text/html": [
       "<div>\n",
       "<style scoped>\n",
       "    .dataframe tbody tr th:only-of-type {\n",
       "        vertical-align: middle;\n",
       "    }\n",
       "\n",
       "    .dataframe tbody tr th {\n",
       "        vertical-align: top;\n",
       "    }\n",
       "\n",
       "    .dataframe thead th {\n",
       "        text-align: right;\n",
       "    }\n",
       "</style>\n",
       "<table border=\"1\" class=\"dataframe\">\n",
       "  <thead>\n",
       "    <tr style=\"text-align: right;\">\n",
       "      <th></th>\n",
       "      <th>LopNr</th>\n",
       "      <th>AR</th>\n",
       "      <th>DODSDAT</th>\n",
       "      <th>KON</th>\n",
       "      <th>alder</th>\n",
       "      <th>LK</th>\n",
       "      <th>ICD</th>\n",
       "      <th>LKF</th>\n",
       "      <th>ULORSAK</th>\n",
       "      <th>KAP19</th>\n",
       "      <th>...</th>\n",
       "      <th>NATION</th>\n",
       "      <th>FODLAND</th>\n",
       "      <th>DODSPL</th>\n",
       "      <th>DODUTL</th>\n",
       "      <th>OPERERAD</th>\n",
       "      <th>FOBUTL</th>\n",
       "      <th>NATION_FOBUTL</th>\n",
       "      <th>DOD_KOMMUN</th>\n",
       "      <th>FODDATN</th>\n",
       "      <th>Alias</th>\n",
       "    </tr>\n",
       "  </thead>\n",
       "  <tbody>\n",
       "    <tr>\n",
       "      <th>0</th>\n",
       "      <td>185581</td>\n",
       "      <td>2018</td>\n",
       "      <td>20180629</td>\n",
       "      <td>2</td>\n",
       "      <td>106</td>\n",
       "      <td>Malmö</td>\n",
       "      <td>10</td>\n",
       "      <td>NaN</td>\n",
       "      <td>I209</td>\n",
       "      <td>NaN</td>\n",
       "      <td>...</td>\n",
       "      <td>Sverige</td>\n",
       "      <td>Sverige</td>\n",
       "      <td>2.0</td>\n",
       "      <td>NaN</td>\n",
       "      <td>2.0</td>\n",
       "      <td>NaN</td>\n",
       "      <td>Uppgift Saknas</td>\n",
       "      <td>Malmö</td>\n",
       "      <td>1911-07</td>\n",
       "      <td>10093991</td>\n",
       "    </tr>\n",
       "    <tr>\n",
       "      <th>1</th>\n",
       "      <td>46635</td>\n",
       "      <td>2017</td>\n",
       "      <td>20170529</td>\n",
       "      <td>2</td>\n",
       "      <td>105</td>\n",
       "      <td>Kristianstad</td>\n",
       "      <td>10</td>\n",
       "      <td>NaN</td>\n",
       "      <td>I219</td>\n",
       "      <td>NaN</td>\n",
       "      <td>...</td>\n",
       "      <td>Sverige</td>\n",
       "      <td>Sverige</td>\n",
       "      <td>1.0</td>\n",
       "      <td>NaN</td>\n",
       "      <td>2.0</td>\n",
       "      <td>NaN</td>\n",
       "      <td>Uppgift Saknas</td>\n",
       "      <td>-1</td>\n",
       "      <td>1911-07</td>\n",
       "      <td>10208086</td>\n",
       "    </tr>\n",
       "    <tr>\n",
       "      <th>2</th>\n",
       "      <td>44511</td>\n",
       "      <td>2018</td>\n",
       "      <td>20180301</td>\n",
       "      <td>2</td>\n",
       "      <td>105</td>\n",
       "      <td>Helsingborg</td>\n",
       "      <td>10</td>\n",
       "      <td>NaN</td>\n",
       "      <td>J189</td>\n",
       "      <td>NaN</td>\n",
       "      <td>...</td>\n",
       "      <td>Sverige</td>\n",
       "      <td>Sverige</td>\n",
       "      <td>2.0</td>\n",
       "      <td>NaN</td>\n",
       "      <td>2.0</td>\n",
       "      <td>NaN</td>\n",
       "      <td>Uppgift Saknas</td>\n",
       "      <td>Helsingborg</td>\n",
       "      <td>1912-05</td>\n",
       "      <td>10304166</td>\n",
       "    </tr>\n",
       "    <tr>\n",
       "      <th>3</th>\n",
       "      <td>89151</td>\n",
       "      <td>2017</td>\n",
       "      <td>20170210</td>\n",
       "      <td>1</td>\n",
       "      <td>104</td>\n",
       "      <td>Vellinge</td>\n",
       "      <td>10</td>\n",
       "      <td>NaN</td>\n",
       "      <td>I619</td>\n",
       "      <td>NaN</td>\n",
       "      <td>...</td>\n",
       "      <td>Sverige</td>\n",
       "      <td>Sverige</td>\n",
       "      <td>3.0</td>\n",
       "      <td>NaN</td>\n",
       "      <td>2.0</td>\n",
       "      <td>NaN</td>\n",
       "      <td>Uppgift Saknas</td>\n",
       "      <td>Vellinge</td>\n",
       "      <td>1912-07</td>\n",
       "      <td>10134952</td>\n",
       "    </tr>\n",
       "    <tr>\n",
       "      <th>4</th>\n",
       "      <td>57093</td>\n",
       "      <td>2017</td>\n",
       "      <td>20171109</td>\n",
       "      <td>1</td>\n",
       "      <td>105</td>\n",
       "      <td>Malmö</td>\n",
       "      <td>10</td>\n",
       "      <td>NaN</td>\n",
       "      <td>I442</td>\n",
       "      <td>NaN</td>\n",
       "      <td>...</td>\n",
       "      <td>Sverige</td>\n",
       "      <td>Sverige</td>\n",
       "      <td>1.0</td>\n",
       "      <td>NaN</td>\n",
       "      <td>2.0</td>\n",
       "      <td>NaN</td>\n",
       "      <td>Uppgift Saknas</td>\n",
       "      <td>Malmö</td>\n",
       "      <td>1912-07</td>\n",
       "      <td>10262556</td>\n",
       "    </tr>\n",
       "  </tbody>\n",
       "</table>\n",
       "<p>5 rows × 74 columns</p>\n",
       "</div>"
      ],
      "text/plain": [
       "    LopNr    AR   DODSDAT  KON  alder            LK  ICD  LKF ULORSAK KAP19  \\\n",
       "0  185581  2018  20180629    2    106         Malmö   10  NaN    I209   NaN   \n",
       "1   46635  2017  20170529    2    105  Kristianstad   10  NaN    I219   NaN   \n",
       "2   44511  2018  20180301    2    105   Helsingborg   10  NaN    J189   NaN   \n",
       "3   89151  2017  20170210    1    104      Vellinge   10  NaN    I619   NaN   \n",
       "4   57093  2017  20171109    1    105         Malmö   10  NaN    I442   NaN   \n",
       "\n",
       "   ...   NATION  FODLAND DODSPL DODUTL OPERERAD FOBUTL   NATION_FOBUTL  \\\n",
       "0  ...  Sverige  Sverige    2.0    NaN      2.0    NaN  Uppgift Saknas   \n",
       "1  ...  Sverige  Sverige    1.0    NaN      2.0    NaN  Uppgift Saknas   \n",
       "2  ...  Sverige  Sverige    2.0    NaN      2.0    NaN  Uppgift Saknas   \n",
       "3  ...  Sverige  Sverige    3.0    NaN      2.0    NaN  Uppgift Saknas   \n",
       "4  ...  Sverige  Sverige    1.0    NaN      2.0    NaN  Uppgift Saknas   \n",
       "\n",
       "    DOD_KOMMUN  FODDATN     Alias  \n",
       "0        Malmö  1911-07  10093991  \n",
       "1           -1  1911-07  10208086  \n",
       "2  Helsingborg  1912-05  10304166  \n",
       "3     Vellinge  1912-07  10134952  \n",
       "4        Malmö  1912-07  10262556  \n",
       "\n",
       "[5 rows x 74 columns]"
      ]
     },
     "metadata": {},
     "output_type": "display_data"
    }
   ],
   "source": [
    "sos_dors = pd.read_csv(FILES[\"SOS_R_DORS_24129_2020.csv\"], sep=\"|\", encoding=\"ISO-8859-1\")\n",
    "sos_dors = sos_dors.merge(sos_nyckel[[\"Alias\",\"LopNr\"]], on=\"LopNr\", suffixes=(\"_DORS\",\"_Nyckel\"), how=\"left\")\n",
    "sos_dors[\"Alias\"] = sos_dors[\"Alias\"].fillna(-1).astype(int)\n",
    "sos_dors[\"LK\"] = sos_dors[\"LK\"].fillna(\"-1\").astype(int).replace(lk_map.name)\n",
    "sos_dors[\"DOD_KOMMUN\"] = sos_dors[\"DOD_KOMMUN\"].fillna(\"-1\").astype(int).replace(lk_map.name)\n",
    "#sos_dors[\"DODSDAT\"] = pd.to_datetime(sos_dors[\"DODSDAT\"], format=\"%Y%m%d\")  # Doesn't work due to unclear death dates\n",
    "display(list(sos_dors))\n",
    "display(sos_dors.head())"
   ]
  },
  {
   "cell_type": "code",
   "execution_count": null,
   "id": "1d783e07",
   "metadata": {},
   "outputs": [],
   "source": [
    "x = sos_dors[sos_dors[\"Alias\"] == 100939911]\n",
    "if len(x) > 0:\n",
    "    display(x)"
   ]
  },
  {
   "cell_type": "code",
   "execution_count": null,
   "id": "a0e1105e",
   "metadata": {},
   "outputs": [],
   "source": [
    "pd.to_datetime(sos_dors[\"DODSDAT\"], errors=\"coerce\", format=\"%Y%m%d\").dropna().hist(bins=24, figsize=(10,10))"
   ]
  },
  {
   "cell_type": "markdown",
   "id": "1f372cff",
   "metadata": {},
   "source": [
    "### SoS Lakemedel"
   ]
  },
  {
   "cell_type": "code",
   "execution_count": 18,
   "id": "4d0d06dc",
   "metadata": {},
   "outputs": [],
   "source": [
    "sos_lakemedel = pd.read_csv(FILES[\"SOS_T_R_LMED_24129_2020.csv\"], sep=\"|\", encoding=\"ISO-8859-1\")\n",
    "sos_lakemedel = sos_lakemedel.merge(sos_nyckel[[\"Alias\",\"LopNr\"]], on=\"LopNr\", suffixes=(\"_LM\",\"_Nyckel\"), how=\"left\")\n",
    "sos_lakemedel[\"Alias\"] = sos_lakemedel[\"Alias\"].fillna(-1).astype(int)\n",
    "sos_lakemedel[\"EDATUM\"] = pd.to_datetime(sos_lakemedel[\"EDATUM\"])"
   ]
  },
  {
   "cell_type": "code",
   "execution_count": null,
   "id": "bdbf64fb",
   "metadata": {},
   "outputs": [],
   "source": [
    "sos_lakemedel.dtypes"
   ]
  },
  {
   "cell_type": "markdown",
   "id": "bc4fe689",
   "metadata": {},
   "source": [
    "### ATC och ICD koder från SoS"
   ]
  },
  {
   "cell_type": "code",
   "execution_count": null,
   "id": "ccbeab8f",
   "metadata": {},
   "outputs": [],
   "source": [
    "dia = [\"hdia\"] + [f\"DIA{i}\" for i in range(1,31)]\n",
    "sos_sluten[dia].stack().value_counts().to_csv(\"sos_sluten_hdia+DIA1-DIA30_ICD_list.csv\")\n",
    "sos_sluten[\"hdia\"].value_counts().to_csv(\"sos_sluten_hdia_ICD_list.csv\")"
   ]
  },
  {
   "cell_type": "code",
   "execution_count": null,
   "id": "57622417",
   "metadata": {},
   "outputs": [],
   "source": [
    "dia = [\"hdia\"] + [f\"DIA{i}\" for i in range(1,31)]\n",
    "sos_oppen[dia].stack().value_counts().to_csv(\"sos_oppen_hdia+DIA1-DIA30_ICD_list.csv\")\n",
    "sos_oppen[\"hdia\"].value_counts().to_csv(\"sos_oppen_hdia_ICD_list.csv\")"
   ]
  },
  {
   "cell_type": "code",
   "execution_count": null,
   "id": "00a341db",
   "metadata": {},
   "outputs": [],
   "source": [
    "# Trivial dump of KVA, superseeded by the code further below.\n",
    "\n",
    "#df = pd.DataFrame()\n",
    "#df[\"KVA\"] = [kva for opstr in list(sos_sluten[\"OP\"].fillna(\"\")) for kva in opstr.split(\" \")]\n",
    "#df.value_counts().to_csv(\"sos_sluten_OP_list.csv\")"
   ]
  },
  {
   "cell_type": "code",
   "execution_count": null,
   "id": "7e6ac821",
   "metadata": {},
   "outputs": [],
   "source": [
    "vc = sos_lakemedel[\"ATC\"].value_counts()\n",
    "vc.to_csv(\"sos_lakemedel_ATC_list.csv\")\n",
    "vc.sort_index().to_csv(\"sos_lakemedel_ATC_list_sorted.csv\")"
   ]
  },
  {
   "cell_type": "code",
   "execution_count": null,
   "id": "73bd6b79",
   "metadata": {},
   "outputs": [],
   "source": [
    "# Dump KVA with lookup\n",
    "\n",
    "i=0\n",
    "c = Counter()\n",
    "\n",
    "for a, df in zip([\"SV\", \"OV\"],[sos_sluten,sos_oppen]):\n",
    "    for s in list(df[\"OP\"]):\n",
    "        i+=1\n",
    "        if not pd.isna(s):\n",
    "            for q in s.split(\" \"):\n",
    "#                print(q)\n",
    "                c[q] += 1\n",
    "#        if i == 200:\n",
    "#            break\n",
    "    \n",
    "    print(f\"====== {a} ======\")\n",
    "    codes = []\n",
    "    counts = []\n",
    "    for k in sorted(c.keys(),key=lambda x:c[x], reverse=True):\n",
    "        print(f\"{k}\\t{c[k]}\")\n",
    "        codes.append(k)\n",
    "        counts.append(c[k])\n",
    "    out_df = pd.DataFrame(data={'KOD': codes, 'count': counts}).set_index(\"KOD\")\n",
    "    out_df = out_df.join(sos_kva_df)\n",
    "    out_df[\"KLASSDEL\"] = out_df[\"KLASSDEL\"].fillna(-1).astype(int)\n",
    "    out_df.to_csv(f\"skane1718_soos_{a}_kva.counts.csv\", encoding=\"UTF8\")\n",
    "    out_df.sort_index().to_csv(f\"skane1718_soos_{a}_kva_sorted.counts.csv\", encoding=\"UTF8\")\n",
    "    "
   ]
  },
  {
   "cell_type": "markdown",
   "id": "d469f840",
   "metadata": {},
   "source": [
    "## SCB"
   ]
  },
  {
   "cell_type": "code",
   "execution_count": 19,
   "id": "87933120",
   "metadata": {},
   "outputs": [],
   "source": [
    "a = pd.read_csv(FILES[\"SCB_Ekelund_LEV_LISA2017.csv\"], sep=\"|\", encoding=\"ISO-8859-1\")"
   ]
  },
  {
   "cell_type": "code",
   "execution_count": 361,
   "id": "effb5c5b",
   "metadata": {},
   "outputs": [
    {
     "data": {
      "text/plain": [
       "306949"
      ]
     },
     "execution_count": 361,
     "metadata": {},
     "output_type": "execute_result"
    }
   ],
   "source": [
    "len(set(a[\"lopnr\"]))"
   ]
  },
  {
   "cell_type": "code",
   "execution_count": 368,
   "id": "4687d440",
   "metadata": {},
   "outputs": [
    {
     "data": {
      "text/plain": [
       "0"
      ]
     },
     "execution_count": 368,
     "metadata": {},
     "output_type": "execute_result"
    }
   ],
   "source": [
    "a[\"Kommun\"].isna().sum()"
   ]
  },
  {
   "cell_type": "code",
   "execution_count": 366,
   "id": "72367702",
   "metadata": {},
   "outputs": [
    {
     "data": {
      "text/plain": [
       "[1, 3, 4, 5, 6, 7, 8, 9, 10, 12, 13, 14, 17, 18, 19, 20, 21, 22, 23, 24, 25]"
      ]
     },
     "execution_count": 366,
     "metadata": {},
     "output_type": "execute_result"
    }
   ],
   "source": [
    "sorted(a[\"Lan\"].value_counts().keys())"
   ]
  },
  {
   "cell_type": "code",
   "execution_count": 360,
   "id": "4c20665e",
   "metadata": {},
   "outputs": [
    {
     "data": {
      "text/plain": [
       "lopnr                   242173\n",
       "SenPNr                       1\n",
       "AterPNr                      0\n",
       "SamOrdnNr                    0\n",
       "FelPersonnr                  0\n",
       "FodelseAr                 1981\n",
       "Kon                          1\n",
       "Lan                         12\n",
       "Kommun                    1290\n",
       "Distriktskod          101248.0\n",
       "Civil                        G\n",
       "MedbGrEg                     0\n",
       "MedbGrEg4                    0\n",
       "Barn0_3                      1\n",
       "Barn4_6                      1\n",
       "Barn7_10                     0\n",
       "Barn11_15                    0\n",
       "Barn16_17                    0\n",
       "Sun2000niva_old              3\n",
       "Sun2000niva                322\n",
       "Sun2000Inr                010b\n",
       "ExamAr                    2001\n",
       "SyssStat11                   1\n",
       "YrkStalln                    2\n",
       "Ssyk4_2012_J16            2149\n",
       "SsykAr_J16                2017\n",
       "SsykStatus_J16             1.0\n",
       "ESeG_J16                   2.1\n",
       "ForLed                      40\n",
       "SjukPP                       0\n",
       "SjukTyp                      0\n",
       "SjukRe                       0\n",
       "SjukP_Ndag_MiDAS           0.0\n",
       "ArbLos                       0\n",
       "ALosDag                      0\n",
       "AmPol                        0\n",
       "ForTid                       0\n",
       "ForTidTyp                    0\n",
       "SjukErs_Ndag_MiDAS         0.0\n",
       "KapInk                    -661\n",
       "SumAldP03                    0\n",
       "SocBidrFam                   0\n",
       "BostBidrFam                  0\n",
       "DispInkKE                 2345\n",
       "DispInkKE04               3005\n",
       "DispInk04                 4692\n",
       "Name: 0, dtype: object"
      ]
     },
     "execution_count": 360,
     "metadata": {},
     "output_type": "execute_result"
    }
   ],
   "source": [
    "a.iloc[0,:]"
   ]
  },
  {
   "cell_type": "markdown",
   "id": "14c781d7",
   "metadata": {},
   "source": [
    "## Sectra"
   ]
  },
  {
   "cell_type": "code",
   "execution_count": 20,
   "id": "fbfd0e35",
   "metadata": {},
   "outputs": [],
   "source": [
    "sectra = pd.read_csv(\"/mnt/air-crypt/air-crypt-raw/andersb/data/Skane-1718-SECTRA-3rd/20211104/SECTRA_alla_2012-2018_flik1-3_20211104.csv\", sep=\"|\", encoding=\"ISO-8859-1\")\n",
    "sectra19 = pd.read_csv(\"/mnt/air-crypt/air-crypt-raw/andersb/data/Skane-1718-SECTRA-2019/20211112/SECTRA_2019_20211112.csv\", sep=\"|\", encoding=\"ISO-8859-1\")\n",
    "sectra = pd.concat([sectra,sectra19])\n",
    "sectra = sectra.reset_index(drop=True)\n",
    "sectra[\"Undersökningsdatum\"] = pd.to_datetime(sectra[\"Undersökningsdatum\"])\n",
    "sectra[\"Datum inskickad remiss\"] = pd.to_datetime(sectra[\"Datum inskickad remiss\"])\n",
    "sectra = sectra.join(sectra_map, on=\"Undersökningskod\")\n",
    "sectra[\"Typ\"] = sectra[\"Typ\"].fillna(\"---Saknas---\")\n",
    "sectra[\"Undersökningsnamn\"] = sectra[\"Undersökningsnamn\"].fillna(\"---Saknas---\")"
   ]
  },
  {
   "cell_type": "code",
   "execution_count": null,
   "id": "e692d577",
   "metadata": {},
   "outputs": [],
   "source": [
    "((sectra[\"Undersökningskod\"] == \"68600\") &\n",
    "(sectra[\"Undersökningsdatum\"] > datetime(year=2017,month=1,day=1))).sum()"
   ]
  },
  {
   "cell_type": "markdown",
   "id": "26991784",
   "metadata": {},
   "source": [
    "## Generate HTML"
   ]
  },
  {
   "cell_type": "code",
   "execution_count": 29,
   "id": "cacd8310",
   "metadata": {
    "scrolled": true
   },
   "outputs": [],
   "source": [
    "importlib.reload(skane1718)\n",
    "import mim.extractors.skane_1718 as skane1718\n",
    "\n",
    "dfs = {\n",
    "    \"liggaren\": liggaren,\n",
    "    \"prelim\": prelim,\n",
    "    \"labb\": labb,\n",
    "    \"melior_kontakt\": melior_diagnoser_vid_kontakt,\n",
    "    \"melior_post_30dagar\": melior_diagnoser_30dagar_efter,\n",
    "    \"melior_pre_5yr\": melior_diagnoser_5ar_fore,\n",
    "    \"sos_sluten\": sos_sluten,\n",
    "    \"sos_oppen\": sos_oppen,\n",
    "    \"sos_dors\": sos_dors,\n",
    "    \"sos_lm\": sos_lakemedel\n",
    "}\n",
    "            \n",
    "    \n",
    "### XXX: Checkout 10001265 -- nothing in Melior???\n",
    "    \n",
    "#10237978\n",
    "#10227673 -- duplicate blood samples ???\n",
    "alias = 10001558\n",
    "skane1718.write_patient_html(alias, \"foo.html\", dfs)"
   ]
  },
  {
   "cell_type": "code",
   "execution_count": 28,
   "id": "8fae2812",
   "metadata": {},
   "outputs": [
    {
     "data": {
      "text/plain": [
       "0          2014-02-12 15:27:55\n",
       "1          2014-02-12 15:27:55\n",
       "2          2014-02-12 15:27:55\n",
       "3          2014-02-12 15:27:55\n",
       "4          2014-02-12 15:27:55\n",
       "                  ...         \n",
       "1466047    2018-12-21 10:40:17\n",
       "1466048    2018-12-25 22:01:00\n",
       "1466049    2018-12-29 01:11:35\n",
       "1466050    2018-12-30 18:25:00\n",
       "1466051    2017-02-01 13:23:22\n",
       "Name: VårdtillfälleFörDiagnos_StartDatum, Length: 1466052, dtype: object"
      ]
     },
     "execution_count": 28,
     "metadata": {},
     "output_type": "execute_result"
    }
   ],
   "source": [
    "melior_diagnoser_vid_kontakt[\"VårdtillfälleFörDiagnos_StartDatum\"].astype(str)"
   ]
  },
  {
   "cell_type": "code",
   "execution_count": null,
   "id": "9f6210b8",
   "metadata": {
    "scrolled": true
   },
   "outputs": [],
   "source": [
    "HTML_ROOT=\"/mnt/air-crypt/air-crypt-esc-trop/andersb/temp-skane-1718/pat_html/\"\n",
    "\n",
    "count = 0\n",
    "for alias in tqdm(liggar_alias):\n",
    "#    print(alias)\n",
    "    try:\n",
    "        file =  HTML_ROOT + str(alias) + \".html\"\n",
    "        if not os.path.exists(file):\n",
    "            skane1718.write_patient_html(alias,file, dfs)\n",
    "        count += 1\n",
    "    except KeyboardInterrupt as e:\n",
    "        raise e\n",
    "    except Exception as e:\n",
    "        print(\"Problem with \"+str(alias))\n",
    "        print(e)\n",
    "        print(traceback.format_exc())\n",
    "        print()\n",
    "#    if count == 100:\n",
    "#        print(\"Breaking!\")\n",
    "#        break"
   ]
  },
  {
   "cell_type": "markdown",
   "id": "81103ae4",
   "metadata": {},
   "source": [
    "## SVAR"
   ]
  },
  {
   "cell_type": "code",
   "execution_count": 191,
   "id": "156aff57",
   "metadata": {},
   "outputs": [
    {
     "data": {
      "text/plain": [
       "['CentridTRIMJUST',\n",
       " 'centreidAkutvårdsregistrering',\n",
       " 'BesöksIDAkutvårdsregistrering',\n",
       " 'Födelsedatum',\n",
       " 'Åldervidankomsttillakutmottagning',\n",
       " 'Identitetstyp',\n",
       " 'Dödsdatumbefregkontrollerat',\n",
       " 'AnkomsttillakutmottagningAkutvårdsregistrering',\n",
       " 'Ankomstdatumtillakutmottagning',\n",
       " 'PlaneratåterbesökAkutvårdsregistrering',\n",
       " 'AnkomstsättAkutvårdsregistrering',\n",
       " 'AnkommenfrånAkutvårdsregistrering',\n",
       " 'AnkomstlarmAkutvårdsregistrering',\n",
       " 'RemissAkutvårdsregistrering',\n",
       " 'remiteradfranAkutvårdsregistrering',\n",
       " 'BesöksorsakAkutvårdsregistrering',\n",
       " 'HänvisningAkutvårdsregistrering',\n",
       " 'TidsstämpelVitalparameter',\n",
       " 'SystolisktblodtryckVitalparameter',\n",
       " 'DiastolisktblodtryckVitalparameter',\n",
       " 'Hjärtfrekvens Vitalparameter',\n",
       " 'Andningsfrekvens Vitalparameter',\n",
       " 'SaturationVitalparameter',\n",
       " 'Kroppstemperatur Vitalparameter',\n",
       " 'MedvetandegradRLSVitalparameter',\n",
       " 'MedvetandegradAVPUVitalparameter',\n",
       " 'MedvetandegradenligtGlascowComaScale Vitalparameter',\n",
       " 'TriagenivåAkutvårdsregistrering',\n",
       " 'SjukskötersketidAkutvårdsregistrering',\n",
       " 'LäkartidAkutvårdsregistrering',\n",
       " 'AvvikitAkutvårdsregistrering',\n",
       " 'FärdigtidAkutvårdsregistrering',\n",
       " 'UttidAkutvårdsregistrering',\n",
       " 'UtskriventillAkutvårdsregistrering',\n",
       " 'UtdiagnosAkutvårdsregistrering',\n",
       " 'DödsorsakAkutvårdsregistrering',\n",
       " 'createdbyAkutvårdsregistrering',\n",
       " 'updatedbyAkutvårdsregistrering',\n",
       " 'createdtsAkutvårdsregistrering',\n",
       " 'updatedtsAkutvårdsregistrering',\n",
       " 'Dödefter\\x85dagar',\n",
       " 'Dödinom7dagar',\n",
       " 'Dödinom30dagar',\n",
       " 'Ankomsttimme',\n",
       " 'Tidtillssk',\n",
       " 'Tidtillläk',\n",
       " 'Totalvistelsetid',\n",
       " 'Ankomstår',\n",
       " 'Ankomstmånad',\n",
       " 'Ankomstvecka',\n",
       " 'Ankomstdagtxt',\n",
       " 'Åldersklass',\n",
       " 'Åldersklass20års',\n",
       " 'filter_$',\n",
       " 'strdate',\n",
       " 'TTLklass',\n",
       " 'TVTklass',\n",
       " 'Region']"
      ]
     },
     "metadata": {},
     "output_type": "display_data"
    },
    {
     "data": {
      "text/html": [
       "<div>\n",
       "<style scoped>\n",
       "    .dataframe tbody tr th:only-of-type {\n",
       "        vertical-align: middle;\n",
       "    }\n",
       "\n",
       "    .dataframe tbody tr th {\n",
       "        vertical-align: top;\n",
       "    }\n",
       "\n",
       "    .dataframe thead th {\n",
       "        text-align: right;\n",
       "    }\n",
       "</style>\n",
       "<table border=\"1\" class=\"dataframe\">\n",
       "  <thead>\n",
       "    <tr style=\"text-align: right;\">\n",
       "      <th></th>\n",
       "      <th>CentridTRIMJUST</th>\n",
       "      <th>centreidAkutvårdsregistrering</th>\n",
       "      <th>BesöksIDAkutvårdsregistrering</th>\n",
       "      <th>Födelsedatum</th>\n",
       "      <th>Åldervidankomsttillakutmottagning</th>\n",
       "      <th>Identitetstyp</th>\n",
       "      <th>Dödsdatumbefregkontrollerat</th>\n",
       "      <th>AnkomsttillakutmottagningAkutvårdsregistrering</th>\n",
       "      <th>Ankomstdatumtillakutmottagning</th>\n",
       "      <th>PlaneratåterbesökAkutvårdsregistrering</th>\n",
       "      <th>...</th>\n",
       "      <th>Ankomstmånad</th>\n",
       "      <th>Ankomstvecka</th>\n",
       "      <th>Ankomstdagtxt</th>\n",
       "      <th>Åldersklass</th>\n",
       "      <th>Åldersklass20års</th>\n",
       "      <th>filter_$</th>\n",
       "      <th>strdate</th>\n",
       "      <th>TTLklass</th>\n",
       "      <th>TVTklass</th>\n",
       "      <th>Region</th>\n",
       "    </tr>\n",
       "  </thead>\n",
       "  <tbody>\n",
       "    <tr>\n",
       "      <th>0</th>\n",
       "      <td>Ystad</td>\n",
       "      <td>Ystad</td>\n",
       "      <td>1147638-1</td>\n",
       "      <td>25-jul-52</td>\n",
       "      <td>64.0</td>\n",
       "      <td>Kvinna</td>\n",
       "      <td>#NULL!</td>\n",
       "      <td>2017-06-26 18:11</td>\n",
       "      <td>26-jun-17</td>\n",
       "      <td>Nej</td>\n",
       "      <td>...</td>\n",
       "      <td>6.0</td>\n",
       "      <td>26.0</td>\n",
       "      <td>måndag</td>\n",
       "      <td>70.0</td>\n",
       "      <td>80.0</td>\n",
       "      <td>1.0</td>\n",
       "      <td>NaN</td>\n",
       "      <td>0,5-1</td>\n",
       "      <td>&gt;12</td>\n",
       "      <td>Skåne</td>\n",
       "    </tr>\n",
       "    <tr>\n",
       "      <th>1</th>\n",
       "      <td>Ystad</td>\n",
       "      <td>Ystad</td>\n",
       "      <td>1087505-9</td>\n",
       "      <td>29-aug-16</td>\n",
       "      <td>0.0</td>\n",
       "      <td>Kvinna</td>\n",
       "      <td>#NULL!</td>\n",
       "      <td>2017-06-26 18:10</td>\n",
       "      <td>26-jun-17</td>\n",
       "      <td>Nej</td>\n",
       "      <td>...</td>\n",
       "      <td>6.0</td>\n",
       "      <td>26.0</td>\n",
       "      <td>måndag</td>\n",
       "      <td>10.0</td>\n",
       "      <td>20.0</td>\n",
       "      <td>1.0</td>\n",
       "      <td>NaN</td>\n",
       "      <td>NaN</td>\n",
       "      <td>Under 2</td>\n",
       "      <td>Skåne</td>\n",
       "    </tr>\n",
       "    <tr>\n",
       "      <th>2</th>\n",
       "      <td>Ystad</td>\n",
       "      <td>Ystad</td>\n",
       "      <td>1147645-1</td>\n",
       "      <td>01-dec-30</td>\n",
       "      <td>86.0</td>\n",
       "      <td>Man</td>\n",
       "      <td>#NULL!</td>\n",
       "      <td>2017-06-26 18:07</td>\n",
       "      <td>26-jun-17</td>\n",
       "      <td>Nej</td>\n",
       "      <td>...</td>\n",
       "      <td>6.0</td>\n",
       "      <td>26.0</td>\n",
       "      <td>måndag</td>\n",
       "      <td>90.0</td>\n",
       "      <td>100.0</td>\n",
       "      <td>1.0</td>\n",
       "      <td>NaN</td>\n",
       "      <td>&gt;6</td>\n",
       "      <td>6-8</td>\n",
       "      <td>Skåne</td>\n",
       "    </tr>\n",
       "    <tr>\n",
       "      <th>3</th>\n",
       "      <td>Ystad</td>\n",
       "      <td>Ystad</td>\n",
       "      <td>796376-7</td>\n",
       "      <td>23-aug-34</td>\n",
       "      <td>82.0</td>\n",
       "      <td>Man</td>\n",
       "      <td>#NULL!</td>\n",
       "      <td>2017-06-26 17:55</td>\n",
       "      <td>26-jun-17</td>\n",
       "      <td>Nej</td>\n",
       "      <td>...</td>\n",
       "      <td>6.0</td>\n",
       "      <td>26.0</td>\n",
       "      <td>måndag</td>\n",
       "      <td>90.0</td>\n",
       "      <td>100.0</td>\n",
       "      <td>1.0</td>\n",
       "      <td>NaN</td>\n",
       "      <td>1,5-2</td>\n",
       "      <td>10-12</td>\n",
       "      <td>Skåne</td>\n",
       "    </tr>\n",
       "    <tr>\n",
       "      <th>4</th>\n",
       "      <td>Ystad</td>\n",
       "      <td>Ystad</td>\n",
       "      <td>208621-8</td>\n",
       "      <td>30-maj-30</td>\n",
       "      <td>87.0</td>\n",
       "      <td>Man</td>\n",
       "      <td>#NULL!</td>\n",
       "      <td>2017-06-26 17:50</td>\n",
       "      <td>26-jun-17</td>\n",
       "      <td>Nej</td>\n",
       "      <td>...</td>\n",
       "      <td>6.0</td>\n",
       "      <td>26.0</td>\n",
       "      <td>måndag</td>\n",
       "      <td>90.0</td>\n",
       "      <td>100.0</td>\n",
       "      <td>1.0</td>\n",
       "      <td>NaN</td>\n",
       "      <td>0-0,5</td>\n",
       "      <td>6-8</td>\n",
       "      <td>Skåne</td>\n",
       "    </tr>\n",
       "  </tbody>\n",
       "</table>\n",
       "<p>5 rows × 58 columns</p>\n",
       "</div>"
      ],
      "text/plain": [
       "  CentridTRIMJUST centreidAkutvårdsregistrering BesöksIDAkutvårdsregistrering  \\\n",
       "0           Ystad                         Ystad                     1147638-1   \n",
       "1           Ystad                         Ystad                     1087505-9   \n",
       "2           Ystad                         Ystad                     1147645-1   \n",
       "3           Ystad                         Ystad                      796376-7   \n",
       "4           Ystad                         Ystad                      208621-8   \n",
       "\n",
       "  Födelsedatum  Åldervidankomsttillakutmottagning Identitetstyp  \\\n",
       "0    25-jul-52                               64.0        Kvinna   \n",
       "1    29-aug-16                                0.0        Kvinna   \n",
       "2    01-dec-30                               86.0           Man   \n",
       "3    23-aug-34                               82.0           Man   \n",
       "4    30-maj-30                               87.0           Man   \n",
       "\n",
       "  Dödsdatumbefregkontrollerat AnkomsttillakutmottagningAkutvårdsregistrering  \\\n",
       "0                      #NULL!                               2017-06-26 18:11   \n",
       "1                      #NULL!                               2017-06-26 18:10   \n",
       "2                      #NULL!                               2017-06-26 18:07   \n",
       "3                      #NULL!                               2017-06-26 17:55   \n",
       "4                      #NULL!                               2017-06-26 17:50   \n",
       "\n",
       "  Ankomstdatumtillakutmottagning PlaneratåterbesökAkutvårdsregistrering  ...  \\\n",
       "0                      26-jun-17                                    Nej  ...   \n",
       "1                      26-jun-17                                    Nej  ...   \n",
       "2                      26-jun-17                                    Nej  ...   \n",
       "3                      26-jun-17                                    Nej  ...   \n",
       "4                      26-jun-17                                    Nej  ...   \n",
       "\n",
       "  Ankomstmånad Ankomstvecka Ankomstdagtxt Åldersklass  Åldersklass20års  \\\n",
       "0          6.0         26.0        måndag        70.0              80.0   \n",
       "1          6.0         26.0        måndag        10.0              20.0   \n",
       "2          6.0         26.0        måndag        90.0             100.0   \n",
       "3          6.0         26.0        måndag        90.0             100.0   \n",
       "4          6.0         26.0        måndag        90.0             100.0   \n",
       "\n",
       "  filter_$ strdate TTLklass TVTklass Region  \n",
       "0      1.0     NaN    0,5-1      >12  Skåne  \n",
       "1      1.0     NaN      NaN  Under 2  Skåne  \n",
       "2      1.0     NaN       >6      6-8  Skåne  \n",
       "3      1.0     NaN    1,5-2    10-12  Skåne  \n",
       "4      1.0     NaN    0-0,5      6-8  Skåne  \n",
       "\n",
       "[5 rows x 58 columns]"
      ]
     },
     "metadata": {},
     "output_type": "display_data"
    },
    {
     "data": {
      "text/plain": [
       "702551"
      ]
     },
     "metadata": {},
     "output_type": "display_data"
    }
   ],
   "source": [
    "svar = pd.read_csv(FILES[\"SVAR_Hela_Skåne_17_18.csv\"], sep=\"|\", encoding=\"ISO-8859-1\")\n",
    "display(list(svar))\n",
    "display(svar.head())\n",
    "display(len(svar))"
   ]
  },
  {
   "cell_type": "code",
   "execution_count": null,
   "id": "5ba98f02",
   "metadata": {},
   "outputs": [],
   "source": [
    "pd.to_datetime(svar[\"AnkomsttillakutmottagningAkutvårdsregistrering\"]).isna().sum()"
   ]
  },
  {
   "cell_type": "code",
   "execution_count": null,
   "id": "f1766a81",
   "metadata": {},
   "outputs": [],
   "source": [
    "svar = svar.dropna(how=\"all\")"
   ]
  },
  {
   "cell_type": "code",
   "execution_count": null,
   "id": "81fbf5d9",
   "metadata": {},
   "outputs": [],
   "source": [
    "liggaren[\"Vardkontakt_InskrivningDatum\"].sort_values()"
   ]
  },
  {
   "cell_type": "code",
   "execution_count": null,
   "id": "8f006630",
   "metadata": {},
   "outputs": [],
   "source": [
    "svar[\"AnkomsttillakutmottagningAkutvårdsregistrering\"].sort_values()"
   ]
  },
  {
   "cell_type": "code",
   "execution_count": null,
   "id": "4418c3d7",
   "metadata": {},
   "outputs": [],
   "source": [
    "list(liggaren)"
   ]
  },
  {
   "cell_type": "code",
   "execution_count": null,
   "id": "e44394b6",
   "metadata": {},
   "outputs": [],
   "source": [
    "AktuellSjukhudId_2_Sjukhus_Namn = {\n",
    "    \"SE162321000255-O11414\": \"SUS Malmö\",\n",
    "    \"SE162321000255-O12014\": \"Helsingborgs lasarett\",\n",
    "    \"O10001\": \"SUS Lund\",\n",
    "    \"SE162321000255-O10532\": \"Centralsjukhuset Kristianstad\",\n",
    "    \"SE162321000255-O16571\": \"Ystads lasarett\",\n",
    "    \"SE162321000255-O11016\": \"Lasarettet Trelleborg\",\n",
    "    \"O11249\": \"Hässleholms sjukhus\",\n",
    "    \"O10971\": \"Lasarettet i Landskrona\",\n",
    "    \"SE162321000255-O12784\": np.nan,\n",
    "    \"SE162321000255-O22178YLOE\": np.nan,\n",
    "    \"SE162321000255-O11962\": \"Ängelholms sjukhus\",\n",
    "    \"SE162321000255-O18814KROE\": np.nan,\n",
    "    \"O12984\": \"Barn- och ungdomsmedicinska kliniken Malmö\",\n",
    "    \"O17830KR\": \"Psykiatri Skåne Kristianstad\",\n",
    "    \"SE162321000255-O20919\": \"Kvälls- och Helgmottagningen Södervärn Malmö\"\n",
    "}"
   ]
  },
  {
   "cell_type": "code",
   "execution_count": null,
   "id": "8f9f9d4a",
   "metadata": {},
   "outputs": [],
   "source": [
    "liggaren[liggaren[\"AktuellSjukhusId\"] == \"SE162321000255-O18814KROE\"]"
   ]
  },
  {
   "cell_type": "code",
   "execution_count": null,
   "id": "0677812c",
   "metadata": {},
   "outputs": [],
   "source": [
    "s = \"SE162321000255-O20919\"\n",
    "x = liggaren[liggaren[\"AktuellSjukhusId\"] == s][\"Sjukhus_Namn\"]\n",
    "display(len(x))\n",
    "display(x.isna().sum())\n",
    "display(x.value_counts())"
   ]
  },
  {
   "cell_type": "code",
   "execution_count": null,
   "id": "34d70970",
   "metadata": {},
   "outputs": [],
   "source": [
    "liggaren[\"AktuellSjukhusId\"].value_counts()"
   ]
  },
  {
   "cell_type": "code",
   "execution_count": null,
   "id": "d38474a1",
   "metadata": {},
   "outputs": [],
   "source": [
    "x_key_cols=[\n",
    "    \"Vardkontakt_InskrivningDatum\",\n",
    "    \"Vardkontakt_UtskrivningDatum\",\n",
    "    \"Vardkontakt_PatientAlderVidInskrivning\",\n",
    "    \"Patient_Kon\",\n",
    "    \"Sjukhus_Namn\",\n",
    "    \"AktuellSjukhusId\",\n",
    "    \"Inlagd\"\n",
    "]\n",
    "for c in x_key_cols:\n",
    "    display(f\"{c} -- {liggaren[c].isna().sum()}\")"
   ]
  },
  {
   "cell_type": "code",
   "execution_count": null,
   "id": "a4bb2c8d",
   "metadata": {},
   "outputs": [],
   "source": [
    "l = liggaren[\"Vardkontakt_InskrivningDatum\"].value_counts()\n",
    "l[l<2]\n"
   ]
  },
  {
   "cell_type": "code",
   "execution_count": null,
   "id": "801529d3",
   "metadata": {},
   "outputs": [],
   "source": [
    "l = set(pd.to_datetime(liggaren.drop_duplicates(\"Vardkontakt_InskrivningDatum\", keep=False)[\"Vardkontakt_InskrivningDatum\"]).sort_values())"
   ]
  },
  {
   "cell_type": "code",
   "execution_count": null,
   "id": "ae630681",
   "metadata": {},
   "outputs": [],
   "source": [
    "s = set(pd.to_datetime(svar.drop_duplicates(\"AnkomsttillakutmottagningAkutvårdsregistrering\", keep=False)[\"AnkomsttillakutmottagningAkutvårdsregistrering\"]).sort_values())"
   ]
  },
  {
   "cell_type": "code",
   "execution_count": null,
   "id": "814f5090",
   "metadata": {},
   "outputs": [],
   "source": [
    "len(l.intersection(s))"
   ]
  },
  {
   "cell_type": "code",
   "execution_count": null,
   "id": "e6ed0ab3",
   "metadata": {},
   "outputs": [],
   "source": [
    "len(liggaren)"
   ]
  },
  {
   "cell_type": "code",
   "execution_count": null,
   "id": "74adc07a",
   "metadata": {},
   "outputs": [],
   "source": [
    "svar.iloc[38429,:]"
   ]
  },
  {
   "cell_type": "code",
   "execution_count": null,
   "id": "28cc2aa3",
   "metadata": {},
   "outputs": [],
   "source": [
    "svar.iloc[563484,:]"
   ]
  },
  {
   "cell_type": "markdown",
   "id": "de7805d6",
   "metadata": {},
   "source": [
    "## Bodil och Anders"
   ]
  },
  {
   "cell_type": "markdown",
   "id": "434eecde",
   "metadata": {},
   "source": [
    "### Besoksorsaker"
   ]
  },
  {
   "cell_type": "code",
   "execution_count": null,
   "id": "6a21cc5b",
   "metadata": {},
   "outputs": [],
   "source": [
    "liggaren[\"BesokOrsak_Beskrivning\"].value_counts()"
   ]
  },
  {
   "cell_type": "code",
   "execution_count": null,
   "id": "fc669c21",
   "metadata": {},
   "outputs": [],
   "source": [
    "liggaren[\"BesokOrsak_Kod\"].value_counts()"
   ]
  },
  {
   "cell_type": "code",
   "execution_count": null,
   "id": "7c61fda0",
   "metadata": {},
   "outputs": [],
   "source": [
    "len(liggaren)"
   ]
  },
  {
   "cell_type": "code",
   "execution_count": null,
   "id": "f55c7485",
   "metadata": {
    "scrolled": true
   },
   "outputs": [],
   "source": [
    "counts = (liggaren[\"BesokOrsak_Kod\"].fillna(\"--SAKNAS--\") + \"~\" + liggaren[\"BesokOrsak_Beskrivning\"].fillna(\"--SAKNAS--\")).value_counts()\n",
    "for k in sorted(counts.keys()):\n",
    "    print(f\"{k}~{counts[k]}\")"
   ]
  },
  {
   "cell_type": "markdown",
   "id": "981085c0",
   "metadata": {},
   "source": [
    "### Make df"
   ]
  },
  {
   "cell_type": "code",
   "execution_count": null,
   "id": "0a3ff8d8",
   "metadata": {},
   "outputs": [],
   "source": [
    "orsaker = [\"Buksmärta RETTS-A 6, RETTS-P 106\", \"Smärta i extremitet RETTS-A 15, RETTS-P115\"]\n",
    "abexpain_liggare = liggaren[((liggaren[\"BesokOrsak_Beskrivning\"] == orsaker[0]) | (liggaren[\"BesokOrsak_Beskrivning\"] == orsaker[1]))]"
   ]
  },
  {
   "cell_type": "code",
   "execution_count": null,
   "id": "8dd04069",
   "metadata": {},
   "outputs": [],
   "source": [
    "## I checked, for the 2 Socialstyrelsen Lopnr that map to two different Aliases, only one alias occurs in this subset, so we can safely make a join on Socialstyrelsens key here:\n",
    "abexpain_liggare = abexpain_liggare.set_index(\"Alias\").join(sos_nyckel.set_index(\"Alias\"))"
   ]
  },
  {
   "cell_type": "code",
   "execution_count": null,
   "id": "fb892fae",
   "metadata": {},
   "outputs": [],
   "source": [
    "abexpain_liggare[\"Vardkontakt_InskrivningDatum\"] = pd.to_datetime(abexpain_liggare[\"Vardkontakt_InskrivningDatum\"])\n",
    "abexpain_liggare[\"LopNr\"] = abexpain_liggare[\"LopNr\"].fillna(\"-1\").astype(int)"
   ]
  },
  {
   "cell_type": "code",
   "execution_count": null,
   "id": "9875a6c5",
   "metadata": {},
   "outputs": [],
   "source": [
    "abexpain_liggare.dtypes"
   ]
  },
  {
   "cell_type": "markdown",
   "id": "dc7f6f1e",
   "metadata": {},
   "source": [
    "### First glance"
   ]
  },
  {
   "cell_type": "code",
   "execution_count": null,
   "id": "72a65378",
   "metadata": {},
   "outputs": [],
   "source": [
    "abexpain_liggare.iloc[20:24].T"
   ]
  },
  {
   "cell_type": "code",
   "execution_count": null,
   "id": "1c64fc15",
   "metadata": {},
   "outputs": [],
   "source": [
    "## Initial info\n",
    "\n",
    "print(\"=========\")\n",
    "display(f\"Total number of visits: {len(abexpain_liggare)}. Män: {(abexpain_liggare['Patient_Kon'] =='M').sum()}, Kvinnor: {(abexpain_liggare['Patient_Kon'] =='F').sum()}\")\n",
    "print(\"=========\")\n",
    "display(\"By patient\")\n",
    "display(abexpain_liggare.index.value_counts())\n",
    "print(\"=========\")\n",
    "display(f\"Inlagd: {abexpain_liggare['Inlagd'].sum()}. Män: {((abexpain_liggare['Patient_Kon'] =='M') & (abexpain_liggare['Inlagd'] == 1)).sum()}, Kvinnor: {((abexpain_liggare['Patient_Kon'] =='F') & (abexpain_liggare['Inlagd'] == 1)).sum()}\")\n",
    "print(\"=========\")\n",
    "display(\"Utskriven till\")\n",
    "display(abexpain_liggare[\"Utskriven till\"].value_counts())\n",
    "print(\"=========\")\n",
    "display(\"Sjukhus fördelning\")\n",
    "display(abexpain_liggare[\"Sjukhus_Namn\"].fillna(\"??? Saknas ???\").value_counts())\n",
    "print(\"=========\")"
   ]
  },
  {
   "cell_type": "code",
   "execution_count": null,
   "id": "adab9b30",
   "metadata": {},
   "outputs": [],
   "source": [
    "## Eventuellt återanvända personnummer\n",
    "\n",
    "abexpain_liggare[\"AterPNr\"].sum()"
   ]
  },
  {
   "cell_type": "code",
   "execution_count": null,
   "id": "3f3ca01f",
   "metadata": {},
   "outputs": [],
   "source": [
    "## Distribution över tid\n",
    "\n",
    "pd.to_datetime(abexpain_liggare[\"Vardkontakt_InskrivningDatum\"]).hist(bins=24, figsize=(10,10))"
   ]
  },
  {
   "cell_type": "code",
   "execution_count": null,
   "id": "721d6a08",
   "metadata": {},
   "outputs": [],
   "source": [
    "abexpain_liggare[\"Vardkontakt_PatientAlderVidInskrivning\"].hist(bins=20, figsize=(10,10))"
   ]
  },
  {
   "cell_type": "code",
   "execution_count": null,
   "id": "62670b43",
   "metadata": {},
   "outputs": [],
   "source": [
    "abexpain_liggare[abexpain_liggare[\"Utskriven till\"] == \"Avdelning\"][\"Inläggningsavdelning\"].value_counts()"
   ]
  },
  {
   "cell_type": "markdown",
   "id": "362230aa",
   "metadata": {},
   "source": [
    "### Diagnoser"
   ]
  },
  {
   "cell_type": "code",
   "execution_count": null,
   "id": "ce2406d8",
   "metadata": {},
   "outputs": [],
   "source": [
    "#Arterial thrombosis in the abdominal or lower extremity circulation: I74.0, I74.1, I 74.2, I 74.3, I74.4, I74.5, I74.8, I74.9, K55.0, K55.1, K55.9, N28.0.\n",
    "#Venous thrombosis in the abdominal or lower extremity circulation: I80.1, I80.2, I80.3, I80.8, I80.9, I81.9.\n",
    "icd = set(sos_sluten[\"hdia\"])\n"
   ]
  },
  {
   "cell_type": "code",
   "execution_count": null,
   "id": "2ea34bba",
   "metadata": {},
   "outputs": [],
   "source": [
    "art_thromb_icd = [\"I740\", \"I741\", \"I742\", \"I743\", \"I744\", \"I745\", \"I748\", \"I749\", \"K550\", \"K559\", \"N280\", \"N28\"]\n",
    "ven_thromb_icd = [\"I801\", \"I802\", \"I803\", \"I808\", \"I809\", \"I819\"]\n",
    "for i in art_thromb_icd:\n",
    "    print(f\"{i}\\t{i in icd}\")"
   ]
  },
  {
   "cell_type": "markdown",
   "id": "66af0240",
   "metadata": {},
   "source": [
    "#### Allmän överblick över huvuddiagnoser i slutenvårdsregistret från SoS."
   ]
  },
  {
   "cell_type": "code",
   "execution_count": null,
   "id": "9abb5cd7",
   "metadata": {
    "scrolled": false
   },
   "outputs": [],
   "source": [
    "#for k,v in sos_sluten[\"hdia\"].value_counts().items():\n",
    "#    print(f'{k}\\t{v}')\n",
    "c = sos_sluten[\"hdia\"].value_counts()\n",
    "print(\"Förekomst av diagnoser i hela slutenvårdsregistret (även andra sökorsaker)\")\n",
    "display(c)\n",
    "\n",
    "\n",
    "## N28* har trunkerats till N28.\n",
    "\n",
    "for s, l in zip([\"Arterial thrombosis\", \"Venuous thrombosis\"], [art_thromb_icd, ven_thromb_icd]):\n",
    "    print(s)\n",
    "    for i in l:\n",
    "        if i in c:\n",
    "            print(f\"{i}\\t{c[i]}\")\n",
    "        else:\n",
    "            print(f\"{i} -- missing\")\n",
    "    print()"
   ]
  },
  {
   "cell_type": "markdown",
   "id": "9df9b828",
   "metadata": {},
   "source": [
    "#### Tromboser i Slutenvården"
   ]
  },
  {
   "cell_type": "code",
   "execution_count": null,
   "id": "8897c1dc",
   "metadata": {},
   "outputs": [],
   "source": [
    "skipped = 0\n",
    "acount = 0\n",
    "vcount = 0\n",
    "ecount = 0\n",
    "for alias, r in abexpain_liggare.iterrows():\n",
    "    lopnr = r[\"LopNr\"]\n",
    "    if lopnr == -1:\n",
    "        skipped += 1\n",
    "        continue\n",
    "#    print(lopnr)\n",
    "    v, a = False, False\n",
    "    for hdia in sos_sluten[(sos_sluten[\"LopNr\"] == lopnr) & (r[\"Vardkontakt_InskrivningDatum\"] <= sos_sluten[\"INDATUM\"]) & (sos_sluten[\"INDATUM\"] <= (r[\"Vardkontakt_InskrivningDatum\"] + pd.Timedelta(\"90D\")))][\"hdia\"]:\n",
    "        a = a or hdia in art_thromb_icd\n",
    "        v = v or hdia in ven_thromb_icd\n",
    "    if a:\n",
    "        acount += 1\n",
    "    if v:\n",
    "        vcount += 1\n",
    "    if a or v:\n",
    "        ecount += 1\n",
    "\n",
    "print(f\"Skipped: {skipped}\")\n",
    "print(f\"Arterial: {acount}\")\n",
    "print(f\"Venuous: {vcount}\")\n",
    "print(f\"Either: {ecount}\")\n",
    "print(f\"Total: {len(abexpain_liggare)}\")"
   ]
  },
  {
   "cell_type": "code",
   "execution_count": null,
   "id": "d20ab49e",
   "metadata": {},
   "outputs": [],
   "source": [
    "abexpain_liggare.dtypes"
   ]
  },
  {
   "cell_type": "markdown",
   "id": "9fbcfd1d",
   "metadata": {},
   "source": [
    "## DVT export"
   ]
  },
  {
   "cell_type": "code",
   "execution_count": null,
   "id": "7f53cc4e",
   "metadata": {
    "scrolled": false
   },
   "outputs": [],
   "source": [
    "DVT_ORSAKER = [\"Smärta i extremitet RETTS-A 15, RETTS-P115\", \"Svullnad i extremitet RETTS-A 15, RETTS-P 115\", \"Extremitetsproblem RETTS-A 15\"]\n",
    "BLOOD_SAMPLES = [\n",
    "    \"P-Kreatinin (enz)\",\n",
    "    \"B-Hemoglobin (Hb)\",\n",
    "    \"P-CRP\",\n",
    "    \"P-D-dimer\",\n",
    "    \"B-Leukocyter\",\n",
    "    \"B-Trombocyter\"\n",
    "]\n",
    "BLOOD_SAMPLE_MAX_HOURS_AFTER_INDEX=24\n",
    "\n",
    "ATC_PREFIXES = [\"A10\", \"B01\", \n",
    "                \"C02\", \"C03\", \"C08\", \"C09\", \"C10\", \n",
    "                \"G03A\", \"G03C\",\n",
    "                \"H02\",\n",
    "                \"L01\", \"L02A\", \"L04\"\n",
    "               ]\n",
    "SECTRA_CODES = [96800, 68600, 83780, 83980, 68700, 83080, 83981, 68259, \n",
    "                68248, 48046, 68258, 83781, 68213, 68240, 68200, 48025, \n",
    "                38346, 48048, 48000, 38348, 38300]\n",
    "SECTRA_CODES = set(map(str, SECTRA_CODES))\n",
    "SECTRA_DAYS = 30\n",
    "ATC_DAYS_BEFORE_INDEX = 90\n",
    "SURGERY_DAYS_BEFORE_INDEX = 90\n",
    "PREV_DISEASE_ICD_PREFIXES = [f\"I{i}\" for i in chain(range(10,17), range(20,26), range(30,51), range(60,70), range(80,83))] + [f\"M{i:02d}\" for i in chain(range(4,15), range(30,37))] + [f\"C{i:02d}\" for i in range(0,97)] + [f\"E{i:02d}\" for i in range(8,14)] + [\"F10\"]\n",
    "TARGET_OUTCOME_ICD_PREFIXES = [\"I801\", \"I802\", \"I803\", \"I26\"]   # XXX: What about the others that start with I80?\n",
    "\n",
    "OUTCOME_DAYS_AFTER_INDEX = [0, 30, 90, 180, 365] # XXX: Maybe change 0 to 1 here\n",
    "DVT_EXPORT_ROOT = \"/mnt/air-crypt/air-crypt-esc-trop/andersb/temp-skane-1718/dvt-export\"\n",
    "LIGGARE_KEEP_COLUMNS=[\n",
    "    \"Vardkontakt_InskrivningDatum\", \"BesokOrsak_Kod\",\n",
    "    \"Patient_Kon\", \"Vardkontakt_PatientAlderVidInskrivning\",\n",
    "    \"Inlagd\"\n",
    "]\n",
    "\n",
    "\n",
    "importlib.reload(s1718_util)\n",
    "import mim.extractors.skane_1718_extract_util as s1718_util\n",
    "\n",
    "t0 = time.time()\n",
    "\n",
    "#INCLUDE_SOS_OV = True\n",
    "\n",
    "CUT = 1000\n",
    "\n",
    "dvt_liggare = liggaren[liggaren[\"BesokOrsak_Beskrivning\"].isin(DVT_ORSAKER)].copy() # Select\n",
    "dvt_liggare.loc[:,\"Vardkontakt_InskrivningDatum\"] = pd.to_datetime(dvt_liggare[\"Vardkontakt_InskrivningDatum\"]) # Cast\n",
    "dvt_liggare = dvt_liggare.sort_values(\"Vardkontakt_InskrivningDatum\") # Sort chronologically\n",
    "print(len(dvt_liggare))\n",
    "dvt_liggare = dvt_liggare.drop_duplicates(\"Alias\") # Reduce to first visit for each patient\n",
    "print(len(dvt_liggare))\n",
    "dvt_liggare = dvt_liggare.set_index(\"Alias\").join(sos_nyckel.set_index(\"Alias\")) # join SoS key\n",
    "dvt_liggare = dvt_liggare[dvt_liggare[\"LopNr\"].notna()]  # Drop 333 where there is no SoS entry.\n",
    "dvt_liggare.loc[:,\"LopNr\"] = dvt_liggare[\"LopNr\"].astype(int)  # Cast\n",
    "print(len(dvt_liggare))\n",
    "if CUT > 0:\n",
    "    dvt_liggare = dvt_liggare.iloc[:CUT]\n",
    "print(len(dvt_liggare))\n",
    "\n",
    "\n",
    "prev_diseases_ov = s1718_util.extract_previous_diagnoses_sos_ov(sos_oppen, dvt_liggare.reset_index(),PREV_DISEASE_ICD_PREFIXES)\n",
    "prev_diseases_sv = s1718_util.extract_previous_diagnoses_sos_sv(sos_sluten, dvt_liggare.reset_index(),\n",
    "                                                      PREV_DISEASE_ICD_PREFIXES)\n",
    "icd_outcomes_sv = s1718_util.extract_outcome_icds_sos(sos_sluten, dvt_liggare.reset_index(),\n",
    "                                                  TARGET_OUTCOME_ICD_PREFIXES,\n",
    "                                                  OUTCOME_DAYS_AFTER_INDEX,\n",
    "                                                     \"SV\")\n",
    "icd_outcomes_ov = s1718_util.extract_outcome_icds_sos(sos_oppen, dvt_liggare.reset_index(),\n",
    "                                                  TARGET_OUTCOME_ICD_PREFIXES,\n",
    "                                                  OUTCOME_DAYS_AFTER_INDEX,\n",
    "                                                     \"OV\")\n",
    "death = s1718_util.extract_death_sos_dors(sos_dors, dvt_liggare.reset_index(), \n",
    "                                         OUTCOME_DAYS_AFTER_INDEX)\n",
    "sos_surgery_ov = s1718_util.extract_previous_surgery_sos_ov(sos_oppen, dvt_liggare.reset_index(),\n",
    "                                                            SURGERY_DAYS_BEFORE_INDEX)\n",
    "sos_surgery_sv = s1718_util.extract_previous_surgery_sos_sv(sos_sluten, dvt_liggare.reset_index(),\n",
    "                                                           SURGERY_DAYS_BEFORE_INDEX)\n",
    "print(\"LM\")\n",
    "lm = s1718_util.extract_historical_atc_sos(sos_lakemedel, dvt_liggare.reset_index(),\n",
    "                                           ATC_DAYS_BEFORE_INDEX, ATC_PREFIXES)\n",
    "lb = s1718_util.extract_index_blood_samples(labb, dvt_liggare.reset_index(),\n",
    "                                            BLOOD_SAMPLES, BLOOD_SAMPLE_MAX_HOURS_AFTER_INDEX)\n",
    "sec = s1718_util.extract_sectra_procedures(sectra, dvt_liggare.reset_index(),\n",
    "                                           SECTRA_CODES, SECTRA_DAYS,\n",
    "                                           1,\n",
    "                                           None) #DVT_EXPORT_ROOT + \"/to_annotate/\"\n",
    "out = dvt_liggare[LIGGARE_KEEP_COLUMNS]\n",
    "out = out.join([prev_diseases_sv, prev_diseases_ov, icd_outcomes_sv, icd_outcomes_ov, death, sos_surgery_ov, sos_surgery_sv, sec, lm, lb])\n",
    "out.to_csv(\"dvt-R.csv\")\n",
    "\n",
    "t1 = time.time()\n",
    "print(f\"Time: {t1-t0=}\")"
   ]
  },
  {
   "cell_type": "code",
   "execution_count": null,
   "id": "b05c3fc5",
   "metadata": {},
   "outputs": [],
   "source": [
    "sos_dors.DODSDAT"
   ]
  },
  {
   "cell_type": "code",
   "execution_count": null,
   "id": "34eb540f",
   "metadata": {},
   "outputs": [],
   "source": [
    "sos_lakemedel[\"Alias\"].isin(dvt_liggare.index).sum()"
   ]
  },
  {
   "cell_type": "code",
   "execution_count": null,
   "id": "16eda966",
   "metadata": {},
   "outputs": [],
   "source": [
    "#sos_lakemedel\n",
    "d = datetime(year=2018,month=1, day=1) + timedelta(days=-90) + timedelta(days=-10)\n",
    "print(len(sos_lakemedel))\n",
    "print(len(sos_lakemedel[sos_lakemedel[\"EDATUM\"] > d]))"
   ]
  },
  {
   "cell_type": "code",
   "execution_count": null,
   "id": "708c3018",
   "metadata": {},
   "outputs": [],
   "source": [
    "sos_lakemedel"
   ]
  },
  {
   "cell_type": "code",
   "execution_count": null,
   "id": "fb6a7c8c",
   "metadata": {},
   "outputs": [],
   "source": [
    "prev_diseases_sv"
   ]
  },
  {
   "cell_type": "code",
   "execution_count": null,
   "id": "bbefae0d",
   "metadata": {},
   "outputs": [],
   "source": [
    "BROKEN_BLOOD_SAMPLE_VALUES = [\n",
    "    \"FELTA\", \"HEMOL\", \"KOAG\", \"KOAGL\", \"KOMM\", \"OFYLL\", \"OTILL\", \"SAKNA\"\n",
    "]\n",
    "\n",
    "new_data[~new_data[\"blood-P-D-Dimer\"].isin(BROKEN_BLOOD_SAMPLE_VALUES)]"
   ]
  },
  {
   "cell_type": "code",
   "execution_count": null,
   "id": "a01642b8",
   "metadata": {},
   "outputs": [],
   "source": [
    "new_data.dtypes"
   ]
  },
  {
   "cell_type": "code",
   "execution_count": null,
   "id": "56578fe5",
   "metadata": {},
   "outputs": [],
   "source": [
    "list(dvt_liggare)"
   ]
  },
  {
   "cell_type": "code",
   "execution_count": null,
   "id": "8ce18739",
   "metadata": {},
   "outputs": [],
   "source": [
    "importlib.reload(s1718_util)\n",
    "import mim.extractors.skane_1718_extract_util as s1718_util\n",
    "\n",
    "x = dvt_liggare[\"Vardkontakt_InskrivningDatum\"].reset_index().rename(columns={\"Vardkontakt_InskrivningDatum\": \"IndexVisitTimestamp\"})\n",
    "s1718_util.extract_historical_atc_sos(sos_lakemedel, x, ATC_DAYS_BEFORE_INDEX, ATC_PREFIXES)"
   ]
  },
  {
   "cell_type": "code",
   "execution_count": null,
   "id": "1dfc2154",
   "metadata": {},
   "outputs": [],
   "source": [
    "sectra.dtypes"
   ]
  },
  {
   "cell_type": "code",
   "execution_count": null,
   "id": "06f25e8f",
   "metadata": {},
   "outputs": [],
   "source": [
    "D=FAILED_SV_KVA_CODES\n",
    "\n",
    "#for k in sorted(D.keys(), key=lambda x: (-D[x], x)):\n",
    "#    print(f\"{k} -- {D[k]}\")\n",
    "    \n",
    "D=FIRING_SV_KVA_CODES\n",
    "df = pd.DataFrame(data=np.array([(k, D[k]) for k in sorted(D.keys(), key=lambda x: (-D[x], x))]), columns=['KOD','count']).set_index(\"KOD\")\n",
    "df = df.join(sos_kva_df)\n",
    "df.to_csv(\"firing_sv_kva.csv\")"
   ]
  },
  {
   "cell_type": "code",
   "execution_count": null,
   "id": "28b4638d",
   "metadata": {},
   "outputs": [],
   "source": [
    "for _, row in pat_sluten[(pat_sluten[\"INDATUM\"] < index_date) & (pat_sluten[\"INDATUM\"] > index_date - timedelta(days=(SURGERY_DAYS_BEFORE_INDEX+100)))][SV_OP_COLS].dropna(subset=[\"OP\"]).iterrows():  # Add 100 days here to have some extra space backwards in time. We will consider the actual OP date below anyway\n",
    "    ops = row[\"OP\"].split(\" \")\n",
    "    for i, o in enumerate(ops, start=1):\n",
    "        d = pd.to_datetime(row[i])\n",
    "        print(f\"{i}\\t{o}\\t{d}\")\n",
    "        if index_date-timedelta(days=SURGERY_DAYS_BEFORE_INDEX) < d < index_date:\n",
    "            if o in sos_kva_df.index:\n",
    "                print(\"yes\")\n",
    "            else:\n",
    "                print(\"no\")\n",
    "        \n",
    "        \n",
    "print(index_date)\n",
    "        \n",
    "\n",
    "\n"
   ]
  },
  {
   "cell_type": "code",
   "execution_count": null,
   "id": "e1eb2196",
   "metadata": {},
   "outputs": [],
   "source": [
    "for x in pat_oppen[(pat_oppen[\"INDATUM\"] < index_date) & (pat_oppen[\"INDATUM\"] > index_date - timedelta(days=SURGERY_DAYS_BEFORE_INDEX))].dropna(subset=[\"OP\"])[\"OP\"]:\n",
    "    ops = x.split(\" \")\n",
    "    print(ops)\n",
    "    for o in ops:\n",
    "        if o in sos_kva_df.index:\n",
    "            print(sos_kva_df.loc[o,:][\"KLASSDEL\"])\n",
    "        else:\n",
    "            print(\"Failed \"+o)"
   ]
  },
  {
   "cell_type": "code",
   "execution_count": null,
   "id": "90a2555a",
   "metadata": {},
   "outputs": [],
   "source": [
    "sos_kva_df.loc[\"XS100\",:]"
   ]
  },
  {
   "cell_type": "code",
   "execution_count": null,
   "id": "1ab18735",
   "metadata": {},
   "outputs": [],
   "source": [
    "new_data"
   ]
  },
  {
   "cell_type": "code",
   "execution_count": null,
   "id": "e5223d1d",
   "metadata": {},
   "outputs": [],
   "source": [
    "for icd in TARGET_OUTCOME_ICD_PREFIXES:\n",
    "    print(f\"{icd}\\t{dvt_data[get_outcome_label(90,icd)].sum()}\")"
   ]
  },
  {
   "cell_type": "code",
   "execution_count": null,
   "id": "686a5160",
   "metadata": {},
   "outputs": [],
   "source": [
    "dvt_data = dvt_liggare.join(new_data.set_index(\"Alias\"))\n",
    "\n",
    "def collapse_outcomes(days, row):\n",
    "    cols = [get_outcome_label(days,icd) for icd in TARGET_OUTCOME_ICD_PREFIXES]\n",
    "    if row[cols].sum():\n",
    "        return 1\n",
    "    else:\n",
    "        return 0\n",
    "\n",
    "for days in OUTCOME_DAYS_AFTER_INDEX:\n",
    "    dvt_data[get_outcome_label(days, None)] = dvt_data.apply(partial(collapse_outcomes, days), axis=1)"
   ]
  },
  {
   "cell_type": "code",
   "execution_count": null,
   "id": "41bbad63",
   "metadata": {},
   "outputs": [],
   "source": [
    "tot = len(dvt_data)\n",
    "zero_d = dvt_data[get_outcome_label(0, None)].sum()\n",
    "one80_d = dvt_data[get_outcome_label(90, None)].sum()\n",
    "print(f\"0d: {zero_d}/{tot} = {zero_d/tot}\")\n",
    "print(f\"180d: {one80_d}/{tot} = {one80_d/tot}\")"
   ]
  },
  {
   "cell_type": "markdown",
   "id": "9c54d60c",
   "metadata": {},
   "source": [
    "## Sectra counts"
   ]
  },
  {
   "cell_type": "code",
   "execution_count": null,
   "id": "10c7ef64",
   "metadata": {},
   "outputs": [],
   "source": [
    "dvt_sectra_365 = pd.read_csv(\"dvt-sectra-365.csv\",names=[\"count\",\"code\"],header=None)\n",
    "dvt_sectra_365"
   ]
  },
  {
   "cell_type": "code",
   "execution_count": null,
   "id": "14932611",
   "metadata": {},
   "outputs": [],
   "source": [
    "dvt_sectra_365.join(sectra_map, on=\"code\").to_csv(\"dvt-sectra-365.joined.csv\")"
   ]
  },
  {
   "cell_type": "code",
   "execution_count": null,
   "id": "1a5c3a49",
   "metadata": {},
   "outputs": [],
   "source": [
    "sectra_map"
   ]
  },
  {
   "cell_type": "markdown",
   "id": "2216a317",
   "metadata": {},
   "source": [
    "## Exempel"
   ]
  },
  {
   "cell_type": "code",
   "execution_count": null,
   "id": "419fbf42",
   "metadata": {},
   "outputs": [],
   "source": [
    "sos_nyckel[sos_nyckel[\"Alias\"] == 10261943]"
   ]
  },
  {
   "cell_type": "code",
   "execution_count": null,
   "id": "81b6d07e",
   "metadata": {},
   "outputs": [],
   "source": [
    "liggaren[liggaren[\"Alias\"] == 10261943].T"
   ]
  },
  {
   "cell_type": "code",
   "execution_count": null,
   "id": "5b2f12a8",
   "metadata": {},
   "outputs": [],
   "source": [
    "melior_diagnoser_vid_kontakt[melior_diagnoser_vid_kontakt[\"Alias\"] == 10261943].T"
   ]
  },
  {
   "cell_type": "code",
   "execution_count": null,
   "id": "d9391380",
   "metadata": {},
   "outputs": [],
   "source": [
    "sos_sluten[sos_sluten[\"LopNr\"] == 134374]"
   ]
  },
  {
   "cell_type": "code",
   "execution_count": null,
   "id": "98daa5b1",
   "metadata": {},
   "outputs": [],
   "source": [
    "abexpain_liggare.head(10)"
   ]
  },
  {
   "cell_type": "code",
   "execution_count": null,
   "id": "bbd5dffb",
   "metadata": {},
   "outputs": [],
   "source": [
    "abexpain_liggare.loc[10000021]"
   ]
  },
  {
   "cell_type": "code",
   "execution_count": null,
   "id": "72976a6e",
   "metadata": {},
   "outputs": [],
   "source": [
    "melior_diagnoser_vid_kontakt[melior_diagnoser_vid_kontakt[\"Alias\"] == 10000021].T"
   ]
  },
  {
   "cell_type": "code",
   "execution_count": null,
   "id": "ea3924bb",
   "metadata": {},
   "outputs": [],
   "source": [
    "sos_nyckel[sos_nyckel[\"Alias\"] == 10000021]"
   ]
  },
  {
   "cell_type": "code",
   "execution_count": null,
   "id": "cefbce87",
   "metadata": {
    "scrolled": true
   },
   "outputs": [],
   "source": [
    "for l in list(sos_sluten):\n",
    "    print(l)"
   ]
  },
  {
   "cell_type": "code",
   "execution_count": null,
   "id": "df31e4df",
   "metadata": {},
   "outputs": [],
   "source": [
    "sluten_cols=[\"EKOD1\", \"SJUKHUS\", \"MVO\", \"INDATUM\", \"UTDATUM\", \"hdia\", \"OP\", \"DIA_ANT\", \"DIA1\", \"DIA2\", \"DIA3\", \"DIA4\"]\n",
    "\n",
    "sos_sluten[sos_sluten[\"LopNr\"] == 102295][sluten_cols].sort_values(\"INDATUM\")"
   ]
  },
  {
   "cell_type": "markdown",
   "id": "ac05dafd",
   "metadata": {},
   "source": [
    "## Mismatch SoS -- Skåne17-18"
   ]
  },
  {
   "cell_type": "code",
   "execution_count": null,
   "id": "41af3d00",
   "metadata": {},
   "outputs": [],
   "source": [
    "abexpain_liggare[abexpain_liggare['LopNr'].isna()][\"Utskriven till\"].value_counts()"
   ]
  },
  {
   "cell_type": "markdown",
   "id": "420c7313",
   "metadata": {},
   "source": [
    "## SECTRA"
   ]
  },
  {
   "cell_type": "code",
   "execution_count": null,
   "id": "90c748ae",
   "metadata": {},
   "outputs": [],
   "source": [
    "sectra_a = pd.read_csv(FILES[\"SECTRA_export2012_2015A.csv\"], sep=\"|\", encoding=\"ISO-8859-1\")\n",
    "sectra_b = pd.read_csv(FILES[\"SECTRA_export2016_2018A.csv\"], sep=\"|\", encoding=\"ISO-8859-1\")\n",
    "sectra = pd.concat([sectra_a, sectra_b])"
   ]
  },
  {
   "cell_type": "code",
   "execution_count": null,
   "id": "39afef90",
   "metadata": {},
   "outputs": [],
   "source": [
    "sectra_a.dtypes"
   ]
  },
  {
   "cell_type": "code",
   "execution_count": null,
   "id": "7c47b8b7",
   "metadata": {},
   "outputs": [],
   "source": [
    "sectra_a.sort_values(\"Undersökningsdatum\")"
   ]
  },
  {
   "cell_type": "code",
   "execution_count": null,
   "id": "b9419666",
   "metadata": {},
   "outputs": [],
   "source": [
    "sectra_b.sort_values(\"Undersökningsdatum\")"
   ]
  },
  {
   "cell_type": "code",
   "execution_count": null,
   "id": "f4f9d31f",
   "metadata": {},
   "outputs": [],
   "source": [
    "## From \n",
    "## https://vardgivare.skane.se/siteassets/1.-vardriktlinjer/med-omraden/bild-funktion/undersokningsmetoder-bof-rontgen32.pdf\n",
    "## and\n",
    "## https://vardgivare.skane.se/siteassets/2.-patientadministration/avgifter-och-prislistor/prislistor/bfm/Prislista-bild-och-funktion.xlsx\n",
    "\n",
    "sectra_koder = {\n",
    "#     10000: \"Neuroradiologisk us utan egen kod\",\n",
    "#     13000: \"Lumbalpunktion\",\n",
    "#     13017: \"Lumbalpunktion och tryckmätning\",\n",
    "#     13050: \"Lumbalpunktion för odling/cellanalys\",\n",
    "#     13100: \"Lumbothorakal myelografi\",\n",
    "#     13400: \"Myelografi för efterföljande datortomografi\",\n",
    "#     13700: \"Lumbal vertebroplastik\",\n",
    "#     17000: \"Carotis communis-angiografi\",\n",
    "#     17048: \"Carotis communis-angiografi med inläggning av stent\",\n",
    "#     17062: \"Carotis communis-angiografi med stentgraft\",\n",
    "#     17130: \"Carotis interna-angiografi med tomografi och/eller 3D\",\n",
    "#     17148: \"Carotis interna-angiografi med inläggning av stent\",\n",
    "#     17162: \"Carotis interna-angiografi med stentgraft\",\n",
    "#     17500: \"Kombination av två eller flera skallangiografi\",\n",
    "#     17530: \"Kombination av två eller flera skallangiografi med tomografi och/eller 3D\",\n",
    "#     17575: \"Skallangiografi med intravenös tomografi\",\n",
    "#     17800: \"Spinal angiografi\",\n",
    "    \"22200\": \"Arbetsprov\",\n",
    "    \"22203\": \"Arbetsprov armcykling\",\n",
    "    \"22204\": \"Arbetsprov på rullande matta\",\n",
    "    \"22205\": \"Arbetsprov med pulsoximetri\",\n",
    "    \"22206\": \"Arbetsprov med PEF\",\n",
    "    \"22208\": \"Arbetsprov med pulsoximetri och PEF\",\n",
    "    \n",
    "    \"23210\": \"Arbetsprov med blodgaser\",\n",
    "    \n",
    "    \"32000\": \"Lungor\",\n",
    "    \"32028\": \"Lungor endast genomlysning\",\n",
    "    \"32030\": \"Lungor tomosyntes\",\n",
    "    \"32300\": \"Lungor undersökning i liggande\",\n",
    "    \"32320\": \"Lungor, liggande barn (frontal- och sidobild)\",\n",
    "    \"37300\": \"Coronarangiografi ett eller flera kärl\",\n",
    "    \"39600\": \"Coronarangiografi med PCI utan stent\",\n",
    "    \"39648\": \"Coronarangiografi med PCI med stent\",\n",
    "  \n",
    "    \"72110\": \"Scintigrafi myokard vila och belastning\",\n",
    "    \"72120\": \"Scintigrafi myokard vila och arbete\",\n",
    "    \n",
    "    \"73110\": \"Scintigrafi lungor\",\n",
    "    \"73130\": \"Scintigrafi lungor ventilation perfusion med fördelning\",\n",
    "    \"73400\": \"Scintigrafi tomografi lungor\",\n",
    "    \"73403\": \"Scintigrafi tomografi inklusive DT lungor\",\n",
    "\n",
    "    \"83000\": \"DT thorax utan iv kontrast\",\n",
    "    \"83007\": \"DT thorax översiktsundersökning\",\n",
    "    \"83050\": \"DT thorax med punktion/biopsi\",\n",
    "    \"83051\": \"DT thorax med punktion och kateterinläggning\",\n",
    "    \"83076\": \"DT thorax högupplösande (HRCT)\",\n",
    "    \"83077\": \"DT thorax med låg stråldos\",\n",
    "    \"83080\": \"DT thorax med iv kontrast\",\n",
    "    \"83081\": \"DT thorax utan och med iv kontrast\",\n",
    "    \n",
    "    \"83100\": \"DT hjärta\",\n",
    "    \"83180\": \"DT hjärta med iv kontrast\",\n",
    "    \"83600\": \"DT thorax och övre buk utan iv kontrast\",\n",
    "    \"83680\": \"DT thorax och övre buk med iv kontrast\",\n",
    "    \"83681\": \"DT thorax och övre buk utan och med iv kontrast\",\n",
    "    \"83900\": \"DT thorax och buk utan iv kontrast\",\n",
    "    \"83980\": \"DT thorax och buk med iv kontrast\",\n",
    "    \"83981\": \"DT thorax och buk utan och med iv kontrast\",\n",
    "    \n",
    "    \"84000\": \"DT buk utan iv kontrast\",\n",
    "    \"84050\": \"DT buk med punktion\",\n",
    "    \"84051\": \"DT buk med dräninläggning\",\n",
    "    \"84080\": \"DT buk med iv kontrast\",\n",
    "    \"84081\": \"DT buk utan och med iv kontrast\",\n",
    "\n",
    "    \"92000\": \"Ekokardiografi\",\n",
    "    \"92007\": \"Ekokardiografi riktad undersökning\",\n",
    "    \"92072\": \"Ekokardiografi 3D\",\n",
    "    \"92200\": \"Ekokardiografi transesofagalt\",\n",
    "    \n",
    "    \"94000\": \"ULJ buk\",\n",
    "    \"94050\": \"ULJ buk med punktion/biopsi\",\n",
    "    \"94051\": \"ULJ buk med kateterinläggning\",\n",
    "    \"94081\": \"ULJ buk utan och med iv kontrast\",\n",
    "    \n",
    "    \"M3100\": \"MRT hjärta\",\n",
    "    \"M3107\": \"MRT hjärta kort undersökning\",\n",
    "    \"M3127\": \"MRT hjärta funktionsstudie\",\n",
    "    \"M3181\": \"MRT hjärta utan och med iv kontrast\"\n",
    "}"
   ]
  },
  {
   "cell_type": "code",
   "execution_count": null,
   "id": "6ba35e28",
   "metadata": {},
   "outputs": [],
   "source": [
    "for k in sorted(sectra_b[\"Undersökningskod\"].value_counts().keys()):\n",
    "    #if k not in sectra_koder.keys():\n",
    "        print(k)"
   ]
  },
  {
   "cell_type": "code",
   "execution_count": null,
   "id": "e0a2f2f3",
   "metadata": {},
   "outputs": [],
   "source": [
    "len(sectra)"
   ]
  },
  {
   "cell_type": "code",
   "execution_count": null,
   "id": "d7b59999",
   "metadata": {},
   "outputs": [],
   "source": [
    "len(sectra_new_df)"
   ]
  },
  {
   "cell_type": "code",
   "execution_count": null,
   "id": "daf5f9e7",
   "metadata": {},
   "outputs": [],
   "source": [
    "list(sectra_new_df)"
   ]
  },
  {
   "cell_type": "code",
   "execution_count": null,
   "id": "ed564f37",
   "metadata": {},
   "outputs": [],
   "source": [
    "sectra_new_df.iloc[835:845]"
   ]
  },
  {
   "cell_type": "code",
   "execution_count": null,
   "id": "dc526790",
   "metadata": {},
   "outputs": [],
   "source": [
    "sectra_new_df[sectra_new_df[\"Undersökningskod\"].isna()].head()"
   ]
  },
  {
   "cell_type": "code",
   "execution_count": null,
   "id": "5f4cc164",
   "metadata": {},
   "outputs": [],
   "source": [
    "print(len(sectra))\n",
    "print(len(sectra_new_df))"
   ]
  },
  {
   "cell_type": "code",
   "execution_count": null,
   "id": "e605f680",
   "metadata": {},
   "outputs": [],
   "source": [
    "vc = sectra[\"Undersökningskod\"].value_counts()\n",
    "vc_new = sectra_new_df[\"Undersökningskod\"].value_counts()\n",
    "\n",
    "for k in sorted(set(list(vc.keys()) + list(vc_new.keys()))):\n",
    "    print(f\"{k}\\t{vc[k]}\\t{vc_new[k]}\\t{vc_new[k]-vc[k]}\")"
   ]
  },
  {
   "cell_type": "code",
   "execution_count": null,
   "id": "806aebbc",
   "metadata": {},
   "outputs": [],
   "source": [
    "def print_sectra_code_counts(df):\n",
    "    counts = df[\"Undersökningskod\"].value_counts()\n",
    "    counts_recent = df[pd.to_datetime(df[\"Undersökningsdatum\"]) >= pd.to_datetime(\"2017-01-01\")][\"Undersökningskod\"].value_counts()\n",
    "    for k in sorted(counts.keys()):\n",
    "        n_recent = counts_recent[k] if k in counts_recent else 0\n",
    "        print(f'{k}~{sectra_koder[k]}~{counts[k]}~{n_recent}')\n",
    "        \n",
    "print_sectra_code_counts(sectra_new_df)"
   ]
  },
  {
   "cell_type": "code",
   "execution_count": null,
   "id": "1f33fe08",
   "metadata": {},
   "outputs": [],
   "source": [
    "sectra[\"Undersökningsdatum\"].sort_values()"
   ]
  },
  {
   "cell_type": "code",
   "execution_count": null,
   "id": "8ec48fa0",
   "metadata": {},
   "outputs": [],
   "source": [
    "sectra[\"Fullständigt svar\"].value_counts().head(10)"
   ]
  },
  {
   "cell_type": "code",
   "execution_count": null,
   "id": "f6a31b9f",
   "metadata": {},
   "outputs": [],
   "source": [
    "sectra.dtypes"
   ]
  },
  {
   "cell_type": "markdown",
   "id": "79480597",
   "metadata": {},
   "source": [
    "### Ny Sectra data"
   ]
  },
  {
   "cell_type": "code",
   "execution_count": null,
   "id": "119a1c9f",
   "metadata": {},
   "outputs": [],
   "source": [
    "sectra_new_df = pd.read_csv(\"/mnt/air-crypt/air-crypt-raw/andersb/data/Skane-1718-SECTRA-2nd/20210924/SECTRA_report_data_2012_2018_20210831.utf8.massaged.csv\", sep=\"|\", encoding=\"UTF8\", encoding_errors=\"strict\")\n",
    "sectra_new_df.head()"
   ]
  },
  {
   "cell_type": "code",
   "execution_count": null,
   "id": "628d5e56",
   "metadata": {},
   "outputs": [],
   "source": [
    "sectra_new_df.dtypes"
   ]
  },
  {
   "cell_type": "code",
   "execution_count": null,
   "id": "246473c6",
   "metadata": {},
   "outputs": [],
   "source": [
    "print(len(sectra))\n",
    "print(len(sectra_new_df))"
   ]
  },
  {
   "cell_type": "code",
   "execution_count": null,
   "id": "db0a6eaa",
   "metadata": {},
   "outputs": [],
   "source": [
    "sectra_new_df[\"Undersökningskod\"].value_counts()"
   ]
  },
  {
   "cell_type": "markdown",
   "id": "dba3c76b",
   "metadata": {},
   "source": [
    "## Jakob/Donika -- yrsel"
   ]
  },
  {
   "cell_type": "code",
   "execution_count": 461,
   "id": "e3d71a63",
   "metadata": {},
   "outputs": [
    {
     "data": {
      "text/plain": [
       "325539"
      ]
     },
     "execution_count": 461,
     "metadata": {},
     "output_type": "execute_result"
    }
   ],
   "source": [
    "len(set(liggaren[\"Alias\"]))"
   ]
  },
  {
   "cell_type": "code",
   "execution_count": 284,
   "id": "53222077",
   "metadata": {},
   "outputs": [
    {
     "name": "stdout",
     "output_type": "stream",
     "text": [
      "Totalt antal besök: 15773\n",
      "Endast första besöket: 13763\n",
      "13763\n",
      "13624\n",
      "13624\n"
     ]
    },
    {
     "name": "stderr",
     "output_type": "stream",
     "text": [
      "13624it [00:21, 647.02it/s]\n",
      "13624it [00:15, 870.48it/s]\n",
      "13624it [00:33, 402.35it/s]\n",
      "13624it [00:38, 354.11it/s]\n",
      "13624it [00:28, 481.98it/s]\n",
      "13624it [00:35, 383.99it/s]\n",
      "13624it [00:50, 272.01it/s]\n",
      "13624it [00:54, 248.98it/s]\n",
      "13624it [00:54, 248.74it/s]\n",
      "13624it [01:40, 135.79it/s]\n",
      "13624it [00:03, 3609.03it/s]\n",
      "13624it [00:24, 554.80it/s]\n",
      "13624it [01:35, 143.32it/s]\n",
      "13624it [00:34, 398.05it/s]\n",
      "13624it [00:48, 282.23it/s]\n",
      "13624it [00:08, 1634.96it/s]\n",
      "13624it [00:13, 987.83it/s] \n"
     ]
    },
    {
     "name": "stdout",
     "output_type": "stream",
     "text": [
      "Time: t1-t0=675.6900773048401\n",
      "Shape: (13624, 463)\n"
     ]
    }
   ],
   "source": [
    "importlib.reload(s1718_util)\n",
    "import mim.extractors.skane_1718_extract_util as s1718_util\n",
    "\n",
    "BLOOD_SAMPLES = [\n",
    "    \"P-Kalium\",\n",
    "    \"P-Kreatinin (enz)\",\n",
    "    \"B-Hemoglobin (Hb)\",\n",
    "    \"P-Natrium\",\n",
    "    \"P-Glukos\",\n",
    "    \"P-CRP\",\n",
    "    \"B-Calciumjon\",\n",
    "    \"P-Laktat\",\n",
    "    \"P-Troponin T\",\n",
    "    \"B-Trombocyter\",\n",
    "    \"S-Calciumjon (pH7.4)\",\n",
    "    \"aB-Laktat\",\n",
    "    \"P-Calcium\",\n",
    "    \"P-NT-proBNP\",\n",
    "    \"B-CRP (PNA)\",\n",
    "    \"B-Hb (PNA)\"\n",
    "]\n",
    "BLOOD_SAMPLE_MAX_HOURS_AFTER_INDEX=12\n",
    "\n",
    "\n",
    "ATC_PREFIXES = [\n",
    "    \"C03\", \"C07\", \"C08\", \"C09\",\n",
    "    \"N02A\", \"N02\", \"N05\", \"N06\", \n",
    "    \"M01\", \"N03\"\n",
    "]\n",
    "ATC_DAYS_BEFORE_INDEX = [180, 365*5]\n",
    "\n",
    "\n",
    "TARGET_OUTCOME_ICD_PREFIXES = [\"H80-H83\"]\n",
    "TARGET_OUTCOME_ICD_PREFIXES += [\"I60\", \"I61\", \"I62\", \"I63\", \"I64\", \"I65\", \"I66\", \"I67\", \"I68\", \"I69\"]\n",
    "TARGET_OUTCOME_ICD_PREFIXES += [\"I440\", \"I441A\", \"I441B\", \"I442\", \"I443\", \"I456\", \"I456A\", \"I460\", \"I461\", \"I469\", \"I47\", \"I470\", \"I472\", \"I472C\", \"I48\", \"I490\", \"I495\", \"I495A\", \"I495B\", \"I495C\", \"I498D\"]\n",
    "TARGET_OUTCOME_ICD_PREFIXES = list(sorted(set(TARGET_OUTCOME_ICD_PREFIXES)))\n",
    "\n",
    "TARGET_OUTCOME_KVA_CODES = [\"DF013\", \"DF025\", \"DF030\",\n",
    "                            \"FPE00\", \"FPE10\", \"FPE20\", \"FPE26\", \"FPE96\",\n",
    "                            \"FPF00\", \"FPF10\", \"FPF20\", \"FPF96\",\n",
    "                            \"FPG10\", \"FPG20\", \"FPG30\", \"FPG33\", \"FPG36\", \"FPG96\",\n",
    "                            \"TFP00\"]\n",
    "\n",
    "TARGET_OUTCOME_KVA_CODES += [\"AA011\", \"AA012\", \"AA013\", \"AA014\", \"AA015\", \"AA016\", \"AA017\", \"AA021\", \"AA022\", \"AA023\", \"AA024\", \"AA045\", \"AA046\", \"AA047\", \"AA048\", \"AA049\", \"AA050\", \"AA051\", \"AF012\", \"AF039\", \"AF040\", \"AF041\", \"AF042\", \"AF043\", \"AF054\", \"AF055\", \"AF056\", \"AF057\", \"AF058\", \"AF059\", \"AF060\", \"AF061\", \"AF062\", \"AF063\", \"AF074\", \"AF075\", \"FPE00\", \"FPE10\", \"FPE20\", \"FPE26\", \"FPE30\", \"FPE40\", \"FPE96\", \"FPF00\", \"FPF20\", \"FPF40\", \"FPF96\", \"FPG30\", \"FPG33\", \"FPG36\", \"FPG40\", \"FPG43\", \"FPG96\", \"FPJ00\", \"FPK00\"]\n",
    "TARGET_OUTCOME_KVA_CODES = list(sorted(set(TARGET_OUTCOME_KVA_CODES)))\n",
    "\n",
    "\n",
    "TARGET_MELIOR_DISCHARGE_DIAGS = [\"H810\", \"H811\", \"H812\", \"H813\", \"H814\", \"H818\", \"H819\"]\n",
    "TARGET_MELIOR_DISCHARGE_DIAGS += [\"R42\",\"R559\",\"I48\",\"I60\",\"I61\",\"I62\",\"I63\",\"I64\",\"I65\",\"I66\",\"I67\",\"I68\",\"I69\"]\n",
    "TARGET_MELIOR_DISCHARGE_DIAGS = list(sorted(set(TARGET_MELIOR_DISCHARGE_DIAGS)))\n",
    "\n",
    "OUTCOME_DAYS_AFTER_INDEX = [30, 90, 365]\n",
    "\n",
    "\n",
    "PREV_DISEASE_ICD_PREFIXES = [f\"E1{i}\" for i in range(0, 6)] + [\"H80-H83\"] + \\\n",
    " [f\"I1{i}\" for i in range(0, 6)] + [f\"I2{i}\" for i in range(0, 6)] + \\\n",
    " [f\"I6{i}\" for i in range(0, 10)] + [f\"I7{i}\" for i in range(0, 10)]\n",
    "\n",
    "TARGET_OUTCOME_REVISIT_CAUSES = [\"Yrsel\"]\n",
    "\n",
    "MELIOR_30DAY_ICD_PREFIXES = [\n",
    "    \"S02\", \"S12\", \"S22\", \"S32\", \"S42\", \"S52\", \"S62\", \"S72\", \"S82\", \"S92\",\n",
    "    \"W01\", \"W18\", \"W19\"\n",
    "]\n",
    "\n",
    "\n",
    "TARGET_MELIOR_DISCHARGE_DIAGS = [\"H810\", \"H811\", \"H812\", \"H813\", \"H814\", \"H818\", \"H819\",\n",
    "                                 \"I48\", \n",
    "                                 \"I60\", \"I61\", \"I62\", \"I63\", \"I64\", \"I65\", \"I66\", \"I67\", \"I68\", \"I69\",\n",
    "                                 \"R42\", \"R559\"]\n",
    "\n",
    "\n",
    "SOS_MELIOR_EXPANSION_DICT = {\n",
    "    \"prev5y-H80-H83\": [\"H811\", \"H813\", \"H814\"]\n",
    "}\n",
    "\n",
    "\n",
    "YRSEL_EXPORT_ROOT = \"/mnt/air-crypt/air-crypt-esc-trop/andersb/temp-skane-1718/yrsel-export\"\n",
    "LIGGARE_KEEP_COLUMNS=[\n",
    "    \"KontaktId\", \"Vardkontakt_InskrivningDatum\", \"BesokOrsak_Kod\", \"Ambulans_Arrival_Liggare_AB\",\n",
    "    \"Patient_Kon\", \"Vardkontakt_PatientAlderVidInskrivning\", \n",
    "    \"Inlagd\", \"Utskriven till\", \"Vårddtid på akuten i minuter\", \"Tid till läkare på akuten i minuter\", \"Triagekategori\",\n",
    "    \n",
    "]\n",
    "\n",
    "OUT_DROP_COLUMNS = [\"Vardkontakt_InskrivningDatum\", \"VårdtillfälleFörDiagnos_StartDatum\", \"VårdtillfälleFörDiagnos_SlutDatum\", \"Date_of_stroke\"]\n",
    "\n",
    "\n",
    "\n",
    "t0 = time.time()\n",
    "\n",
    "CUT = 1000\n",
    "CUT = -1000\n",
    "CUT = 0\n",
    "\n",
    "yrsel_liggare = liggaren[liggaren[\"BesokOrsak_Kod\"] == \"Yrsel\"].copy()\n",
    "print(f\"Totalt antal besök: {len(yrsel_liggare)}\")\n",
    "yrsel_liggare = yrsel_liggare.sort_values(\"Vardkontakt_InskrivningDatum\").drop_duplicates(\"Alias\")\n",
    "print(f\"Endast första besöket: {len(yrsel_liggare)}\")\n",
    "yrsel_liggare = yrsel_liggare.join(triage_df.set_index(\"KontaktId\"),\"KontaktId\")\n",
    "yrsel_liggare[\"Triagekategori\"] = yrsel_liggare[\"Triagekategori\"].fillna(\"--SAKNAS--\")\n",
    "\n",
    "yrsel_liggare.loc[:,\"Vardkontakt_InskrivningDatum\"] = pd.to_datetime(yrsel_liggare[\"Vardkontakt_InskrivningDatum\"]) # Cast\n",
    "print(len(yrsel_liggare))\n",
    "yrsel_liggare = yrsel_liggare.set_index(\"Alias\").join(sos_nyckel.set_index(\"Alias\")) # join SoS key\n",
    "yrsel_liggare = yrsel_liggare[yrsel_liggare[\"LopNr\"].notna()]  # Drop 333 where there is no SoS entry.\n",
    "yrsel_liggare.loc[:,\"LopNr\"] = yrsel_liggare[\"LopNr\"].astype(int)  # Cast\n",
    "print(len(yrsel_liggare))\n",
    "if CUT != 0:\n",
    "    #yrsel_liggare = yrsel_liggare.iloc[:CUT]\n",
    "    if CUT > 0:\n",
    "        yrsel_liggare = yrsel_liggare.head(CUT)\n",
    "    else:\n",
    "        yrsel_liggare = yrsel_liggare.tail(-CUT)\n",
    "print(len(yrsel_liggare))\n",
    "\n",
    "\n",
    "\n",
    "prev_diseases = s1718_util.extract_previous_diagnoses_combine_sv_ov(sos_oppen, sos_sluten, yrsel_liggare.reset_index(), PREV_DISEASE_ICD_PREFIXES)\n",
    "outcome_icds_sos = s1718_util.extract_icd_outcomes_combine_sv_ov(sos_oppen, sos_sluten, yrsel_liggare.reset_index(), TARGET_OUTCOME_ICD_PREFIXES, OUTCOME_DAYS_AFTER_INDEX)\n",
    "outcome_kva_sos = s1718_util.extract_kva_outcomes_combine_sv_ov(sos_oppen, sos_sluten, yrsel_liggare.reset_index(), TARGET_OUTCOME_KVA_CODES, OUTCOME_DAYS_AFTER_INDEX)\n",
    "lm = s1718_util.extract_historical_atc_sos(sos_lakemedel, yrsel_liggare.reset_index(),\n",
    "                                           ATC_DAYS_BEFORE_INDEX, ATC_PREFIXES)\n",
    "lm_compl = s1718_util.extract_historical_atc_sos(sos_lakemedel, yrsel_liggare.reset_index(),\n",
    "                                           ATC_DAYS_BEFORE_INDEX[1], ATC_PREFIXES, ATC_DAYS_BEFORE_INDEX[0])\n",
    "\n",
    "lb = s1718_util.extract_index_blood_samples(labb, yrsel_liggare.reset_index(),\n",
    "                                            BLOOD_SAMPLES, BLOOD_SAMPLE_MAX_HOURS_AFTER_INDEX)\n",
    "death = s1718_util.extract_death_sos_dors(sos_dors, yrsel_liggare.reset_index(), \n",
    "                                         OUTCOME_DAYS_AFTER_INDEX)\n",
    "outcome_revisit = s1718_util.extract_liggare_future_visits(liggaren, liggaren_followup, yrsel_liggare.reset_index(), TARGET_OUTCOME_REVISIT_CAUSES, OUTCOME_DAYS_AFTER_INDEX)\n",
    "\n",
    "melior_discharge_diags_df = s1718_util.extract_melior_discharge_diags(melior_diagnoser_vid_kontakt, yrsel_liggare.reset_index(), TARGET_MELIOR_DISCHARGE_DIAGS)\n",
    "index_start_stop_df = s1718_util.get_index_start_stop(melior_diagnoser_vid_kontakt, yrsel_liggare.reset_index())\n",
    "melior_outcome_df = s1718_util.contact_and_30day_melior_outcomes(melior_diagnoser_vid_kontakt, melior_diagnoser_30dagar_efter, yrsel_liggare.reset_index(), MELIOR_30DAY_ICD_PREFIXES)\n",
    "charlson_df = s1718_util.compute_charlson_melior_5y(melior_diagnoser_5ar_fore, yrsel_liggare.reset_index())\n",
    "\n",
    "\n",
    "#out = yrsel_liggare.copy()\n",
    "out = yrsel_liggare[LIGGARE_KEEP_COLUMNS].copy()\n",
    "out = out.join([index_start_stop_df, death, lb, prev_diseases, charlson_df])\n",
    "expanded_sos_melior_history_df = s1718_util.expand_grouped_sos_icd_by_melior_historic(melior_diagnoser_5ar_fore, out.reset_index(), SOS_MELIOR_EXPANSION_DICT)\n",
    "out = out.join(expanded_sos_melior_history_df)\n",
    "out = out.join([lm, lm_compl])\n",
    "new_lm = s1718_util.infer_newly_introduced_meds(out, ATC_PREFIXES, ATC_DAYS_BEFORE_INDEX[0], ATC_DAYS_BEFORE_INDEX[1])\n",
    "out = out.join([new_lm, melior_outcome_df])\n",
    "s_w_series = s1718_util.combine_S_W_melior(out, MELIOR_30DAY_ICD_PREFIXES)\n",
    "out = out.join(s_w_series)\n",
    "out = out.join([outcome_revisit, melior_discharge_diags_df, outcome_kva_sos, outcome_icds_sos])\n",
    "stroke_date_df = s1718_util.find_first_stroke(sos_oppen, sos_sluten, out)\n",
    "stroke_outcome_combined_series = [s1718_util.combine_cols_any(out, [f\"outcome-{days}d-I{i}\" for i in range(60,70)], f\"outcome-{days}d-any-I60-I69\") for days in OUTCOME_DAYS_AFTER_INDEX]\n",
    "out = out.join([stroke_date_df])\n",
    "out = out.join(stroke_outcome_combined_series)\n",
    "FNAME = \"yrsel-2022-04-21.csv\"\n",
    "FNAME_DROPPED = FNAME[:-4] + \".dropped_dates.csv\"\n",
    "out.to_csv(FNAME)\n",
    "out.drop(OUT_DROP_COLUMNS, axis=1).to_csv(FNAME_DROPPED)\n",
    "\n",
    "t1 = time.time()\n",
    "print(f\"Time: {t1-t0=}\")\n",
    "print(f\"Shape: {out.shape}\")"
   ]
  },
  {
   "cell_type": "code",
   "execution_count": 287,
   "id": "66357f70",
   "metadata": {},
   "outputs": [
    {
     "name": "stderr",
     "output_type": "stream",
     "text": [
      "13624it [00:47, 287.67it/s]\n"
     ]
    }
   ],
   "source": [
    "importlib.reload(s1718_util)\n",
    "import mim.extractors.skane_1718_extract_util as s1718_util\n",
    "\n",
    "charlson_df = s1718_util.compute_charlson_melior_5y(melior_diagnoser_5ar_fore, yrsel_liggare.reset_index())"
   ]
  },
  {
   "cell_type": "code",
   "execution_count": 288,
   "id": "81d2731d",
   "metadata": {},
   "outputs": [
    {
     "name": "stderr",
     "output_type": "stream",
     "text": [
      "13624it [00:48, 281.76it/s]\n"
     ]
    }
   ],
   "source": [
    "importlib.reload(s1718_util)\n",
    "import mim.extractors.skane_1718_extract_util as s1718_util\n",
    "\n",
    "charlson_df = s1718_util.compute_charlson_melior_5y(melior_diagnoser_5ar_fore, yrsel_liggare.reset_index())"
   ]
  },
  {
   "cell_type": "code",
   "execution_count": 305,
   "id": "69af5a21",
   "metadata": {},
   "outputs": [
    {
     "data": {
      "text/plain": [
       "med-1825d-C03     1396\n",
       "med-1825d-C07     1654\n",
       "med-1825d-C08     1233\n",
       "med-1825d-C09     1919\n",
       "med-1825d-N02A    2050\n",
       "med-1825d-N02     3028\n",
       "med-1825d-N05     2100\n",
       "med-1825d-N06     1483\n",
       "med-1825d-M01     2129\n",
       "med-1825d-N03      456\n",
       "dtype: int64"
      ]
     },
     "execution_count": 305,
     "metadata": {},
     "output_type": "execute_result"
    }
   ],
   "source": [
    "out.filter(regex=\"med-1825d.*\").sum()"
   ]
  },
  {
   "cell_type": "code",
   "execution_count": 313,
   "id": "e0415047",
   "metadata": {},
   "outputs": [],
   "source": [
    "out[\"X\"] = out.apply(lambda row: 1 if not row[\"med-180d-C03\"] and row[\"med-1825d-C03\"] else 0, axis=1)"
   ]
  },
  {
   "cell_type": "code",
   "execution_count": 315,
   "id": "e057d81e",
   "metadata": {},
   "outputs": [
    {
     "data": {
      "text/plain": [
       "528"
      ]
     },
     "execution_count": 315,
     "metadata": {},
     "output_type": "execute_result"
    }
   ],
   "source": [
    "out[\"X\"].sum()"
   ]
  },
  {
   "cell_type": "code",
   "execution_count": null,
   "id": "1906eb26",
   "metadata": {},
   "outputs": [],
   "source": []
  },
  {
   "cell_type": "code",
   "execution_count": 318,
   "id": "1962d06d",
   "metadata": {},
   "outputs": [
    {
     "name": "stdout",
     "output_type": "stream",
     "text": [
      "[2264 2967 2072 3495 2720 4570 3348 2422 2670  711]\n",
      "[ 528  341  394  343 1380 1486  852  544 1588  201]\n"
     ]
    },
    {
     "data": {
      "text/plain": [
       "array([[0, 0, 0, ..., 0, 1, 0],\n",
       "       [0, 0, 0, ..., 0, 0, 0],\n",
       "       [0, 0, 0, ..., 0, 0, 0],\n",
       "       ...,\n",
       "       [0, 0, 0, ..., 0, 0, 0],\n",
       "       [0, 0, 0, ..., 0, 0, 0],\n",
       "       [0, 0, 0, ..., 0, 0, 0]])"
      ]
     },
     "execution_count": 318,
     "metadata": {},
     "output_type": "execute_result"
    }
   ],
   "source": [
    "m = out.filter(regex=\"med-180d.*\").values + out.filter(regex=\"med-1825d.*\").values\n",
    "print(sum(m))\n",
    "m[m==2] = 0\n",
    "print(sum(m))\n",
    "m"
   ]
  },
  {
   "cell_type": "code",
   "execution_count": 297,
   "id": "899c9dc6",
   "metadata": {},
   "outputs": [
    {
     "name": "stdout",
     "output_type": "stream",
     "text": [
      "115358\n",
      "7657\n",
      "0\n"
     ]
    },
    {
     "data": {
      "text/plain": [
       "array([[0, 0, 0, ..., 0, 0, 0],\n",
       "       [0, 0, 0, ..., 0, 0, 0],\n",
       "       [0, 0, 0, ..., 0, 0, 0],\n",
       "       ...,\n",
       "       [0, 0, 0, ..., 0, 0, 0],\n",
       "       [0, 0, 0, ..., 0, 0, 0],\n",
       "       [0, 0, 0, ..., 0, 0, 0]])"
      ]
     },
     "execution_count": 297,
     "metadata": {},
     "output_type": "execute_result"
    }
   ],
   "source": [
    "m = out.filter(regex=\"med-180d.*\").values * 10 + out.filter(regex=\"med-1825d.*\").values\n",
    "print(m.sum())\n",
    "m[m==11] = 0\n",
    "print(m.sum())\n",
    "m[m==1] = 0\n",
    "print(m.sum())\n",
    "\n",
    "m"
   ]
  },
  {
   "cell_type": "code",
   "execution_count": 280,
   "id": "0468cb42",
   "metadata": {},
   "outputs": [
    {
     "data": {
      "text/html": [
       "<div>\n",
       "<style scoped>\n",
       "    .dataframe tbody tr th:only-of-type {\n",
       "        vertical-align: middle;\n",
       "    }\n",
       "\n",
       "    .dataframe tbody tr th {\n",
       "        vertical-align: top;\n",
       "    }\n",
       "\n",
       "    .dataframe thead th {\n",
       "        text-align: right;\n",
       "    }\n",
       "</style>\n",
       "<table border=\"1\" class=\"dataframe\">\n",
       "  <thead>\n",
       "    <tr style=\"text-align: right;\">\n",
       "      <th></th>\n",
       "      <th>outcome-30d-H80-H83-OV</th>\n",
       "      <th>outcome-30d-I440-OV</th>\n",
       "      <th>outcome-30d-I441A-OV</th>\n",
       "      <th>outcome-30d-I441B-OV</th>\n",
       "      <th>outcome-30d-I442-OV</th>\n",
       "      <th>outcome-30d-I443-OV</th>\n",
       "      <th>outcome-30d-I456-OV</th>\n",
       "      <th>outcome-30d-I456A-OV</th>\n",
       "      <th>outcome-30d-I460-OV</th>\n",
       "      <th>outcome-30d-I461-OV</th>\n",
       "      <th>...</th>\n",
       "      <th>outcome-365d-I60-OV</th>\n",
       "      <th>outcome-365d-I61-OV</th>\n",
       "      <th>outcome-365d-I62-OV</th>\n",
       "      <th>outcome-365d-I63-OV</th>\n",
       "      <th>outcome-365d-I64-OV</th>\n",
       "      <th>outcome-365d-I65-OV</th>\n",
       "      <th>outcome-365d-I66-OV</th>\n",
       "      <th>outcome-365d-I67-OV</th>\n",
       "      <th>outcome-365d-I68-OV</th>\n",
       "      <th>outcome-365d-I69-OV</th>\n",
       "    </tr>\n",
       "    <tr>\n",
       "      <th>Alias</th>\n",
       "      <th></th>\n",
       "      <th></th>\n",
       "      <th></th>\n",
       "      <th></th>\n",
       "      <th></th>\n",
       "      <th></th>\n",
       "      <th></th>\n",
       "      <th></th>\n",
       "      <th></th>\n",
       "      <th></th>\n",
       "      <th></th>\n",
       "      <th></th>\n",
       "      <th></th>\n",
       "      <th></th>\n",
       "      <th></th>\n",
       "      <th></th>\n",
       "      <th></th>\n",
       "      <th></th>\n",
       "      <th></th>\n",
       "      <th></th>\n",
       "      <th></th>\n",
       "    </tr>\n",
       "  </thead>\n",
       "  <tbody>\n",
       "    <tr>\n",
       "      <th>10225654</th>\n",
       "      <td>0</td>\n",
       "      <td>0</td>\n",
       "      <td>0</td>\n",
       "      <td>0</td>\n",
       "      <td>0</td>\n",
       "      <td>0</td>\n",
       "      <td>0</td>\n",
       "      <td>0</td>\n",
       "      <td>0</td>\n",
       "      <td>0</td>\n",
       "      <td>...</td>\n",
       "      <td>0</td>\n",
       "      <td>0</td>\n",
       "      <td>0</td>\n",
       "      <td>0</td>\n",
       "      <td>0</td>\n",
       "      <td>0</td>\n",
       "      <td>0</td>\n",
       "      <td>0</td>\n",
       "      <td>0</td>\n",
       "      <td>0</td>\n",
       "    </tr>\n",
       "    <tr>\n",
       "      <th>10170762</th>\n",
       "      <td>0</td>\n",
       "      <td>0</td>\n",
       "      <td>0</td>\n",
       "      <td>0</td>\n",
       "      <td>0</td>\n",
       "      <td>0</td>\n",
       "      <td>0</td>\n",
       "      <td>0</td>\n",
       "      <td>0</td>\n",
       "      <td>0</td>\n",
       "      <td>...</td>\n",
       "      <td>0</td>\n",
       "      <td>0</td>\n",
       "      <td>0</td>\n",
       "      <td>0</td>\n",
       "      <td>0</td>\n",
       "      <td>0</td>\n",
       "      <td>0</td>\n",
       "      <td>0</td>\n",
       "      <td>0</td>\n",
       "      <td>0</td>\n",
       "    </tr>\n",
       "    <tr>\n",
       "      <th>10165859</th>\n",
       "      <td>0</td>\n",
       "      <td>0</td>\n",
       "      <td>0</td>\n",
       "      <td>0</td>\n",
       "      <td>0</td>\n",
       "      <td>0</td>\n",
       "      <td>0</td>\n",
       "      <td>0</td>\n",
       "      <td>0</td>\n",
       "      <td>0</td>\n",
       "      <td>...</td>\n",
       "      <td>0</td>\n",
       "      <td>0</td>\n",
       "      <td>0</td>\n",
       "      <td>0</td>\n",
       "      <td>0</td>\n",
       "      <td>0</td>\n",
       "      <td>0</td>\n",
       "      <td>0</td>\n",
       "      <td>0</td>\n",
       "      <td>0</td>\n",
       "    </tr>\n",
       "    <tr>\n",
       "      <th>10284405</th>\n",
       "      <td>0</td>\n",
       "      <td>0</td>\n",
       "      <td>0</td>\n",
       "      <td>0</td>\n",
       "      <td>0</td>\n",
       "      <td>0</td>\n",
       "      <td>0</td>\n",
       "      <td>0</td>\n",
       "      <td>0</td>\n",
       "      <td>0</td>\n",
       "      <td>...</td>\n",
       "      <td>0</td>\n",
       "      <td>0</td>\n",
       "      <td>0</td>\n",
       "      <td>0</td>\n",
       "      <td>0</td>\n",
       "      <td>0</td>\n",
       "      <td>0</td>\n",
       "      <td>0</td>\n",
       "      <td>0</td>\n",
       "      <td>0</td>\n",
       "    </tr>\n",
       "    <tr>\n",
       "      <th>10055648</th>\n",
       "      <td>0</td>\n",
       "      <td>0</td>\n",
       "      <td>0</td>\n",
       "      <td>0</td>\n",
       "      <td>0</td>\n",
       "      <td>0</td>\n",
       "      <td>0</td>\n",
       "      <td>0</td>\n",
       "      <td>0</td>\n",
       "      <td>0</td>\n",
       "      <td>...</td>\n",
       "      <td>0</td>\n",
       "      <td>0</td>\n",
       "      <td>0</td>\n",
       "      <td>0</td>\n",
       "      <td>0</td>\n",
       "      <td>0</td>\n",
       "      <td>0</td>\n",
       "      <td>0</td>\n",
       "      <td>0</td>\n",
       "      <td>0</td>\n",
       "    </tr>\n",
       "    <tr>\n",
       "      <th>...</th>\n",
       "      <td>...</td>\n",
       "      <td>...</td>\n",
       "      <td>...</td>\n",
       "      <td>...</td>\n",
       "      <td>...</td>\n",
       "      <td>...</td>\n",
       "      <td>...</td>\n",
       "      <td>...</td>\n",
       "      <td>...</td>\n",
       "      <td>...</td>\n",
       "      <td>...</td>\n",
       "      <td>...</td>\n",
       "      <td>...</td>\n",
       "      <td>...</td>\n",
       "      <td>...</td>\n",
       "      <td>...</td>\n",
       "      <td>...</td>\n",
       "      <td>...</td>\n",
       "      <td>...</td>\n",
       "      <td>...</td>\n",
       "      <td>...</td>\n",
       "    </tr>\n",
       "    <tr>\n",
       "      <th>10048349</th>\n",
       "      <td>0</td>\n",
       "      <td>0</td>\n",
       "      <td>0</td>\n",
       "      <td>0</td>\n",
       "      <td>0</td>\n",
       "      <td>0</td>\n",
       "      <td>0</td>\n",
       "      <td>0</td>\n",
       "      <td>0</td>\n",
       "      <td>0</td>\n",
       "      <td>...</td>\n",
       "      <td>0</td>\n",
       "      <td>0</td>\n",
       "      <td>0</td>\n",
       "      <td>0</td>\n",
       "      <td>0</td>\n",
       "      <td>0</td>\n",
       "      <td>0</td>\n",
       "      <td>0</td>\n",
       "      <td>0</td>\n",
       "      <td>0</td>\n",
       "    </tr>\n",
       "    <tr>\n",
       "      <th>10112154</th>\n",
       "      <td>0</td>\n",
       "      <td>0</td>\n",
       "      <td>0</td>\n",
       "      <td>0</td>\n",
       "      <td>0</td>\n",
       "      <td>0</td>\n",
       "      <td>0</td>\n",
       "      <td>0</td>\n",
       "      <td>0</td>\n",
       "      <td>0</td>\n",
       "      <td>...</td>\n",
       "      <td>0</td>\n",
       "      <td>0</td>\n",
       "      <td>0</td>\n",
       "      <td>0</td>\n",
       "      <td>0</td>\n",
       "      <td>0</td>\n",
       "      <td>0</td>\n",
       "      <td>0</td>\n",
       "      <td>0</td>\n",
       "      <td>1</td>\n",
       "    </tr>\n",
       "    <tr>\n",
       "      <th>10060530</th>\n",
       "      <td>1</td>\n",
       "      <td>0</td>\n",
       "      <td>0</td>\n",
       "      <td>0</td>\n",
       "      <td>0</td>\n",
       "      <td>0</td>\n",
       "      <td>0</td>\n",
       "      <td>0</td>\n",
       "      <td>0</td>\n",
       "      <td>0</td>\n",
       "      <td>...</td>\n",
       "      <td>0</td>\n",
       "      <td>0</td>\n",
       "      <td>0</td>\n",
       "      <td>0</td>\n",
       "      <td>0</td>\n",
       "      <td>0</td>\n",
       "      <td>0</td>\n",
       "      <td>0</td>\n",
       "      <td>0</td>\n",
       "      <td>0</td>\n",
       "    </tr>\n",
       "    <tr>\n",
       "      <th>10098094</th>\n",
       "      <td>0</td>\n",
       "      <td>0</td>\n",
       "      <td>0</td>\n",
       "      <td>0</td>\n",
       "      <td>0</td>\n",
       "      <td>0</td>\n",
       "      <td>0</td>\n",
       "      <td>0</td>\n",
       "      <td>0</td>\n",
       "      <td>0</td>\n",
       "      <td>...</td>\n",
       "      <td>0</td>\n",
       "      <td>0</td>\n",
       "      <td>0</td>\n",
       "      <td>0</td>\n",
       "      <td>0</td>\n",
       "      <td>0</td>\n",
       "      <td>0</td>\n",
       "      <td>0</td>\n",
       "      <td>0</td>\n",
       "      <td>0</td>\n",
       "    </tr>\n",
       "    <tr>\n",
       "      <th>10314564</th>\n",
       "      <td>0</td>\n",
       "      <td>0</td>\n",
       "      <td>0</td>\n",
       "      <td>0</td>\n",
       "      <td>0</td>\n",
       "      <td>0</td>\n",
       "      <td>0</td>\n",
       "      <td>0</td>\n",
       "      <td>0</td>\n",
       "      <td>0</td>\n",
       "      <td>...</td>\n",
       "      <td>0</td>\n",
       "      <td>0</td>\n",
       "      <td>0</td>\n",
       "      <td>0</td>\n",
       "      <td>0</td>\n",
       "      <td>0</td>\n",
       "      <td>0</td>\n",
       "      <td>0</td>\n",
       "      <td>0</td>\n",
       "      <td>0</td>\n",
       "    </tr>\n",
       "  </tbody>\n",
       "</table>\n",
       "<p>500 rows × 96 columns</p>\n",
       "</div>"
      ],
      "text/plain": [
       "          outcome-30d-H80-H83-OV  outcome-30d-I440-OV  outcome-30d-I441A-OV  \\\n",
       "Alias                                                                         \n",
       "10225654                       0                    0                     0   \n",
       "10170762                       0                    0                     0   \n",
       "10165859                       0                    0                     0   \n",
       "10284405                       0                    0                     0   \n",
       "10055648                       0                    0                     0   \n",
       "...                          ...                  ...                   ...   \n",
       "10048349                       0                    0                     0   \n",
       "10112154                       0                    0                     0   \n",
       "10060530                       1                    0                     0   \n",
       "10098094                       0                    0                     0   \n",
       "10314564                       0                    0                     0   \n",
       "\n",
       "          outcome-30d-I441B-OV  outcome-30d-I442-OV  outcome-30d-I443-OV  \\\n",
       "Alias                                                                      \n",
       "10225654                     0                    0                    0   \n",
       "10170762                     0                    0                    0   \n",
       "10165859                     0                    0                    0   \n",
       "10284405                     0                    0                    0   \n",
       "10055648                     0                    0                    0   \n",
       "...                        ...                  ...                  ...   \n",
       "10048349                     0                    0                    0   \n",
       "10112154                     0                    0                    0   \n",
       "10060530                     0                    0                    0   \n",
       "10098094                     0                    0                    0   \n",
       "10314564                     0                    0                    0   \n",
       "\n",
       "          outcome-30d-I456-OV  outcome-30d-I456A-OV  outcome-30d-I460-OV  \\\n",
       "Alias                                                                      \n",
       "10225654                    0                     0                    0   \n",
       "10170762                    0                     0                    0   \n",
       "10165859                    0                     0                    0   \n",
       "10284405                    0                     0                    0   \n",
       "10055648                    0                     0                    0   \n",
       "...                       ...                   ...                  ...   \n",
       "10048349                    0                     0                    0   \n",
       "10112154                    0                     0                    0   \n",
       "10060530                    0                     0                    0   \n",
       "10098094                    0                     0                    0   \n",
       "10314564                    0                     0                    0   \n",
       "\n",
       "          outcome-30d-I461-OV  ...  outcome-365d-I60-OV  outcome-365d-I61-OV  \\\n",
       "Alias                          ...                                             \n",
       "10225654                    0  ...                    0                    0   \n",
       "10170762                    0  ...                    0                    0   \n",
       "10165859                    0  ...                    0                    0   \n",
       "10284405                    0  ...                    0                    0   \n",
       "10055648                    0  ...                    0                    0   \n",
       "...                       ...  ...                  ...                  ...   \n",
       "10048349                    0  ...                    0                    0   \n",
       "10112154                    0  ...                    0                    0   \n",
       "10060530                    0  ...                    0                    0   \n",
       "10098094                    0  ...                    0                    0   \n",
       "10314564                    0  ...                    0                    0   \n",
       "\n",
       "          outcome-365d-I62-OV  outcome-365d-I63-OV  outcome-365d-I64-OV  \\\n",
       "Alias                                                                     \n",
       "10225654                    0                    0                    0   \n",
       "10170762                    0                    0                    0   \n",
       "10165859                    0                    0                    0   \n",
       "10284405                    0                    0                    0   \n",
       "10055648                    0                    0                    0   \n",
       "...                       ...                  ...                  ...   \n",
       "10048349                    0                    0                    0   \n",
       "10112154                    0                    0                    0   \n",
       "10060530                    0                    0                    0   \n",
       "10098094                    0                    0                    0   \n",
       "10314564                    0                    0                    0   \n",
       "\n",
       "          outcome-365d-I65-OV  outcome-365d-I66-OV  outcome-365d-I67-OV  \\\n",
       "Alias                                                                     \n",
       "10225654                    0                    0                    0   \n",
       "10170762                    0                    0                    0   \n",
       "10165859                    0                    0                    0   \n",
       "10284405                    0                    0                    0   \n",
       "10055648                    0                    0                    0   \n",
       "...                       ...                  ...                  ...   \n",
       "10048349                    0                    0                    0   \n",
       "10112154                    0                    0                    0   \n",
       "10060530                    0                    0                    0   \n",
       "10098094                    0                    0                    0   \n",
       "10314564                    0                    0                    0   \n",
       "\n",
       "          outcome-365d-I68-OV  outcome-365d-I69-OV  \n",
       "Alias                                               \n",
       "10225654                    0                    0  \n",
       "10170762                    0                    0  \n",
       "10165859                    0                    0  \n",
       "10284405                    0                    0  \n",
       "10055648                    0                    0  \n",
       "...                       ...                  ...  \n",
       "10048349                    0                    0  \n",
       "10112154                    0                    1  \n",
       "10060530                    0                    0  \n",
       "10098094                    0                    0  \n",
       "10314564                    0                    0  \n",
       "\n",
       "[500 rows x 96 columns]"
      ]
     },
     "execution_count": 280,
     "metadata": {},
     "output_type": "execute_result"
    }
   ],
   "source": [
    "icd_outcomes_ov"
   ]
  },
  {
   "cell_type": "code",
   "execution_count": 251,
   "id": "b37ca2c9",
   "metadata": {},
   "outputs": [
    {
     "data": {
      "text/html": [
       "<div>\n",
       "<style scoped>\n",
       "    .dataframe tbody tr th:only-of-type {\n",
       "        vertical-align: middle;\n",
       "    }\n",
       "\n",
       "    .dataframe tbody tr th {\n",
       "        vertical-align: top;\n",
       "    }\n",
       "\n",
       "    .dataframe thead th {\n",
       "        text-align: right;\n",
       "    }\n",
       "</style>\n",
       "<table border=\"1\" class=\"dataframe\">\n",
       "  <thead>\n",
       "    <tr style=\"text-align: right;\">\n",
       "      <th></th>\n",
       "      <th>KontaktId</th>\n",
       "      <th>AktuellSjukhusId</th>\n",
       "      <th>Sjukhus_Namn</th>\n",
       "      <th>BesokOrsakId</th>\n",
       "      <th>BesokOrsak_Kod</th>\n",
       "      <th>BesokOrsak_Beskrivning</th>\n",
       "      <th>Vardkontakt_InskrivningDatum</th>\n",
       "      <th>Vardkontakt_UtskrivningDatum</th>\n",
       "      <th>Vardkontakt_PatientAlderVidInskrivning</th>\n",
       "      <th>Patient_Kon</th>\n",
       "      <th>...</th>\n",
       "      <th>outcome-365d-I60-OV</th>\n",
       "      <th>outcome-365d-I61-OV</th>\n",
       "      <th>outcome-365d-I62-OV</th>\n",
       "      <th>outcome-365d-I63-OV</th>\n",
       "      <th>outcome-365d-I64-OV</th>\n",
       "      <th>outcome-365d-I65-OV</th>\n",
       "      <th>outcome-365d-I66-OV</th>\n",
       "      <th>outcome-365d-I67-OV</th>\n",
       "      <th>outcome-365d-I68-OV</th>\n",
       "      <th>outcome-365d-I69-OV</th>\n",
       "    </tr>\n",
       "    <tr>\n",
       "      <th>Alias</th>\n",
       "      <th></th>\n",
       "      <th></th>\n",
       "      <th></th>\n",
       "      <th></th>\n",
       "      <th></th>\n",
       "      <th></th>\n",
       "      <th></th>\n",
       "      <th></th>\n",
       "      <th></th>\n",
       "      <th></th>\n",
       "      <th></th>\n",
       "      <th></th>\n",
       "      <th></th>\n",
       "      <th></th>\n",
       "      <th></th>\n",
       "      <th></th>\n",
       "      <th></th>\n",
       "      <th></th>\n",
       "      <th></th>\n",
       "      <th></th>\n",
       "      <th></th>\n",
       "    </tr>\n",
       "  </thead>\n",
       "  <tbody>\n",
       "    <tr>\n",
       "      <th>10225654</th>\n",
       "      <td>K1000262</td>\n",
       "      <td>O10001</td>\n",
       "      <td>SUS Lund</td>\n",
       "      <td>382.0</td>\n",
       "      <td>Yrsel</td>\n",
       "      <td>Yrsel och svindel RETTS-A 11, Yrsel och balans...</td>\n",
       "      <td>2017-01-01 10:58:00</td>\n",
       "      <td>2017-01-01 19:01:00</td>\n",
       "      <td>56</td>\n",
       "      <td>F</td>\n",
       "      <td>...</td>\n",
       "      <td>0</td>\n",
       "      <td>0</td>\n",
       "      <td>0</td>\n",
       "      <td>0</td>\n",
       "      <td>0</td>\n",
       "      <td>0</td>\n",
       "      <td>0</td>\n",
       "      <td>0</td>\n",
       "      <td>0</td>\n",
       "      <td>0</td>\n",
       "    </tr>\n",
       "    <tr>\n",
       "      <th>10170762</th>\n",
       "      <td>K1000350</td>\n",
       "      <td>SE162321000255-O16571</td>\n",
       "      <td>Ystads lasarett</td>\n",
       "      <td>382.0</td>\n",
       "      <td>Yrsel</td>\n",
       "      <td>Yrsel och svindel RETTS-A 11, Yrsel och balans...</td>\n",
       "      <td>2017-01-01 12:50:00</td>\n",
       "      <td>2017-01-01 18:34:00</td>\n",
       "      <td>79</td>\n",
       "      <td>M</td>\n",
       "      <td>...</td>\n",
       "      <td>0</td>\n",
       "      <td>0</td>\n",
       "      <td>0</td>\n",
       "      <td>0</td>\n",
       "      <td>0</td>\n",
       "      <td>0</td>\n",
       "      <td>0</td>\n",
       "      <td>0</td>\n",
       "      <td>0</td>\n",
       "      <td>0</td>\n",
       "    </tr>\n",
       "    <tr>\n",
       "      <th>10165859</th>\n",
       "      <td>K1000445</td>\n",
       "      <td>SE162321000255-O11016</td>\n",
       "      <td>Lasarettet Trelleborg</td>\n",
       "      <td>382.0</td>\n",
       "      <td>Yrsel</td>\n",
       "      <td>Yrsel och svindel RETTS-A 11, Yrsel och balans...</td>\n",
       "      <td>2017-01-01 14:36:00</td>\n",
       "      <td>2017-01-01 17:27:00</td>\n",
       "      <td>87</td>\n",
       "      <td>F</td>\n",
       "      <td>...</td>\n",
       "      <td>0</td>\n",
       "      <td>0</td>\n",
       "      <td>0</td>\n",
       "      <td>0</td>\n",
       "      <td>0</td>\n",
       "      <td>0</td>\n",
       "      <td>0</td>\n",
       "      <td>0</td>\n",
       "      <td>0</td>\n",
       "      <td>0</td>\n",
       "    </tr>\n",
       "    <tr>\n",
       "      <th>10284405</th>\n",
       "      <td>K1000450</td>\n",
       "      <td>O10001</td>\n",
       "      <td>SUS Lund</td>\n",
       "      <td>382.0</td>\n",
       "      <td>Yrsel</td>\n",
       "      <td>Yrsel och svindel RETTS-A 11, Yrsel och balans...</td>\n",
       "      <td>2017-01-01 14:44:00</td>\n",
       "      <td>2017-01-02 02:24:00</td>\n",
       "      <td>80</td>\n",
       "      <td>F</td>\n",
       "      <td>...</td>\n",
       "      <td>0</td>\n",
       "      <td>0</td>\n",
       "      <td>0</td>\n",
       "      <td>0</td>\n",
       "      <td>0</td>\n",
       "      <td>0</td>\n",
       "      <td>0</td>\n",
       "      <td>0</td>\n",
       "      <td>0</td>\n",
       "      <td>0</td>\n",
       "    </tr>\n",
       "    <tr>\n",
       "      <th>10055648</th>\n",
       "      <td>K1000478</td>\n",
       "      <td>SE162321000255-O12014</td>\n",
       "      <td>Helsingborgs lasarett</td>\n",
       "      <td>382.0</td>\n",
       "      <td>Yrsel</td>\n",
       "      <td>Yrsel och svindel RETTS-A 11, Yrsel och balans...</td>\n",
       "      <td>2017-01-01 15:07:00</td>\n",
       "      <td>2017-01-01 15:46:00</td>\n",
       "      <td>43</td>\n",
       "      <td>M</td>\n",
       "      <td>...</td>\n",
       "      <td>0</td>\n",
       "      <td>0</td>\n",
       "      <td>0</td>\n",
       "      <td>0</td>\n",
       "      <td>0</td>\n",
       "      <td>0</td>\n",
       "      <td>0</td>\n",
       "      <td>0</td>\n",
       "      <td>0</td>\n",
       "      <td>0</td>\n",
       "    </tr>\n",
       "    <tr>\n",
       "      <th>...</th>\n",
       "      <td>...</td>\n",
       "      <td>...</td>\n",
       "      <td>...</td>\n",
       "      <td>...</td>\n",
       "      <td>...</td>\n",
       "      <td>...</td>\n",
       "      <td>...</td>\n",
       "      <td>...</td>\n",
       "      <td>...</td>\n",
       "      <td>...</td>\n",
       "      <td>...</td>\n",
       "      <td>...</td>\n",
       "      <td>...</td>\n",
       "      <td>...</td>\n",
       "      <td>...</td>\n",
       "      <td>...</td>\n",
       "      <td>...</td>\n",
       "      <td>...</td>\n",
       "      <td>...</td>\n",
       "      <td>...</td>\n",
       "      <td>...</td>\n",
       "    </tr>\n",
       "    <tr>\n",
       "      <th>10313317</th>\n",
       "      <td>K1632519</td>\n",
       "      <td>SE162321000255-O10532</td>\n",
       "      <td>Centralsjukhuset Kristianstad</td>\n",
       "      <td>382.0</td>\n",
       "      <td>Yrsel</td>\n",
       "      <td>Yrsel och svindel RETTS-A 11, Yrsel och balans...</td>\n",
       "      <td>2018-12-30 16:51:00</td>\n",
       "      <td>2018-12-30 18:54:00</td>\n",
       "      <td>76</td>\n",
       "      <td>M</td>\n",
       "      <td>...</td>\n",
       "      <td>0</td>\n",
       "      <td>0</td>\n",
       "      <td>0</td>\n",
       "      <td>1</td>\n",
       "      <td>0</td>\n",
       "      <td>0</td>\n",
       "      <td>0</td>\n",
       "      <td>0</td>\n",
       "      <td>0</td>\n",
       "      <td>0</td>\n",
       "    </tr>\n",
       "    <tr>\n",
       "      <th>10119414</th>\n",
       "      <td>K1632525</td>\n",
       "      <td>O11249</td>\n",
       "      <td>Hässleholms sjukhus</td>\n",
       "      <td>382.0</td>\n",
       "      <td>Yrsel</td>\n",
       "      <td>Yrsel och svindel RETTS-A 11, Yrsel och balans...</td>\n",
       "      <td>2018-12-30 16:55:00</td>\n",
       "      <td>2018-12-30 19:03:00</td>\n",
       "      <td>91</td>\n",
       "      <td>M</td>\n",
       "      <td>...</td>\n",
       "      <td>0</td>\n",
       "      <td>0</td>\n",
       "      <td>0</td>\n",
       "      <td>0</td>\n",
       "      <td>0</td>\n",
       "      <td>0</td>\n",
       "      <td>0</td>\n",
       "      <td>0</td>\n",
       "      <td>0</td>\n",
       "      <td>0</td>\n",
       "    </tr>\n",
       "    <tr>\n",
       "      <th>10306701</th>\n",
       "      <td>K1632599</td>\n",
       "      <td>SE162321000255-O12014</td>\n",
       "      <td>Helsingborgs lasarett</td>\n",
       "      <td>382.0</td>\n",
       "      <td>Yrsel</td>\n",
       "      <td>Yrsel och svindel RETTS-A 11, Yrsel och balans...</td>\n",
       "      <td>2018-12-30 18:35:00</td>\n",
       "      <td>2018-12-30 23:08:00</td>\n",
       "      <td>61</td>\n",
       "      <td>M</td>\n",
       "      <td>...</td>\n",
       "      <td>0</td>\n",
       "      <td>0</td>\n",
       "      <td>0</td>\n",
       "      <td>0</td>\n",
       "      <td>0</td>\n",
       "      <td>0</td>\n",
       "      <td>0</td>\n",
       "      <td>0</td>\n",
       "      <td>0</td>\n",
       "      <td>0</td>\n",
       "    </tr>\n",
       "    <tr>\n",
       "      <th>10204590</th>\n",
       "      <td>K1632671</td>\n",
       "      <td>SE162321000255-O11414</td>\n",
       "      <td>SUS Malmö</td>\n",
       "      <td>382.0</td>\n",
       "      <td>Yrsel</td>\n",
       "      <td>Yrsel och svindel RETTS-A 11, Yrsel och balans...</td>\n",
       "      <td>2018-12-30 20:14:00</td>\n",
       "      <td>2018-12-31 10:30:00</td>\n",
       "      <td>71</td>\n",
       "      <td>F</td>\n",
       "      <td>...</td>\n",
       "      <td>0</td>\n",
       "      <td>0</td>\n",
       "      <td>0</td>\n",
       "      <td>0</td>\n",
       "      <td>0</td>\n",
       "      <td>0</td>\n",
       "      <td>0</td>\n",
       "      <td>0</td>\n",
       "      <td>0</td>\n",
       "      <td>0</td>\n",
       "    </tr>\n",
       "    <tr>\n",
       "      <th>10195636</th>\n",
       "      <td>K1632698</td>\n",
       "      <td>O10001</td>\n",
       "      <td>SUS Lund</td>\n",
       "      <td>382.0</td>\n",
       "      <td>Yrsel</td>\n",
       "      <td>Yrsel och svindel RETTS-A 11, Yrsel och balans...</td>\n",
       "      <td>2018-12-30 21:17:00</td>\n",
       "      <td>2018-12-31 04:26:00</td>\n",
       "      <td>70</td>\n",
       "      <td>M</td>\n",
       "      <td>...</td>\n",
       "      <td>0</td>\n",
       "      <td>0</td>\n",
       "      <td>0</td>\n",
       "      <td>0</td>\n",
       "      <td>0</td>\n",
       "      <td>0</td>\n",
       "      <td>0</td>\n",
       "      <td>0</td>\n",
       "      <td>0</td>\n",
       "      <td>0</td>\n",
       "    </tr>\n",
       "  </tbody>\n",
       "</table>\n",
       "<p>13624 rows × 755 columns</p>\n",
       "</div>"
      ],
      "text/plain": [
       "         KontaktId       AktuellSjukhusId                   Sjukhus_Namn  \\\n",
       "Alias                                                                      \n",
       "10225654  K1000262                 O10001                       SUS Lund   \n",
       "10170762  K1000350  SE162321000255-O16571                Ystads lasarett   \n",
       "10165859  K1000445  SE162321000255-O11016          Lasarettet Trelleborg   \n",
       "10284405  K1000450                 O10001                       SUS Lund   \n",
       "10055648  K1000478  SE162321000255-O12014          Helsingborgs lasarett   \n",
       "...            ...                    ...                            ...   \n",
       "10313317  K1632519  SE162321000255-O10532  Centralsjukhuset Kristianstad   \n",
       "10119414  K1632525                 O11249            Hässleholms sjukhus   \n",
       "10306701  K1632599  SE162321000255-O12014          Helsingborgs lasarett   \n",
       "10204590  K1632671  SE162321000255-O11414                      SUS Malmö   \n",
       "10195636  K1632698                 O10001                       SUS Lund   \n",
       "\n",
       "          BesokOrsakId BesokOrsak_Kod  \\\n",
       "Alias                                   \n",
       "10225654         382.0          Yrsel   \n",
       "10170762         382.0          Yrsel   \n",
       "10165859         382.0          Yrsel   \n",
       "10284405         382.0          Yrsel   \n",
       "10055648         382.0          Yrsel   \n",
       "...                ...            ...   \n",
       "10313317         382.0          Yrsel   \n",
       "10119414         382.0          Yrsel   \n",
       "10306701         382.0          Yrsel   \n",
       "10204590         382.0          Yrsel   \n",
       "10195636         382.0          Yrsel   \n",
       "\n",
       "                                     BesokOrsak_Beskrivning  \\\n",
       "Alias                                                         \n",
       "10225654  Yrsel och svindel RETTS-A 11, Yrsel och balans...   \n",
       "10170762  Yrsel och svindel RETTS-A 11, Yrsel och balans...   \n",
       "10165859  Yrsel och svindel RETTS-A 11, Yrsel och balans...   \n",
       "10284405  Yrsel och svindel RETTS-A 11, Yrsel och balans...   \n",
       "10055648  Yrsel och svindel RETTS-A 11, Yrsel och balans...   \n",
       "...                                                     ...   \n",
       "10313317  Yrsel och svindel RETTS-A 11, Yrsel och balans...   \n",
       "10119414  Yrsel och svindel RETTS-A 11, Yrsel och balans...   \n",
       "10306701  Yrsel och svindel RETTS-A 11, Yrsel och balans...   \n",
       "10204590  Yrsel och svindel RETTS-A 11, Yrsel och balans...   \n",
       "10195636  Yrsel och svindel RETTS-A 11, Yrsel och balans...   \n",
       "\n",
       "         Vardkontakt_InskrivningDatum Vardkontakt_UtskrivningDatum  \\\n",
       "Alias                                                                \n",
       "10225654          2017-01-01 10:58:00          2017-01-01 19:01:00   \n",
       "10170762          2017-01-01 12:50:00          2017-01-01 18:34:00   \n",
       "10165859          2017-01-01 14:36:00          2017-01-01 17:27:00   \n",
       "10284405          2017-01-01 14:44:00          2017-01-02 02:24:00   \n",
       "10055648          2017-01-01 15:07:00          2017-01-01 15:46:00   \n",
       "...                               ...                          ...   \n",
       "10313317          2018-12-30 16:51:00          2018-12-30 18:54:00   \n",
       "10119414          2018-12-30 16:55:00          2018-12-30 19:03:00   \n",
       "10306701          2018-12-30 18:35:00          2018-12-30 23:08:00   \n",
       "10204590          2018-12-30 20:14:00          2018-12-31 10:30:00   \n",
       "10195636          2018-12-30 21:17:00          2018-12-31 04:26:00   \n",
       "\n",
       "          Vardkontakt_PatientAlderVidInskrivning Patient_Kon  ...  \\\n",
       "Alias                                                         ...   \n",
       "10225654                                      56           F  ...   \n",
       "10170762                                      79           M  ...   \n",
       "10165859                                      87           F  ...   \n",
       "10284405                                      80           F  ...   \n",
       "10055648                                      43           M  ...   \n",
       "...                                          ...         ...  ...   \n",
       "10313317                                      76           M  ...   \n",
       "10119414                                      91           M  ...   \n",
       "10306701                                      61           M  ...   \n",
       "10204590                                      71           F  ...   \n",
       "10195636                                      70           M  ...   \n",
       "\n",
       "         outcome-365d-I60-OV outcome-365d-I61-OV  outcome-365d-I62-OV  \\\n",
       "Alias                                                                   \n",
       "10225654                   0                   0                    0   \n",
       "10170762                   0                   0                    0   \n",
       "10165859                   0                   0                    0   \n",
       "10284405                   0                   0                    0   \n",
       "10055648                   0                   0                    0   \n",
       "...                      ...                 ...                  ...   \n",
       "10313317                   0                   0                    0   \n",
       "10119414                   0                   0                    0   \n",
       "10306701                   0                   0                    0   \n",
       "10204590                   0                   0                    0   \n",
       "10195636                   0                   0                    0   \n",
       "\n",
       "          outcome-365d-I63-OV outcome-365d-I64-OV  outcome-365d-I65-OV  \\\n",
       "Alias                                                                    \n",
       "10225654                    0                   0                    0   \n",
       "10170762                    0                   0                    0   \n",
       "10165859                    0                   0                    0   \n",
       "10284405                    0                   0                    0   \n",
       "10055648                    0                   0                    0   \n",
       "...                       ...                 ...                  ...   \n",
       "10313317                    1                   0                    0   \n",
       "10119414                    0                   0                    0   \n",
       "10306701                    0                   0                    0   \n",
       "10204590                    0                   0                    0   \n",
       "10195636                    0                   0                    0   \n",
       "\n",
       "          outcome-365d-I66-OV outcome-365d-I67-OV outcome-365d-I68-OV  \\\n",
       "Alias                                                                   \n",
       "10225654                    0                   0                   0   \n",
       "10170762                    0                   0                   0   \n",
       "10165859                    0                   0                   0   \n",
       "10284405                    0                   0                   0   \n",
       "10055648                    0                   0                   0   \n",
       "...                       ...                 ...                 ...   \n",
       "10313317                    0                   0                   0   \n",
       "10119414                    0                   0                   0   \n",
       "10306701                    0                   0                   0   \n",
       "10204590                    0                   0                   0   \n",
       "10195636                    0                   0                   0   \n",
       "\n",
       "          outcome-365d-I69-OV  \n",
       "Alias                          \n",
       "10225654                    0  \n",
       "10170762                    0  \n",
       "10165859                    0  \n",
       "10284405                    0  \n",
       "10055648                    0  \n",
       "...                       ...  \n",
       "10313317                    0  \n",
       "10119414                    0  \n",
       "10306701                    0  \n",
       "10204590                    0  \n",
       "10195636                    0  \n",
       "\n",
       "[13624 rows x 755 columns]"
      ]
     },
     "execution_count": 251,
     "metadata": {},
     "output_type": "execute_result"
    }
   ],
   "source": [
    "## TODO\n",
    "\n",
    "\n",
    "# Generation\n",
    "def first_stroke():\n",
    "    pass\n",
    "\n",
    "def scb_data():\n",
    "    pass\n",
    "\n",
    "def compute_charlson():\n",
    "    pass\n",
    "\n",
    "def find_kva_within_index_visit():\n",
    "    pass\n",
    "\n",
    "\n",
    "# Post-processing:\n",
    "\n",
    "def join_sos_sv_ov_icd(df):\n",
    "    pass\n",
    "\n",
    "def join_sos_sv_ov_kva(df):\n",
    "    pass\n",
    "\n",
    "def infer_new_medication(df):\n",
    "    pass\n",
    "\n",
    "def compute_index_hospital_stay_length(df):\n",
    "    pass\n",
    "\n",
    "def combine_w_s_diagnoses_melior(df):\n",
    "    pass\n",
    "\n",
    "out"
   ]
  },
  {
   "cell_type": "code",
   "execution_count": 157,
   "id": "e191642f",
   "metadata": {},
   "outputs": [],
   "source": [
    "###\n",
    "### TODO\n",
    "###\n",
    "### Kolla melior_diagnoser_vid_kontakt. \n",
    "### - Finns där en diagnos för varje kontakt (som inte avvikit/avlidit)?\n",
    "### - Finns där epikris för alla som lagts in?\n",
    "### - Finns där något systematiskt för de som skickats hem (som endast behandlas i öppenvården)?\n",
    "### \n",
    "### -> Kan man då på ett precist vis definiera slutdiagnoser vid ett besök på akuten?\n",
    "### <- Verkar som det finns kontakter som inte finns med i den melior-datan. Hur många är de?"
   ]
  },
  {
   "cell_type": "code",
   "execution_count": null,
   "id": "dbf8abeb",
   "metadata": {},
   "outputs": [],
   "source": [
    "def associate_sos_entry_liggare(liggar_df, sos_sv, sos_ov):\n",
    "    sv_df = sos_sv[sos_sv[\"Alias\"].isin(liggar_df[\"Alias\"])]\n",
    "    ov_df = sos_ov[sos_ov[\"Alias\"].isin(liggar_df[\"Alias\"])]\n",
    "    for _, (alias, index_date, till, inlagd) in tqdm(\n",
    "            liggar_df[[\"Alias\", \"Vardkontakt_InskrivningDatum\", \"Utskriven till\", \"Inlagd\"]].iterrows()\n",
    "    ):\n",
    "        sv = sv_df[(sv_df[\"Alias\"] == alias) & (index_date + timedelta(days=-1) <= sv_df[\"INDATUM\"]) & (sv_df[\"INDATUM\"] <= index_date + timedelta(days=1))]\n",
    "        print(f\"{alias}\\t{inlagd=}\\t{len(sv)=}\")\n",
    "        \n",
    "\n",
    "cols = [\"Alias\", \"SV_Discharge_Date\", \"SV_Discharge_HDIA\", \"OV_Date\", \"OV_Discharge_HDIA\"]\n",
    "\n",
    "associate_sos_entry_liggare(yrsel_liggare.reset_index(),sos_sluten,sos_oppen)"
   ]
  },
  {
   "cell_type": "code",
   "execution_count": null,
   "id": "8a52d4f4",
   "metadata": {},
   "outputs": [],
   "source": [
    "list(sos_sluten)"
   ]
  },
  {
   "cell_type": "code",
   "execution_count": null,
   "id": "90f8948e",
   "metadata": {},
   "outputs": [],
   "source": [
    "(liggaren[\"Inlagd\"].astype(str) + \"  ~  \" +liggaren[\"Utskriven till\"]).value_counts()"
   ]
  },
  {
   "cell_type": "code",
   "execution_count": null,
   "id": "6af0211f",
   "metadata": {},
   "outputs": [],
   "source": [
    "sos_sluten[sos_sluten[\"Alias\"] == 10170762]"
   ]
  },
  {
   "cell_type": "code",
   "execution_count": null,
   "id": "2111b7b5",
   "metadata": {},
   "outputs": [],
   "source": [
    "yrsel_liggare[yrsel_liggare[\"Inlagd\"] == 1]"
   ]
  },
  {
   "cell_type": "code",
   "execution_count": null,
   "id": "18c29d39",
   "metadata": {},
   "outputs": [],
   "source": [
    "sos_sluten[\"OP\"]"
   ]
  },
  {
   "cell_type": "markdown",
   "id": "cb006484",
   "metadata": {},
   "source": [
    "## Jakob/Daniel -- Geriatri"
   ]
  },
  {
   "cell_type": "code",
   "execution_count": null,
   "id": "50e4e89e",
   "metadata": {},
   "outputs": [],
   "source": [
    "geriatri_liggare = liggaren.sort_values(\"Vardkontakt_InskrivningDatum\").drop_duplicates(\"Alias\")\n",
    "print(f\"Antal unika patienter: {len(geriatri_liggare)}\")\n",
    "geriatri_liggare = geriatri_liggare[geriatri_liggare[\"Vardkontakt_PatientAlderVidInskrivning\"] >=75]\n",
    "print(f\"Antal unika patienter över 75: {len(geriatri_liggare)}\")"
   ]
  },
  {
   "cell_type": "code",
   "execution_count": null,
   "id": "bbe2c5ca",
   "metadata": {},
   "outputs": [],
   "source": [
    "a = liggaren[liggaren[\"Vardkontakt_PatientAlderVidInskrivning\"] >= 75][\"Alias\"]\n",
    "print(f\"Antal besök av patienter över 75: {len(a)}\")\n",
    "print(f\"Antal patienter med fler än 3 besök: {(a.value_counts() > 3).sum()}\")"
   ]
  },
  {
   "cell_type": "markdown",
   "id": "c3c6e924",
   "metadata": {},
   "source": [
    "## Ulf -- Descriptive"
   ]
  },
  {
   "cell_type": "code",
   "execution_count": 187,
   "id": "68dab771",
   "metadata": {},
   "outputs": [
    {
     "data": {
      "text/plain": [
       "['KontaktId',\n",
       " 'Alias',\n",
       " 'AktuellSjukhusId',\n",
       " 'Sjukhus_Namn',\n",
       " 'BesokOrsakId',\n",
       " 'BesokOrsak_Kod',\n",
       " 'BesokOrsak_Beskrivning',\n",
       " 'Vardkontakt_InskrivningDatum',\n",
       " 'Vardkontakt_UtskrivningDatum',\n",
       " 'Vardkontakt_PatientAlderVidInskrivning',\n",
       " 'Patient_Kon',\n",
       " 'Utskriven till',\n",
       " 'Inläggningsavdelning',\n",
       " 'Vårddtid på akuten i minuter',\n",
       " 'Tid till läkare på akuten i minuter',\n",
       " 'Första läkarkontakten på akuten',\n",
       " 'Avvikit mot rekommendation',\n",
       " 'Inlagd',\n",
       " 'Process_text',\n",
       " 'UppföljningParameter_text']"
      ]
     },
     "execution_count": 187,
     "metadata": {},
     "output_type": "execute_result"
    }
   ],
   "source": [
    "list(liggaren)"
   ]
  },
  {
   "cell_type": "code",
   "execution_count": 189,
   "id": "c0087a8d",
   "metadata": {},
   "outputs": [
    {
     "data": {
      "text/plain": [
       "-                 176850\n",
       "Ankomst           161345\n",
       "Nr.lapp-reg        79288\n",
       "Triage             37950\n",
       "VR                 26482\n",
       "                   ...  \n",
       "VPL AKM Team 2         1\n",
       "Närsjv/OBS             1\n",
       "Barntraumalarm         1\n",
       "CT CSK                 1\n",
       "Team 5                 1\n",
       "Name: Process_text, Length: 165, dtype: int64"
      ]
     },
     "execution_count": 189,
     "metadata": {},
     "output_type": "execute_result"
    }
   ],
   "source": [
    "liggaren[\"Process_text\"].value_counts()"
   ]
  },
  {
   "cell_type": "code",
   "execution_count": 199,
   "id": "a855dda6",
   "metadata": {},
   "outputs": [
    {
     "data": {
      "text/plain": [
       "Egen inställelse (Gående, egen bil, taxi och dyl.)    500332\n",
       "Ambulans                                              152191\n",
       "Name: AnkomstsättAkutvårdsregistrering, dtype: int64"
      ]
     },
     "execution_count": 199,
     "metadata": {},
     "output_type": "execute_result"
    }
   ],
   "source": [
    "svar[\"AnkomstsättAkutvårdsregistrering\"].value_counts()"
   ]
  },
  {
   "cell_type": "markdown",
   "id": "6d23a8d2",
   "metadata": {},
   "source": [
    "## Axel BRSM-AMI"
   ]
  },
  {
   "cell_type": "code",
   "execution_count": 45,
   "id": "ee1941bc",
   "metadata": {},
   "outputs": [
    {
     "data": {
      "text/plain": [
       "['KontaktId',\n",
       " 'Alias',\n",
       " 'AktuellSjukhusId',\n",
       " 'Sjukhus_Namn',\n",
       " 'BesokOrsakId',\n",
       " 'BesokOrsak_Kod',\n",
       " 'BesokOrsak_Beskrivning',\n",
       " 'Vardkontakt_InskrivningDatum',\n",
       " 'Vardkontakt_UtskrivningDatum',\n",
       " 'Vardkontakt_PatientAlderVidInskrivning',\n",
       " 'Patient_Kon',\n",
       " 'Utskriven till',\n",
       " 'Inläggningsavdelning',\n",
       " 'Vårddtid på akuten i minuter',\n",
       " 'Tid till läkare på akuten i minuter',\n",
       " 'Första läkarkontakten på akuten',\n",
       " 'Avvikit mot rekommendation',\n",
       " 'Inlagd',\n",
       " 'Process_text',\n",
       " 'UppföljningParameter_text']"
      ]
     },
     "execution_count": 45,
     "metadata": {},
     "output_type": "execute_result"
    }
   ],
   "source": [
    "list(liggaren)"
   ]
  },
  {
   "cell_type": "code",
   "execution_count": 50,
   "id": "25b1b500",
   "metadata": {},
   "outputs": [
    {
     "data": {
      "text/html": [
       "<div>\n",
       "<style scoped>\n",
       "    .dataframe tbody tr th:only-of-type {\n",
       "        vertical-align: middle;\n",
       "    }\n",
       "\n",
       "    .dataframe tbody tr th {\n",
       "        vertical-align: top;\n",
       "    }\n",
       "\n",
       "    .dataframe thead th {\n",
       "        text-align: right;\n",
       "    }\n",
       "</style>\n",
       "<table border=\"1\" class=\"dataframe\">\n",
       "  <thead>\n",
       "    <tr style=\"text-align: right;\">\n",
       "      <th></th>\n",
       "      <th>KontaktId</th>\n",
       "      <th>Alias</th>\n",
       "      <th>AktuellSjukhusId</th>\n",
       "      <th>Sjukhus_Namn</th>\n",
       "      <th>BesokOrsakId</th>\n",
       "      <th>BesokOrsak_Kod</th>\n",
       "      <th>BesokOrsak_Beskrivning</th>\n",
       "      <th>Vardkontakt_InskrivningDatum</th>\n",
       "      <th>Vardkontakt_UtskrivningDatum</th>\n",
       "      <th>Vardkontakt_PatientAlderVidInskrivning</th>\n",
       "      <th>Patient_Kon</th>\n",
       "      <th>Utskriven till</th>\n",
       "      <th>Inläggningsavdelning</th>\n",
       "      <th>Vårddtid på akuten i minuter</th>\n",
       "      <th>Tid till läkare på akuten i minuter</th>\n",
       "      <th>Första läkarkontakten på akuten</th>\n",
       "      <th>Avvikit mot rekommendation</th>\n",
       "      <th>Inlagd</th>\n",
       "      <th>Process_text</th>\n",
       "      <th>UppföljningParameter_text</th>\n",
       "    </tr>\n",
       "  </thead>\n",
       "  <tbody>\n",
       "    <tr>\n",
       "      <th>602607</th>\n",
       "      <td>K1596729</td>\n",
       "      <td>10233388</td>\n",
       "      <td>SE162321000255-O11414</td>\n",
       "      <td>SUS Malmö</td>\n",
       "      <td>120.0</td>\n",
       "      <td>BröstSm</td>\n",
       "      <td>Bröstsmärta/Bröstkorgssmärta UNS RETTS-A 5, RE...</td>\n",
       "      <td>2018-11-18 04:46:00</td>\n",
       "      <td>2018-11-18 11:28:00</td>\n",
       "      <td>80</td>\n",
       "      <td>M</td>\n",
       "      <td>Avdelning</td>\n",
       "      <td>Intensivv avd</td>\n",
       "      <td>402.0</td>\n",
       "      <td>87.0</td>\n",
       "      <td>2018-11-18 06:13:00</td>\n",
       "      <td>0</td>\n",
       "      <td>1</td>\n",
       "      <td>Triage</td>\n",
       "      <td>Ambulans</td>\n",
       "    </tr>\n",
       "  </tbody>\n",
       "</table>\n",
       "</div>"
      ],
      "text/plain": [
       "       KontaktId     Alias       AktuellSjukhusId Sjukhus_Namn  BesokOrsakId  \\\n",
       "602607  K1596729  10233388  SE162321000255-O11414    SUS Malmö         120.0   \n",
       "\n",
       "       BesokOrsak_Kod                             BesokOrsak_Beskrivning  \\\n",
       "602607        BröstSm  Bröstsmärta/Bröstkorgssmärta UNS RETTS-A 5, RE...   \n",
       "\n",
       "       Vardkontakt_InskrivningDatum Vardkontakt_UtskrivningDatum  \\\n",
       "602607          2018-11-18 04:46:00          2018-11-18 11:28:00   \n",
       "\n",
       "        Vardkontakt_PatientAlderVidInskrivning Patient_Kon Utskriven till  \\\n",
       "602607                                      80           M      Avdelning   \n",
       "\n",
       "       Inläggningsavdelning  Vårddtid på akuten i minuter  \\\n",
       "602607        Intensivv avd                         402.0   \n",
       "\n",
       "        Tid till läkare på akuten i minuter Första läkarkontakten på akuten  \\\n",
       "602607                                 87.0             2018-11-18 06:13:00   \n",
       "\n",
       "        Avvikit mot rekommendation  Inlagd Process_text  \\\n",
       "602607                           0       1       Triage   \n",
       "\n",
       "       UppföljningParameter_text  \n",
       "602607                  Ambulans  "
      ]
     },
     "execution_count": 50,
     "metadata": {},
     "output_type": "execute_result"
    }
   ],
   "source": [
    "liggaren[liggaren[\"KontaktId\"] == \"K1596729\"]"
   ]
  },
  {
   "cell_type": "code",
   "execution_count": 56,
   "id": "ba9fa0a4",
   "metadata": {},
   "outputs": [
    {
     "name": "stdout",
     "output_type": "stream",
     "text": [
      "Totalt antal besök: 51402\n",
      "51402\n",
      "50565\n",
      "50565\n"
     ]
    },
    {
     "name": "stderr",
     "output_type": "stream",
     "text": [
      "50565it [01:33, 542.89it/s]\n",
      "50565it [00:59, 852.13it/s]\n",
      "50565it [01:04, 785.58it/s]\n",
      "50565it [01:30, 558.96it/s]\n",
      "50565it [00:12, 3920.11it/s]\n",
      "50565it [13:15, 63.53it/s]\n",
      "50565it [15:35, 54.05it/s]\n",
      "50565it [04:23, 191.83it/s]\n"
     ]
    },
    {
     "name": "stdout",
     "output_type": "stream",
     "text": [
      "Time: t1-t0=2324.519427537918\n"
     ]
    }
   ],
   "source": [
    "LIGGARE_KEEP_COLUMNS=[\n",
    "    \"Vardkontakt_InskrivningDatum\", \"Sjukhus_Namn\", \"BesokOrsak_Kod\",\n",
    "    \"Patient_Kon\", \"Vardkontakt_PatientAlderVidInskrivning\",\n",
    "    \"Inlagd\", \"Utskriven till\", \"Vårddtid på akuten i minuter\", \"Tid till läkare på akuten i minuter\", \"Triagekategori\"\n",
    "]\n",
    "\n",
    "PREV_ICDS = list(sorted(set([\"A30-A49\",\"B96\",\"C34\",\"C43-C44\",\"C50\",\"C60-C63\",\"C64-C68\",\"C78\",\"C90\",\"D64\",\"E03\",\"E119\",\"E78\",\"E87\",\"F10\",\"F11\",\"F19\",\"F31\",\"F32\",\"F33\",\"F41\",\"F43\",\"F60\",\"F90\",\"G40\",\"G45\",\"H00-H06\",\"H15-H22\",\"H25-H28\",\"H30-H36\",\"H40-H42\",\"H43-H45\",\"H60-H62\",\"H65-H75\",\"H90-H95\",\"I109\",\"I209\",\"I214\",\"I251\",\"I252\",\"I259\",\"I350\",\"I480\",\"I482\",\"I489\",\"I509\",\"I639\",\"I693\",\"J159\",\"J189\",\"J441\",\"J449\",\"J459\",\"K922\",\"L00-L08\",\"L20-L30\",\"L40-L45\",\"L55-L59\",\"L60-L75\",\"L80-L99\",\"M05\",\"M16\",\"M17\",\"M17\",\"M48\",\"M48\",\"M54\",\"M75\",\"M79\",\"N10\",\"N18\",\"N18\",\"N20\",\"N20\",\"N39\",\"N39\",\"N40-N51\",\"N40-N51\",\"N80-N98\",\"N80-N98\",\"O20-O29\",\"O30-O48\",\"O60-O75\",\"O80-O84\"])))\n",
    "TARGET_OUTCOME_ICD_PREFIXES = [\"I200\", \"I21\", \"I22\"]\n",
    "OUTCOME_DAYS_AFTER_INDEX = [30]\n",
    "\n",
    "ATC_DAYS_BEFORE_INDEX = [180, 5*365]\n",
    "ATC_PREFIXES = [\"A01A\",\"A02BC\",\"A06AB\",\"A06AC\",\"A06AD\",\"A10AB\",\"A10AC\",\"A10AD\",\"A10AE\",\"A10BA\",\"A11C\",\"A11E\",\"A12A\",\"A12B\",\"B01AA03\",\"B01AC04\",\"B01AC06\",\"B01AF01\",\"B01AF02\",\"B03AA07\",\"B03BA01\",\"B03BB01\",\"C01AA05\",\"C01DA02\",\"C01DA14\",\"C03AA01\",\"C03CA01\",\"C03DA01\",\"C03EA01\",\"C07AB02\",\"C07AB03\",\"C07AB07\",\"C08CA01\",\"C08CA02\",\"C09AA02\",\"C09AA05\",\"C09CA01\",\"C09CA06\",\"C09DA01\",\"C10AA01\",\"C10AA05\",\"D01A\",\"D02A\",\"D07A\",\"G03A\",\"G03C\",\"G04B\",\"G04C\",\"H02AB\",\"H03AA\",\"J01AA\",\"J01CA\",\"J01CE\",\"J01CF\",\"J01MA\",\"J01XE\",\"L02B\",\"L04A\",\"M01AB\",\"M01AE\",\"M04AA\",\"M05BA\",\"N02AA\",\"N02AJ\",\"N02AX\",\"N02BE\",\"N02CC\",\"N03AF\",\"N03AG\",\"N03AX\",\"N04BA\",\"N04BC\",\"N05AH\",\"N05AX\",\"N05BA\",\"N05BB\",\"N05CD\",\"N05CF\",\"N05CM\",\"N06AA\",\"N06AB\",\"N06AX\",\"N06BA\",\"N06DA\",\"N06DX\",\"R01A\",\"R03AC\",\"R03AK\",\"R03BA\",\"R03BB\",\"R05CB\",\"R05FA\",\"R06AD\",\"R06AE\",\"R06AX\",\"S01A\",\"S01B\",\"S01E\",\"S01X\",\"S03C\"]\n",
    "\n",
    "BLOOD_SAMPLES = [\n",
    "    \"P-Troponin T\",\n",
    "    \"P-Kreatinin (enz)\",\n",
    "    \"P-Glukos\",\n",
    "    \"B-Hemoglobin (Hb)\",\n",
    "]\n",
    "BLOOD_SAMPLE_MAX_HOURS_AFTER_INDEX=12\n",
    "\n",
    "\n",
    "CUT = 500\n",
    "CUT = -1\n",
    "\n",
    "t0 = time.time()\n",
    "\n",
    "brsm_liggare = liggaren[liggaren[\"BesokOrsak_Kod\"] == \"BröstSm\"].copy()\n",
    "print(f\"Totalt antal besök: {len(brsm_liggare)}\")\n",
    "brsm_liggare = brsm_liggare.join(triage_df.set_index(\"KontaktId\"),\"KontaktId\")\n",
    "brsm_liggare[\"Triagekategori\"] = brsm_liggare[\"Triagekategori\"].fillna(\"--SAKNAS--\")\n",
    "brsm_liggare.loc[:,\"Vardkontakt_InskrivningDatum\"] = pd.to_datetime(brsm_liggare[\"Vardkontakt_InskrivningDatum\"]) # Cast\n",
    "print(len(brsm_liggare))\n",
    "brsm_liggare = brsm_liggare.set_index(\"Alias\").join(sos_nyckel.set_index(\"Alias\")) # join SoS key\n",
    "brsm_liggare = brsm_liggare[brsm_liggare[\"LopNr\"].notna()]  # Drop where there is no SoS entry.\n",
    "brsm_liggare.loc[:,\"LopNr\"] = brsm_liggare[\"LopNr\"].astype(int)  # Cast\n",
    "print(len(brsm_liggare))\n",
    "if CUT > 0:\n",
    "    brsm_liggare = brsm_liggare.iloc[:CUT]\n",
    "print(len(brsm_liggare))\n",
    "\n",
    "prev_diseases_ov = s1718_util.extract_previous_diagnoses_sos_ov(sos_oppen, brsm_liggare.reset_index(),PREV_ICDS)\n",
    "prev_diseases_sv = s1718_util.extract_previous_diagnoses_sos_sv(sos_sluten, brsm_liggare.reset_index(),PREV_ICDS)\n",
    "\n",
    "\n",
    "icd_outcomes_sv = s1718_util.extract_outcome_icds_sos(sos_sluten, brsm_liggare.reset_index(),\n",
    "                                                  TARGET_OUTCOME_ICD_PREFIXES,\n",
    "                                                  OUTCOME_DAYS_AFTER_INDEX,\n",
    "                                                     \"SV\")\n",
    "icd_outcomes_ov = s1718_util.extract_outcome_icds_sos(sos_oppen, brsm_liggare.reset_index(),\n",
    "                                                  TARGET_OUTCOME_ICD_PREFIXES,\n",
    "                                                  OUTCOME_DAYS_AFTER_INDEX,\n",
    "                                                     \"OV\")\n",
    "death = s1718_util.extract_death_sos_dors(sos_dors, brsm_liggare.reset_index(), \n",
    "                                         OUTCOME_DAYS_AFTER_INDEX)\n",
    "lm = s1718_util.extract_historical_atc_sos(sos_lakemedel, brsm_liggare.reset_index(),\n",
    "                                           ATC_DAYS_BEFORE_INDEX, ATC_PREFIXES)\n",
    "lb = s1718_util.extract_index_blood_samples(labb, brsm_liggare.reset_index(),\n",
    "                                            BLOOD_SAMPLES, BLOOD_SAMPLE_MAX_HOURS_AFTER_INDEX)\n",
    "\n",
    "\n",
    "out = pd.concat([brsm_liggare, prev_diseases_sv, prev_diseases_ov, lm, icd_outcomes_sv, icd_outcomes_ov, death, lb], axis=1)\n",
    "\n",
    "out.to_csv(\"brsm-U.csv\")\n",
    "\n",
    "t1 = time.time()\n",
    "print(f\"Time: {t1-t0=}\")"
   ]
  },
  {
   "cell_type": "markdown",
   "id": "f57f35fb",
   "metadata": {},
   "source": [
    "## MelanderDiabetes"
   ]
  },
  {
   "cell_type": "code",
   "execution_count": null,
   "id": "8f8eef10",
   "metadata": {},
   "outputs": [],
   "source": [
    "# Urval:\n",
    "# 1. Sökt för hyperglykemi (BlskrHög)\n",
    "# 2. Diabetesläkemedel inom 12m före besök (ATC kod börjar på A10)\n",
    "# 3. Diagnoskoder i det förflutna som indikerar diabetes (E10, E11, E12, E13, E14)\n",
    "# 4. P-glukos >= 11 i samband med besök"
   ]
  },
  {
   "cell_type": "code",
   "execution_count": 236,
   "id": "958fe851",
   "metadata": {},
   "outputs": [],
   "source": [
    "# 1.\n",
    "hyperglykemi_liggare = liggaren[liggaren[\"BesokOrsak_Kod\"] == \"BlskrHög\"]"
   ]
  },
  {
   "cell_type": "code",
   "execution_count": 237,
   "id": "36742d82",
   "metadata": {},
   "outputs": [],
   "source": [
    "# 2.\n",
    "diabetes_lakemedel = sos_lakemedel[sos_lakemedel[\"ATC\"].str.startswith(\"A10\")]"
   ]
  },
  {
   "cell_type": "code",
   "execution_count": 238,
   "id": "2cfb19ef",
   "metadata": {},
   "outputs": [],
   "source": [
    "# 3.\n",
    "diabetes_sluten = sos_sluten[~sos_sluten['hdia'].isna()]\n",
    "diabetes_sluten = diabetes_sluten[diabetes_sluten['hdia'].str.startswith(\"E1\")]"
   ]
  },
  {
   "cell_type": "code",
   "execution_count": 239,
   "id": "47feb7a0",
   "metadata": {},
   "outputs": [],
   "source": [
    "# 4.\n",
    "diabetes_labb = labb[(labb[\"Labanalys_Namn\"] == \"P-Glukos\")]\n",
    "diabetes_labb = diabetes_labb[(pd.to_numeric(diabetes_labb[\"Analyssvar_Varde\"], errors='coerce') >= 11)]"
   ]
  },
  {
   "cell_type": "code",
   "execution_count": 250,
   "id": "d5e527dd",
   "metadata": {},
   "outputs": [],
   "source": [
    "DANEHAMMAR_BESOKSORSAKER_LONG_LIST = [\"Anemi RETTS-A 48,RETTS-P 148\"]\n",
    "DANEHAMMAR_BLOOD_SAMPLES = []\n",
    "\n",
    "\n",
    "danehammar_liggare = liggaren[liggaren[\"BesokOrsak_Beskrivning\"].isin(DANEHAMMAR_BESOKSORSAKER_LONG_LIST)]\n"
   ]
  },
  {
   "cell_type": "code",
   "execution_count": 240,
   "id": "45c21ffc",
   "metadata": {},
   "outputs": [],
   "source": [
    "a_sok = set(hyperglykemi_liggare[\"Alias\"])\n",
    "a_lm = set(diabetes_lakemedel[\"Alias\"])\n",
    "a_sv = set(diabetes_sluten[\"Alias\"])\n",
    "a_labb = set(diabetes_labb[\"Alias\"])\n",
    "a_non_bs_union = a_sok | a_lm | a_sv\n",
    "a_union = a_sok | a_lm | a_sv | a_labb"
   ]
  },
  {
   "cell_type": "code",
   "execution_count": 241,
   "id": "e324934e",
   "metadata": {},
   "outputs": [
    {
     "name": "stdout",
     "output_type": "stream",
     "text": [
      "1356\n",
      "33697\n",
      "3544\n",
      "18970\n",
      "\n",
      "33955\n",
      "39795\n"
     ]
    }
   ],
   "source": [
    "print(len(a_sok))\n",
    "print(len(a_lm))\n",
    "print(len(a_sv))\n",
    "print(len(a_labb))\n",
    "print()\n",
    "print(len(a_non_bs_union))\n",
    "print(len(a_union))"
   ]
  },
  {
   "cell_type": "code",
   "execution_count": null,
   "id": "4db68152",
   "metadata": {},
   "outputs": [],
   "source": []
  },
  {
   "cell_type": "code",
   "execution_count": null,
   "id": "88be2c63",
   "metadata": {},
   "outputs": [],
   "source": [
    "print(len(set(liggaren[\"Alias\"])))\n",
    "print(len(liggaren))"
   ]
  },
  {
   "cell_type": "code",
   "execution_count": null,
   "id": "77b0a45f",
   "metadata": {},
   "outputs": [],
   "source": [
    "liggaren[\"Alias\"].isin(a_union).sum()"
   ]
  },
  {
   "cell_type": "markdown",
   "id": "3bc1c7e9",
   "metadata": {},
   "source": [
    "## Åtgärder"
   ]
  },
  {
   "cell_type": "code",
   "execution_count": null,
   "id": "45936519",
   "metadata": {},
   "outputs": [],
   "source": [
    "atgarder_30_dagar = pd.read_csv(FILES[\"MELIOR_Åtgärder30DagarEfterVårdkontakt_2017_2018.csv\"], sep=\"|\", encoding=\"ISO-8859-1\")\n",
    "atgarder_vid_kontakt = pd.read_csv(FILES[\"MELIOR_ÅtgärderVidVårdkontakt_2017_2018.csv\"], sep=\"|\", encoding=\"ISO-8859-1\")\n",
    "atgarder_till_2020 = pd.read_csv(FILES[\"MELIOR_PatientAtgarder_Efter_Vardkontakt_UtskrivningDatum_Till_20191231.csv\"], sep=\"|\", encoding=\"ISO-8859-1\")\n"
   ]
  },
  {
   "cell_type": "code",
   "execution_count": null,
   "id": "3b362917",
   "metadata": {},
   "outputs": [],
   "source": [
    "a = list(atgarder_30_dagar)\n",
    "b = list(atgarder_vid_kontakt)\n",
    "c = list(atgarder_till_2020)\n",
    "a"
   ]
  },
  {
   "cell_type": "code",
   "execution_count": null,
   "id": "5b80dd42",
   "metadata": {},
   "outputs": [],
   "source": [
    "b"
   ]
  },
  {
   "cell_type": "code",
   "execution_count": null,
   "id": "9d130617",
   "metadata": {},
   "outputs": [],
   "source": [
    "c"
   ]
  },
  {
   "cell_type": "code",
   "execution_count": null,
   "id": "313a07e8",
   "metadata": {},
   "outputs": [],
   "source": [
    "x = atgarder_30_dagar[\"PatientAtgard_Kod\"].value_counts()"
   ]
  },
  {
   "cell_type": "code",
   "execution_count": null,
   "id": "8644cd20",
   "metadata": {},
   "outputs": [],
   "source": [
    "atgarder_30_dagar.head()"
   ]
  },
  {
   "cell_type": "markdown",
   "id": "37ba96de",
   "metadata": {},
   "source": [
    "## Axel Check"
   ]
  },
  {
   "cell_type": "code",
   "execution_count": null,
   "id": "48098d23",
   "metadata": {},
   "outputs": [],
   "source": [
    "pat_165 = pd.read_csv(\"/home/sapfo/andersb/165_pat.txt\",sep=\"\\t\")\n",
    "pat_165"
   ]
  },
  {
   "cell_type": "code",
   "execution_count": null,
   "id": "f68f2597",
   "metadata": {},
   "outputs": [],
   "source": [
    "i200_pats = pd.read_csv(\"/home/sapfo/andersb/i200_only_melior.csv\")\n",
    "i200_pats"
   ]
  },
  {
   "cell_type": "code",
   "execution_count": null,
   "id": "c5c5c5ad",
   "metadata": {},
   "outputs": [],
   "source": [
    "distant_future = datetime(year=2025,month=12,day=31)\n",
    "\n",
    "diag_prefix=\"I200\"  # \"I21\"\n",
    "df = i200_pats # \"pat_165\"\n",
    "\n",
    "\n",
    "def lookup(alias, diag_date):\n",
    "    a = dfs[\"melior_pre_5yr\"][dfs[\"melior_pre_5yr\"][\"Alias\"] == alias].drop([\"TermId\", \"KontaktId\"], axis=1).fillna({\"VårdtillfälleFörDiagnos_SlutDatum\": \"n/a\"})\n",
    "    b = dfs[\"melior_kontakt\"][dfs[\"melior_kontakt\"][\"Alias\"] == alias].drop(\"KontaktId\", axis=1).fillna({\"VårdtillfälleFörDiagnos_SlutDatum\": \"n/a\"})\n",
    "    c = dfs[\"melior_post_30dagar\"][dfs[\"melior_post_30dagar\"][\"Alias\"] == alias].drop([\"TermId\", \"KontaktId\"], axis=1).fillna({\"VårdtillfälleFörDiagnos_SlutDatum\": \"n/a\"})\n",
    "\n",
    "    for df in [a, b, c]:\n",
    "        df[\"VårdtillfälleFörDiagnos_SlutDatum\"] = df[\"VårdtillfälleFörDiagnos_SlutDatum\"].replace(\"n/a\", str(distant_future))\n",
    "        df['vtkey'] = df[\"VårdtillfälleFörDiagnos_StartDatum\"] + \"~\" + df[\"VårdtillfälleFörDiagnos_SlutDatum\"]\n",
    "\n",
    "    vtkeys = set(pd.concat([a['vtkey'], b['vtkey'], c['vtkey']]))\n",
    "    m_table = {}\n",
    "\n",
    "    for vtkey in vtkeys:\n",
    "        v = \"\"\n",
    "        if (a['vtkey'] == vtkey).sum() > 0:\n",
    "            v += \"Pre-5-years<br/>\"\n",
    "        if (b['vtkey'] == vtkey).sum() > 0:\n",
    "            v += \"Contact<br/>\"\n",
    "        if (c['vtkey'] == vtkey).sum() > 0:\n",
    "            v += \"Post 30d<br/>\"\n",
    "        m_table[vtkey] = v\n",
    "\n",
    "    cat = pd.concat([a,b,c]).drop_duplicates()\n",
    "    \n",
    "    r = cat[(cat[\"Alias\"] == alias) & (cat[\"PatientDiagnos_ModifieradDatum\"] == diag_date)]\n",
    "    #x = r[\"VårdtillfälleFörDiagnos_SlutDatum\"].replace(\"n/a\", str(distant_future), inplace=True)\n",
    "    #r.loc[] = x\n",
    "    return r\n",
    "\n",
    "\n",
    "pats = defaultdict(list)\n",
    "counts = []\n",
    "counters = Counter()\n",
    "for k, row in df.iterrows():\n",
    "    alias = row[\"Alias_sk1718\"]\n",
    "    print(alias)\n",
    "    diag_date = row[\"diagnosis_date\"]\n",
    "    r = lookup(alias, diag_date)\n",
    "    diag_date = parse_iso8601_datetime(diag_date)\n",
    "    c = 0\n",
    "    index_date = parse_iso8601_datetime(row[\"pseudo\"].split(\" -- \")[0])\n",
    "    for k, r2 in r.iterrows():\n",
    "        diag = r2[\"PatientDiagnos_Kod\"]\n",
    "        if not diag.startswith(diag_prefix):\n",
    "            continue\n",
    "        c += 1\n",
    "        vardform = r2[\"VårdtillfälleFörDiagnos_VardformText\"]\n",
    "        vt_start = parse_iso8601_datetime(r2[\"VårdtillfälleFörDiagnos_StartDatum\"])\n",
    "        vt_end = parse_iso8601_datetime(r2[\"VårdtillfälleFörDiagnos_SlutDatum\"])\n",
    "        print(f'{r2[\"PatientDiagnos_ModifieradDatum\"]}\\t{diag}\\t{r2[\"Diagnostyp\"]}\\t{r2[\"AktivitetTyp\"]}\\t{vardform}')\n",
    "        index_start_diff = vt_start - diag_date\n",
    "        k = \"O\" if vardform == \"Öppenvård\" else \"S\"\n",
    "        k += \"_ErrEnd\" if vt_end < index_date else \"_OkEnd\"\n",
    "        #k += \"_ErrStart\" if index_start_diff > timedelta(days=30) else \"_OkStart\"\n",
    "        k2 = k+\"_\"+r2[\"AktivitetTyp\"]\n",
    "        counters[k] += 1\n",
    "        counters[k2] += 1\n",
    "        pats[k2].append(alias)\n",
    "\n",
    "    print()\n",
    "    counts.append(c)\n",
    "    \n",
    "print(counts)\n",
    "for k in sorted(counters.keys()):\n",
    "    print(f'{k}\\t{counters[k]}')\n",
    "#print(f\"Oppen: {oppen}\")\n",
    "#print(f'Sluten: {sluten}')\n",
    "for p in pats[\"S_OkEnd_Akutkliniken Läk\"]:\n",
    "    print(p)\n",
    "\n",
    "    "
   ]
  },
  {
   "cell_type": "markdown",
   "id": "0a4a7108",
   "metadata": {},
   "source": [
    "## DF check"
   ]
  },
  {
   "cell_type": "code",
   "execution_count": null,
   "id": "fb541a3f",
   "metadata": {},
   "outputs": [],
   "source": [
    "def list_cols(df):\n",
    "    cols = list(df)\n",
    "    for c in cols:\n",
    "        nz = len(df) - df[c].isna().sum()\n",
    "        unique_values = len(df[c].value_counts())\n",
    "        print(f'{c}\\t{df.dtypes[c]}\\t--label\\t{nz}\\t{unique_values}')\n",
    "\n",
    "list_cols(sos_dors)"
   ]
  },
  {
   "cell_type": "code",
   "execution_count": null,
   "id": "9de3aa0c",
   "metadata": {},
   "outputs": [],
   "source": [
    "sos_dors[\"LK\"].value_counts()"
   ]
  },
  {
   "cell_type": "markdown",
   "id": "44e57655",
   "metadata": {},
   "source": [
    "## BOTTOM"
   ]
  },
  {
   "cell_type": "code",
   "execution_count": null,
   "id": "e6fd45f4",
   "metadata": {},
   "outputs": [],
   "source": []
  },
  {
   "cell_type": "code",
   "execution_count": null,
   "id": "de4ce02e",
   "metadata": {},
   "outputs": [],
   "source": []
  },
  {
   "cell_type": "code",
   "execution_count": null,
   "id": "f487e732",
   "metadata": {},
   "outputs": [],
   "source": []
  }
 ],
 "metadata": {
  "kernelspec": {
   "display_name": "Python 3 (ipykernel)",
   "language": "python",
   "name": "python3"
  },
  "language_info": {
   "codemirror_mode": {
    "name": "ipython",
    "version": 3
   },
   "file_extension": ".py",
   "mimetype": "text/x-python",
   "name": "python",
   "nbconvert_exporter": "python",
   "pygments_lexer": "ipython3",
   "version": "3.8.2"
  },
  "toc": {
   "base_numbering": 1,
   "nav_menu": {},
   "number_sections": true,
   "sideBar": true,
   "skip_h1_title": false,
   "title_cell": "Table of Contents",
   "title_sidebar": "Contents",
   "toc_cell": false,
   "toc_position": {
    "height": "calc(100% - 180px)",
    "left": "10px",
    "top": "150px",
    "width": "191px"
   },
   "toc_section_display": true,
   "toc_window_display": true
  }
 },
 "nbformat": 4,
 "nbformat_minor": 5
}
